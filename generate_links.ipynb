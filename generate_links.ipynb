{
 "cells": [
  {
   "cell_type": "code",
   "execution_count": 341,
   "metadata": {},
   "outputs": [],
   "source": [
    "# generate links / json states programatically by cell type or anything, probably hack-y but it works\n",
    "from caveclient import CAVEclient\n",
    "import datetime\n",
    "import pandas as pd\n",
    "import numpy as np\n",
    "\n",
    "client = CAVEclient()\n",
    "datastack_name = 'fanc_production_mar2021'\n",
    "client = CAVEclient(datastack_name)\n",
    "client.materialize.version = 604\n",
    "timestamp = datetime.datetime.fromtimestamp(1685002201.254304)"
   ]
  },
  {
   "cell_type": "code",
   "execution_count": 337,
   "metadata": {},
   "outputs": [],
   "source": [
    "ngl_base = 'https://neuromancer-seung-import.appspot.com/' # this will point to the public bucket\n"
   ]
  },
  {
   "cell_type": "code",
   "execution_count": 798,
   "metadata": {},
   "outputs": [],
   "source": [
    "def make_json(name, seg_ids):\n",
    "    state = {\n",
    "        \"layers\": [\n",
    "            {\n",
    "            \"source\": \"graphene://https://cave.fanc-fly.com/segmentation/table/mar2021_prod\",\n",
    "            \"type\": \"segmentation_with_graph\",\n",
    "            \"selectedAlpha\": 0.3,\n",
    "            \"segments\": seg_ids,\n",
    "            \"skeletonRendering\": {\n",
    "                \"mode2d\": \"lines_and_points\",\n",
    "                \"mode3d\": \"lines\"\n",
    "            },\n",
    "            \"graphOperationMarker\": [\n",
    "                {\n",
    "                \"annotations\": [],\n",
    "                \"tags\": []\n",
    "                },\n",
    "                {\n",
    "                \"annotations\": [],\n",
    "                \"tags\": []\n",
    "                }\n",
    "            ],\n",
    "            \"pathFinder\": {\n",
    "                \"color\": \"#ffff00\",\n",
    "                \"pathObject\": {\n",
    "                \"annotationPath\": {\n",
    "                    \"annotations\": [],\n",
    "                    \"tags\": []\n",
    "                },\n",
    "                \"hasPath\": False\n",
    "                }\n",
    "            },\n",
    "            \"name\": name\n",
    "            },\n",
    "            {\n",
    "            \"type\": \"segmentation\",\n",
    "            \"mesh\": \"precomputed://gs://lee-lab_female-adult-nerve-cord/alignmentV4/volume_meshes/meshes\",\n",
    "            \"objectAlpha\": 0.1,\n",
    "            \"hideSegmentZero\": False,\n",
    "            \"ignoreSegmentInteractions\": True,\n",
    "            \"segmentColors\": {\n",
    "                \"1\": \"#bfbfbf\",\n",
    "                \"2\": \"#d343d6\"\n",
    "            },\n",
    "            \"segments\": [\n",
    "                \"1\",\n",
    "                \"2\"\n",
    "            ],\n",
    "            \"skeletonRendering\": {\n",
    "                \"mode2d\": \"lines_and_points\",\n",
    "                \"mode3d\": \"lines\"\n",
    "            },\n",
    "            \"name\": \"neuropil\"\n",
    "            }\n",
    "        ],\n",
    "        \"navigation\": {\n",
    "            \"pose\": {\n",
    "            \"position\": {\n",
    "                \"voxelSize\": [\n",
    "                4.300000190734863,\n",
    "                4.300000190734863,\n",
    "                45\n",
    "                ],\n",
    "                \"voxelCoordinates\": [\n",
    "                38930,\n",
    "                138652,\n",
    "                388\n",
    "                ]\n",
    "            }\n",
    "            },\n",
    "            \"zoomFactor\": 2\n",
    "        },\n",
    "        \"showAxisLines\": False,\n",
    "        \"showDefaultAnnotations\": False,\n",
    "        \"perspectiveOrientation\": [\n",
    "            0,\n",
    "            1,\n",
    "            0,\n",
    "            0\n",
    "        ],\n",
    "        \"perspectiveZoom\": 7704.152500126457,\n",
    "        \"showSlices\": False,\n",
    "        \"selectedLayer\": {\n",
    "            \"layer\": \"neuropil\"\n",
    "        },\n",
    "        \"layout\": {\n",
    "            \"type\": \"3d\",\n",
    "            \"orthographicProjection\": True\n",
    "        }\n",
    "        }\n",
    "\n",
    "    return state"
   ]
  },
  {
   "cell_type": "code",
   "execution_count": 389,
   "metadata": {},
   "outputs": [],
   "source": [
    "# import dataframe\n",
    "wing_df = pd.read_pickle('preMN_to_MN_wing_v604.pkl')"
   ]
  },
  {
   "cell_type": "code",
   "execution_count": 799,
   "metadata": {},
   "outputs": [],
   "source": [
    "# generate a link based on a cell type\n",
    "# only for local and intersegmental preMNs\n",
    "\n",
    "idx = pd.IndexSlice\n",
    "df = wing_df.loc[idx[:,:,:,['local','local_intersegmental'],:]].reset_index() # group by cell type\n",
    "\n",
    "cell_types = df.cell_type.unique()\n",
    "\n",
    "for cell_type in cell_types[9:10]:\n",
    "    cell_type_label = str(cell_type)\n",
    "    seg_ids = df[df.cell_type.isin([cell_type_label])].pre_pt_root_id.to_list()\n",
    "    formatted_ids = [str(x) for x in seg_ids]\n",
    "    # sb = StateBuilder(layers = [seg_layer,vol_layer_config], resolution=[4.3,4.3,45] , view_kws=view_options)\n",
    "    \n"
   ]
  },
  {
   "cell_type": "code",
   "execution_count": 800,
   "metadata": {},
   "outputs": [],
   "source": [
    "state = make_json(name = cell_type_label,\n",
    "                   seg_ids = formatted_ids)"
   ]
  },
  {
   "cell_type": "code",
   "execution_count": 801,
   "metadata": {},
   "outputs": [
    {
     "data": {
      "text/plain": [
       "{'layers': [{'source': 'graphene://https://cave.fanc-fly.com/segmentation/table/mar2021_prod',\n",
       "   'type': 'segmentation_with_graph',\n",
       "   'selectedAlpha': 0.3,\n",
       "   'segments': ['648518346475198520',\n",
       "    '648518346496932524',\n",
       "    '648518346486488241',\n",
       "    '648518346482660393',\n",
       "    '648518346484500995',\n",
       "    '648518346494164871',\n",
       "    '648518346509933862',\n",
       "    '648518346511783024',\n",
       "    '648518346480341307',\n",
       "    '648518346487932240',\n",
       "    '648518346477534222',\n",
       "    '648518346514170078',\n",
       "    '648518346486727577',\n",
       "    '648518346492596411',\n",
       "    '648518346488766477',\n",
       "    '648518346486175586',\n",
       "    '648518346478681684',\n",
       "    '648518346491367354',\n",
       "    '648518346480946176'],\n",
       "   'skeletonRendering': {'mode2d': 'lines_and_points', 'mode3d': 'lines'},\n",
       "   'graphOperationMarker': [{'annotations': [], 'tags': []},\n",
       "    {'annotations': [], 'tags': []}],\n",
       "   'pathFinder': {'color': '#ffff00',\n",
       "    'pathObject': {'annotationPath': {'annotations': [], 'tags': []},\n",
       "     'hasPath': False}},\n",
       "   'name': '2A'},\n",
       "  {'type': 'segmentation',\n",
       "   'mesh': 'precomputed://gs://lee-lab_female-adult-nerve-cord/alignmentV4/volume_meshes/meshes',\n",
       "   'objectAlpha': 0.1,\n",
       "   'hideSegmentZero': False,\n",
       "   'ignoreSegmentInteractions': True,\n",
       "   'segmentColors': {'1': '#bfbfbf', '2': '#d343d6'},\n",
       "   'segments': ['1', '2'],\n",
       "   'skeletonRendering': {'mode2d': 'lines_and_points', 'mode3d': 'lines'},\n",
       "   'name': 'neuropil'}],\n",
       " 'navigation': {'pose': {'position': {'voxelSize': [4.300000190734863,\n",
       "     4.300000190734863,\n",
       "     45],\n",
       "    'voxelCoordinates': [38930, 138652, 388]}},\n",
       "  'zoomFactor': 2},\n",
       " 'showAxisLines': False,\n",
       " 'showDefaultAnnotations': False,\n",
       " 'perspectiveOrientation': [0, 1, 0, 0],\n",
       " 'perspectiveZoom': 7704.152500126457,\n",
       " 'showSlices': False,\n",
       " 'selectedLayer': {'layer': 'neuropil'},\n",
       " 'layout': {'type': '3d', 'orthographicProjection': True}}"
      ]
     },
     "execution_count": 801,
     "metadata": {},
     "output_type": "execute_result"
    }
   ],
   "source": [
    "state"
   ]
  },
  {
   "cell_type": "code",
   "execution_count": null,
   "metadata": {},
   "outputs": [],
   "source": []
  },
  {
   "cell_type": "code",
   "execution_count": 802,
   "metadata": {},
   "outputs": [
    {
     "data": {
      "text/plain": [
       "5986275473489920"
      ]
     },
     "execution_count": 802,
     "metadata": {},
     "output_type": "execute_result"
    }
   ],
   "source": [
    "new_id = client.state.upload_state_json(state)\n",
    "new_id"
   ]
  },
  {
   "cell_type": "code",
   "execution_count": 803,
   "metadata": {},
   "outputs": [
    {
     "data": {
      "text/plain": [
       "'https://neuromancer-seung-import.appspot.com/?json_url=https://global.daf-apis.com/nglstate/api/v1/5986275473489920'"
      ]
     },
     "execution_count": 803,
     "metadata": {},
     "output_type": "execute_result"
    }
   ],
   "source": [
    "client.state.build_neuroglancer_url(new_id, ngl_base)"
   ]
  }
 ],
 "metadata": {
  "kernelspec": {
   "display_name": ".fanc_env",
   "language": "python",
   "name": "python3"
  },
  "language_info": {
   "codemirror_mode": {
    "name": "ipython",
    "version": 3
   },
   "file_extension": ".py",
   "mimetype": "text/x-python",
   "name": "python",
   "nbconvert_exporter": "python",
   "pygments_lexer": "ipython3",
   "version": "3.9.6"
  },
  "orig_nbformat": 4
 },
 "nbformat": 4,
 "nbformat_minor": 2
}
