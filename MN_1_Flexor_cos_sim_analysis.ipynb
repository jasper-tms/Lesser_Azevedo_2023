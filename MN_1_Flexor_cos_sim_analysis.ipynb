{
 "cells": [
  {
   "cell_type": "code",
   "execution_count": null,
   "metadata": {},
   "outputs": [],
   "source": [
    "import os\n",
    "import utils\n",
    "import connectome_create\n",
    "# viz_method = one of ['itkwidgets', 'vtk']\n",
    "viz_method = 'vtk'\n",
    "\n",
    "# import some of our favorite packages\n",
    "import pandas as pd\n",
    "import numpy as np\n",
    "import os\n",
    "import matplotlib.pyplot as plt\n",
    "import seaborn as sns\n",
    "import re\n",
    "import warnings\n",
    "\n",
    "%matplotlib inline\n",
    "from sklearn.metrics.pairwise import cosine_similarity\n",
    "from sklearn.cluster import AgglomerativeClustering\n",
    "import nglui.statebuilder as ngstbld\n",
    "\n",
    "# # this is the EM specific package for querying the EM data\n",
    "from caveclient import CAVEclient\n",
    "\n",
    "\n",
    "# from meshparty import trimesh_io, trimesh_vtk\n",
    "# from meshparty import skeletonize, skeleton_io, skeleton\n",
    "# import cloudvolume\n",
    "\n",
    "%load_ext autoreload\n",
    "%autoreload 2"
   ]
  },
  {
   "cell_type": "code",
   "execution_count": null,
   "metadata": {},
   "outputs": [],
   "source": [
    "# from pathlib import Path\n",
    "# import json\n",
    "\n",
    "# with open(Path.home() / '.cloudvolume/secrets/'/'cave-secret.json') as f:\n",
    "#         tokens = json.load(f)\n",
    "        \n",
    "# seg_source = 'graphene://https://cave.fanc-fly.com/segmentation/table/mar2021_prod'\n",
    "# cv = cloudvolume.CloudVolume(cloudpath=seg_source, use_https=True, secrets=tokens)"
   ]
  },
  {
   "cell_type": "code",
   "execution_count": null,
   "metadata": {
    "tags": []
   },
   "outputs": [],
   "source": [
    "datastack_name = 'fanc_production_mar2021'\n",
    "\n",
    "client = CAVEclient(datastack_name)"
   ]
  },
  {
   "cell_type": "code",
   "execution_count": null,
   "metadata": {
    "tags": []
   },
   "outputs": [],
   "source": [
    "# client = CAVEclient()\n",
    "\n",
    "# # if not os.path.isfile(os.path.expanduser(\"~/.cloudvolume/secrets/cave-secret.json\")):\n",
    "# client.auth.get_new_token(open=True)"
   ]
  },
  {
   "cell_type": "code",
   "execution_count": null,
   "metadata": {},
   "outputs": [],
   "source": [
    "# if you have not yet setup this computer, uncomment this below line\n",
    "# paste the token from the website in, and run the line\n",
    "\n",
    "# client.auth.save_token(token=\"c14cd7a3e18a1a697716a399afbf5778\", overwrite=True)\n",
    "\n",
    "# then comment or delete the line as you don't need to run it on this computer  again"
   ]
  },
  {
   "attachments": {},
   "cell_type": "markdown",
   "metadata": {
    "tags": []
   },
   "source": [
    "# Load Motor neuron table"
   ]
  },
  {
   "cell_type": "code",
   "execution_count": null,
   "metadata": {
    "tags": []
   },
   "outputs": [],
   "source": [
    "pre_to_mn_df = connectome_create.load_pre_to_mn_df(ext='matched_typed_with_nt')\n",
    "pre_to_mn_df.shape\n",
    "pre_to_mn_df.sum(axis=0).sum()"
   ]
  },
  {
   "cell_type": "code",
   "execution_count": null,
   "metadata": {},
   "outputs": [],
   "source": [
    "pre_to_mn_df.columns"
   ]
  },
  {
   "cell_type": "code",
   "execution_count": null,
   "metadata": {},
   "outputs": [],
   "source": [
    "All = slice(None)\n",
    "\n",
    "pre_to_mn_df.loc[:,('L','Accessory','coxa','flex',All,'AcPst')].columns.get_level_values('segID').to_list()"
   ]
  },
  {
   "cell_type": "code",
   "execution_count": null,
   "metadata": {},
   "outputs": [],
   "source": [
    "pre_to_mn_df.loc[:,('L','Leg','coxa','extend')].columns.get_level_values('segID').to_list()"
   ]
  },
  {
   "cell_type": "code",
   "execution_count": null,
   "metadata": {},
   "outputs": [],
   "source": [
    "pre_to_mn_df.loc[:,('L','Leg','coxa','extend')].columns.get_level_values('segID').to_list()"
   ]
  },
  {
   "cell_type": "code",
   "execution_count": null,
   "metadata": {},
   "outputs": [],
   "source": [
    "pre_to_mn_df.loc[:,('L','Leg','coxa','flex')].columns.get_level_values('segID').to_list()"
   ]
  },
  {
   "cell_type": "code",
   "execution_count": null,
   "metadata": {},
   "outputs": [],
   "source": [
    "pre_to_mn_df.loc[:,('L','Leg','trochanter',All)].columns.get_level_values('segID').to_list()"
   ]
  },
  {
   "cell_type": "code",
   "execution_count": null,
   "metadata": {},
   "outputs": [],
   "source": [
    "pre_to_mn_df.loc[:,('L','Leg','femur','extend')].columns.get_level_values('segID').to_list()"
   ]
  },
  {
   "cell_type": "code",
   "execution_count": null,
   "metadata": {},
   "outputs": [],
   "source": [
    "pre_to_mn_df.loc[:,('L','Leg','femur','flex','main_tibia_flexor')].columns.get_level_values('segID').to_list()"
   ]
  },
  {
   "cell_type": "code",
   "execution_count": null,
   "metadata": {},
   "outputs": [],
   "source": [
    "pre_to_mn_df.loc[:,('L','Leg','femur','flex','auxiliary_tibia_flexor','Bslow')].columns.get_level_values('segID').to_list()"
   ]
  },
  {
   "cell_type": "code",
   "execution_count": null,
   "metadata": {},
   "outputs": [],
   "source": [
    "pre_to_mn_df.loc[:,('L','Leg','femur','flex','auxiliary_tibia_flexor',['A1','A2','E'])].columns.get_level_values('segID').to_list()"
   ]
  },
  {
   "cell_type": "code",
   "execution_count": null,
   "metadata": {},
   "outputs": [],
   "source": [
    "pre_to_mn_df.loc[:,('L','Leg','ltm')].columns.get_level_values('segID').to_list()"
   ]
  },
  {
   "cell_type": "code",
   "execution_count": null,
   "metadata": {},
   "outputs": [],
   "source": [
    "pre_to_mn_df.loc[:,('L','Leg','tibia')].columns.get_level_values('segID').to_list()"
   ]
  },
  {
   "cell_type": "code",
   "execution_count": null,
   "metadata": {},
   "outputs": [],
   "source": [
    "pre_to_mn_df.groupby(level=[0]).size()\n"
   ]
  },
  {
   "cell_type": "code",
   "execution_count": null,
   "metadata": {},
   "outputs": [],
   "source": [
    "# mn_inputs_df = client.materialize.synapse_query(post_ids = [648518346503918688],timestamp=connectome_create.get_timestamp())\n",
    "# mn_inputs_df.head()\n",
    "# mn_inputs_df.shape"
   ]
  },
  {
   "cell_type": "code",
   "execution_count": null,
   "metadata": {},
   "outputs": [],
   "source": [
    "pre_to_mn_df\n"
   ]
  },
  {
   "cell_type": "code",
   "execution_count": null,
   "metadata": {},
   "outputs": [],
   "source": [
    "\n",
    "mpool_dict = utils.get_motor_pool_tuple_dict()\n",
    "pool_keys = [\n",
    "    'thorax_swing',\n",
    "    'thorax_stance',\n",
    "    'trochanter_extension',\n",
    "    'trochanter_flexion',\n",
    "    'femur_reductor',\n",
    "    'tibia_extensor',\n",
    "    'main_tibia_flexor',      # main_tibia_flexor for both main and A groups, or main_tibia_flexor_muscle for the muscle\n",
    "    'auxiliary_tibia_flexor_A',\n",
    "    'auxiliary_tibia_flexor_B',\n",
    "    'auxiliary_tibia_flexor_E',\n",
    "    'ltm',\n",
    "    'tarsus_depressor_med_venU',\n",
    "    'tarsus_depressor_noid',\n",
    "    ]\n",
    "pre_to_mn_df.head()\n",
    "\n",
    "new_idx = utils.sort_segment_fcn_index(pre_to_mn_df.columns)\n",
    "pre_to_mn_df = pre_to_mn_df[new_idx]\n",
    "\n",
    "pre_to_mn_df.head()"
   ]
  },
  {
   "cell_type": "code",
   "execution_count": null,
   "metadata": {},
   "outputs": [],
   "source": [
    "%config InlineBackend.figure_formats = ['png']\n",
    "%matplotlib inline"
   ]
  },
  {
   "cell_type": "code",
   "execution_count": null,
   "metadata": {},
   "outputs": [],
   "source": [
    "All = slice(None)\n",
    "pre_to_mn_df.loc[('local','tibia_extensor'),:].index.get_level_values('segID').to_list()"
   ]
  },
  {
   "attachments": {},
   "cell_type": "markdown",
   "metadata": {},
   "source": [
    "# Cosine similarity examples in paper"
   ]
  },
  {
   "cell_type": "code",
   "execution_count": null,
   "metadata": {},
   "outputs": [],
   "source": [
    "a = np.array([[0.0291 ,0.0437 ,0.0656] , [0.0423 ,0.0635 ,0.0953], [0.0635 ,0.0953  ,0.1429]])\n",
    "a = np.round(a/np.min(a)*10)\n",
    "a[0,0] = a[0,0] + 1\n",
    "a[0,1] = a[0,1] + 2 \n",
    "a[0,2] = a[0,2] - 10\n",
    "print(a)\n",
    "sim_mat = cosine_similarity(a)\n",
    "sim_mat"
   ]
  },
  {
   "cell_type": "code",
   "execution_count": null,
   "metadata": {},
   "outputs": [],
   "source": [
    "a = np.array([[0.0291 ,0.0437 ,0.0656] , [0.0423 ,0.0635 ,0.0953], [0.0635 ,0.0953  ,0.1429]])\n",
    "a = np.round(a/np.min(a)*10)\n",
    "temp = a[0,0]\n",
    "a[0,0] = a[2,2]\n",
    "a[2,2] = temp\n",
    "print(a)\n",
    "sim_mat = cosine_similarity(a)\n",
    "sim_mat"
   ]
  },
  {
   "cell_type": "code",
   "execution_count": null,
   "metadata": {},
   "outputs": [],
   "source": [
    "a = np.array([[30., 5., 5.] , [5., 30., 30.], [5.,30.,5.]])\n",
    "# a = np.round(a/np.min(a)*10)\n",
    "print(a)\n",
    "sim_mat = cosine_similarity(a)\n",
    "sim_mat"
   ]
  },
  {
   "cell_type": "code",
   "execution_count": null,
   "metadata": {},
   "outputs": [],
   "source": []
  },
  {
   "attachments": {},
   "cell_type": "markdown",
   "metadata": {},
   "source": [
    "# Cosine similarity matrices"
   ]
  },
  {
   "attachments": {},
   "cell_type": "markdown",
   "metadata": {},
   "source": [
    "## All"
   ]
  },
  {
   "cell_type": "code",
   "execution_count": null,
   "metadata": {},
   "outputs": [],
   "source": [
    "# Cluster according to everything but fragments\n",
    "mn_mi = pre_to_mn_df.columns.to_frame()\n",
    "lbls = utils.mn_labels(mn_mi,depth='rank')\n",
    "\n",
    "sim_mat = cosine_similarity(pre_to_mn_df.to_numpy().transpose())\n",
    "fig = plt.figure(1, figsize = [6,6])\n",
    "ax = sns.heatmap(sim_mat, xticklabels=mn_mi.segID.to_list(), yticklabels=lbls,cmap=plt.get_cmap('Greys'))\n",
    "ax.xaxis.set_ticks_position('top')\n",
    "cbar = ax.collections[0].colorbar\n",
    "ax.set_xticklabels(ax.get_xticklabels(),rotation = 90)\n",
    "\n",
    "# here set the labelsize by 20\n",
    "cbar.ax.tick_params(labelsize=20)\n",
    "cbar.set_label(label = 'cosine similarity', size=24)\n",
    "plt.xlabel('Motor Neurons', fontsize =18)\n",
    "plt.ylabel('Motor Neurons', fontsize =18)\n",
    "plt.yticks(fontsize = 16)\n",
    "plt.xticks(fontsize = 16)\n",
    "plt.show()\n",
    "\n",
    "fig.savefig('./figpanels/cos_sim_all_grayscale.svg',format='svg')"
   ]
  },
  {
   "attachments": {},
   "cell_type": "markdown",
   "metadata": {},
   "source": [
    "## Local"
   ]
  },
  {
   "cell_type": "code",
   "execution_count": null,
   "metadata": {},
   "outputs": [],
   "source": [
    "# Cluster according to everything but fragments\n",
    "mn_mi = pre_to_mn_df.columns.to_frame()\n",
    "lbls = utils.mn_labels(mn_mi,depth='rank')\n",
    "\n",
    "sim_mat = cosine_similarity(pre_to_mn_df.loc['local',:].to_numpy().transpose())\n",
    "fig = plt.figure(1, figsize = [6,6])\n",
    "ax = sns.heatmap(sim_mat, xticklabels=mn_mi.segID.to_list(), yticklabels=lbls,cmap=plt.get_cmap('Greys'))\n",
    "ax.xaxis.set_ticks_position('top')\n",
    "cbar = ax.collections[0].colorbar\n",
    "ax.set_xticklabels(ax.get_xticklabels(),rotation = 90)\n",
    "\n",
    "# here set the labelsize by 20\n",
    "cbar.ax.tick_params(labelsize=20)\n",
    "cbar.set_label(label = 'cosine similarity', size=24)\n",
    "plt.xlabel('Motor Neurons', fontsize =18)\n",
    "plt.ylabel('Motor Neurons', fontsize =18)\n",
    "plt.yticks(fontsize = 16)\n",
    "plt.xticks(fontsize = 16)\n",
    "plt.show()\n",
    "\n",
    "fig.savefig('./figpanels/cos_sim_local_grayscale.svg',format='svg')"
   ]
  },
  {
   "attachments": {},
   "cell_type": "markdown",
   "metadata": {},
   "source": [
    "## Intersegmental"
   ]
  },
  {
   "cell_type": "code",
   "execution_count": null,
   "metadata": {},
   "outputs": [],
   "source": [
    "# Cluster according to everything but fragments\n",
    "mn_mi = pre_to_mn_df.columns.to_frame()\n",
    "lbls = utils.mn_labels(mn_mi,depth='rank')\n",
    "\n",
    "sim_mat = cosine_similarity(pre_to_mn_df.loc['intersegmental',:].to_numpy().transpose())\n",
    "fig = plt.figure(1, figsize = [6,6])\n",
    "ax = sns.heatmap(sim_mat, xticklabels=mn_mi.segID.to_list(), yticklabels=lbls,cmap=plt.get_cmap('Greys'))\n",
    "ax.xaxis.set_ticks_position('top')\n",
    "cbar = ax.collections[0].colorbar\n",
    "ax.set_xticklabels(ax.get_xticklabels(),rotation = 90)\n",
    "\n",
    "# here set the labelsize by 20\n",
    "cbar.ax.tick_params(labelsize=20)\n",
    "cbar.set_label(label = 'cosine similarity', size=24)\n",
    "plt.xlabel('Motor Neurons', fontsize =18)\n",
    "plt.ylabel('Motor Neurons', fontsize =18)\n",
    "plt.yticks(fontsize = 16)\n",
    "plt.xticks(fontsize = 16)\n",
    "plt.show()\n",
    "\n",
    "fig.savefig('./figpanels/cos_sim_intersegmental_grayscale.svg',format='svg')"
   ]
  },
  {
   "attachments": {},
   "cell_type": "markdown",
   "metadata": {},
   "source": [
    "## Descending"
   ]
  },
  {
   "cell_type": "code",
   "execution_count": null,
   "metadata": {},
   "outputs": [],
   "source": [
    "# Cluster according to everything but fragments\n",
    "mn_mi = pre_to_mn_df.columns.to_frame()\n",
    "lbls = utils.mn_labels(mn_mi,depth='rank')\n",
    "\n",
    "sim_mat = cosine_similarity(pre_to_mn_df.loc['descending',:].to_numpy().transpose())\n",
    "fig = plt.figure(1, figsize = [6,6])\n",
    "ax = sns.heatmap(sim_mat, xticklabels=mn_mi.segID.to_list(), yticklabels=lbls,cmap=plt.get_cmap('Greys'))\n",
    "ax.xaxis.set_ticks_position('top')\n",
    "cbar = ax.collections[0].colorbar\n",
    "ax.set_xticklabels(ax.get_xticklabels(),rotation = 90)\n",
    "\n",
    "# here set the labelsize by 20\n",
    "cbar.ax.tick_params(labelsize=20)\n",
    "cbar.set_label(label = 'cosine similarity', size=24)\n",
    "plt.xlabel('Motor Neurons', fontsize =18)\n",
    "plt.ylabel('Motor Neurons', fontsize =18)\n",
    "plt.yticks(fontsize = 16)\n",
    "plt.xticks(fontsize = 16)\n",
    "plt.show()\n",
    "\n",
    "fig.savefig('./figpanels/cos_sim_descending_grayscale.svg',format='svg')"
   ]
  },
  {
   "attachments": {},
   "cell_type": "markdown",
   "metadata": {},
   "source": [
    "## Ascending"
   ]
  },
  {
   "cell_type": "code",
   "execution_count": null,
   "metadata": {},
   "outputs": [],
   "source": [
    "# Cluster according to everything but fragments\n",
    "mn_mi = pre_to_mn_df.columns.to_frame()\n",
    "lbls = utils.mn_labels(mn_mi,depth='rank')\n",
    "\n",
    "sim_mat = cosine_similarity(pre_to_mn_df.loc['ascending',:].to_numpy().transpose())\n",
    "fig = plt.figure(1, figsize = [6,6])\n",
    "ax = sns.heatmap(sim_mat, xticklabels=mn_mi.segID.to_list(), yticklabels=lbls,cmap=plt.get_cmap('Greys'))\n",
    "ax.xaxis.set_ticks_position('top')\n",
    "cbar = ax.collections[0].colorbar\n",
    "ax.set_xticklabels(ax.get_xticklabels(),rotation = 90)\n",
    "\n",
    "# here set the labelsize by 20\n",
    "cbar.ax.tick_params(labelsize=20)\n",
    "cbar.set_label(label = 'cosine similarity', size=24)\n",
    "plt.xlabel('Motor Neurons', fontsize =18)\n",
    "plt.ylabel('Motor Neurons', fontsize =18)\n",
    "plt.yticks(fontsize = 16)\n",
    "plt.xticks(fontsize = 16)\n",
    "plt.show()\n",
    "\n",
    "fig.savefig('./figpanels/cos_sim_ascending_grayscale.svg',format='svg')"
   ]
  },
  {
   "attachments": {},
   "cell_type": "markdown",
   "metadata": {},
   "source": [
    "## Sensory"
   ]
  },
  {
   "cell_type": "code",
   "execution_count": null,
   "metadata": {},
   "outputs": [],
   "source": [
    "# Cluster according to everything but fragments\n",
    "mn_mi = pre_to_mn_df.columns.to_frame()\n",
    "lbls = utils.mn_labels(mn_mi,depth='rank')\n",
    "\n",
    "sim_mat = cosine_similarity(pre_to_mn_df.loc['sensory',:].to_numpy().transpose())\n",
    "fig = plt.figure(1, figsize = [6,6])\n",
    "ax = sns.heatmap(sim_mat, xticklabels=mn_mi.segID.to_list(), yticklabels=lbls,cmap=plt.get_cmap('Greys'))\n",
    "ax.xaxis.set_ticks_position('top')\n",
    "cbar = ax.collections[0].colorbar\n",
    "ax.set_xticklabels(ax.get_xticklabels(),rotation = 90)\n",
    "\n",
    "# here set the labelsize by 20\n",
    "cbar.ax.tick_params(labelsize=20)\n",
    "cbar.set_label(label = 'cosine similarity', size=24)\n",
    "plt.xlabel('Motor Neurons', fontsize =18)\n",
    "plt.ylabel('Motor Neurons', fontsize =18)\n",
    "plt.yticks(fontsize = 16)\n",
    "plt.xticks(fontsize = 16)\n",
    "plt.show()\n",
    "\n",
    "fig.savefig('./figpanels/cos_sim_sensory_grayscale.svg',format='svg')"
   ]
  },
  {
   "attachments": {},
   "cell_type": "markdown",
   "metadata": {},
   "source": [
    "### Dig into the sensory similarity"
   ]
  },
  {
   "cell_type": "code",
   "execution_count": null,
   "metadata": {},
   "outputs": [],
   "source": [
    "pre_to_mn_df"
   ]
  },
  {
   "cell_type": "code",
   "execution_count": null,
   "metadata": {},
   "outputs": [],
   "source": [
    "pre_to_mn_df.loc[('sensory','ltm'),mpool_dict['ltm']]"
   ]
  },
  {
   "cell_type": "code",
   "execution_count": null,
   "metadata": {},
   "outputs": [],
   "source": [
    "pre_to_mn_df.loc[:,mpool_dict['auxiliary_tibia_flexor_E_wtarsus']].columns.get_level_values('segID').to_list()\n",
    "\n",
    "# mpool_dict = utils.get_motor_pool_tuple_dict()\n",
    "# pool_keys = [\n",
    "#     'thorax_swing',\n",
    "#     'thorax_stance',\n",
    "#     'trochanter_extension',\n",
    "#     'trochanter_flexion',\n",
    "#     'femur_reductor',\n",
    "#     'tibia_extensor',\n",
    "#     'main_tibia_flexor',      # main_tibia_flexor for both main and A groups, or main_tibia_flexor_muscle for the muscle\n",
    "#     'auxiliary_tibia_flexor_A',\n",
    "#     'auxiliary_tibia_flexor_B',\n",
    "#     'auxiliary_tibia_flexor_E',\n",
    "#     'ltm',\n",
    "#     'tarsus_depressor_med_venU',\n",
    "#     'tarsus_depressor_noid',\n",
    "#     ]"
   ]
  },
  {
   "attachments": {},
   "cell_type": "markdown",
   "metadata": {},
   "source": [
    "## Regress local vs. normal, vs. descending, etc."
   ]
  },
  {
   "cell_type": "code",
   "execution_count": null,
   "metadata": {},
   "outputs": [],
   "source": [
    "mn_mi_df = pre_to_mn_df.columns.to_frame()\n",
    "mn_mi_df\n",
    "\n",
    "# Ha! for this, put the tarsus neurons in the right pools\n",
    "muscle_tuple_dict = utils.get_motor_pool_tuple_dict()\n",
    "pool_keys = [\n",
    "    'thorax_swing',\n",
    "    'thorax_stance',\n",
    "    'trochanter_extension',\n",
    "    'trochanter_flexion',\n",
    "    'femur_reductor',\n",
    "    'tibia_extensor',\n",
    "    'main_tibia_flexor',\n",
    "    # 'auxiliary_tibia_flexor_A',\n",
    "    'auxiliary_tibia_flexor_B',\n",
    "    'auxiliary_tibia_flexor_E',\n",
    "    'ltm',\n",
    "    'tarsus_depressor',\n",
    "    ]\n",
    "\n",
    "\n",
    "    #  'main_tibia_flexor_wtarsus':                 \n",
    "    #  'auxiliary_tibia_flexor_B_wtarsus':\n",
    "    #  'auxiliary_tibia_flexor_E_wtarsus':\n",
    "    #             'tarsus_depressor_medial':\n",
    "    #             'tarsus_depressor_ventralU':  \n",
    "pool_keys = [\n",
    "    'thorax_swing',\n",
    "    'thorax_stance',\n",
    "    'trochanter_extension',\n",
    "    'trochanter_flexion',\n",
    "    'femur_reductor',\n",
    "    'tibia_extensor',\n",
    "    'main_tibia_flexor_wtarsus',\n",
    "    # 'auxiliary_tibia_flexor_A',\n",
    "    'auxiliary_tibia_flexor_B_wtarsus',\n",
    "    'auxiliary_tibia_flexor_E_wtarsus',\n",
    "    'ltm',\n",
    "    'tarsus_depressor_medial',\n",
    "    'tarsus_depressor_ventralU'\n",
    "    ]\n",
    "\n",
    "\n",
    "for key in pool_keys:\n",
    "    mn_tup = muscle_tuple_dict[key]\n",
    "    mn_mi_df.loc[mn_tup,'preferred_pool'] = key\n",
    "\n",
    "mn_mi_df.preferred_pool = mn_mi_df.preferred_pool.astype(\"category\")\n",
    "mn_mi_df.preferred_pool = mn_mi_df.preferred_pool.cat.set_categories(pool_keys)\n",
    "mn_mi_df"
   ]
  },
  {
   "cell_type": "code",
   "execution_count": null,
   "metadata": {},
   "outputs": [],
   "source": [
    "sim_mat_all = cosine_similarity(pre_to_mn_df.to_numpy().transpose())\n",
    "sim_mat_local = cosine_similarity(pre_to_mn_df.loc['local',:].to_numpy().transpose())\n",
    "sim_mat_desc = cosine_similarity(pre_to_mn_df.loc['descending',:].to_numpy().transpose())\n",
    "sim_mat_inter = cosine_similarity(pre_to_mn_df.loc['intersegmental',:].to_numpy().transpose())\n",
    "sim_mat_ascending = cosine_similarity(pre_to_mn_df.loc['ascending',:].to_numpy().transpose())\n",
    "sim_mat_sensory = cosine_similarity(pre_to_mn_df.loc['sensory',:].to_numpy().transpose())\n",
    "\n",
    "tril_mask = np.full((sim_mat_all.shape[0], sim_mat_all.shape[1]), True, dtype=bool)\n",
    "motor_pool_mask = np.full((sim_mat_all.shape[0], sim_mat_all.shape[1]), False, dtype=bool)\n",
    "i_index = np.full((sim_mat_all.shape[0], sim_mat_all.shape[1]), 0, dtype=int)\n",
    "j_index = np.full((sim_mat_all.shape[0], sim_mat_all.shape[1]), 0, dtype=int)\n",
    "for i in range(motor_pool_mask.shape[0]):\n",
    "    for j in range(motor_pool_mask.shape[1]):\n",
    "        motor_pool_mask[i,j] =(mn_mi_df.iloc[i,:].preferred_pool==mn_mi_df.iloc[j,:].preferred_pool)\n",
    "        i_index[i,j] = i\n",
    "        j_index[i,j] = j\n",
    "\n",
    "fig = plt.figure(1, figsize = [6,6])\n",
    "ax = sns.heatmap(motor_pool_mask, xticklabels=mn_mi_df.preferred_pool.to_list(),cmap=plt.get_cmap('Greys'))\n",
    "\n",
    "# fig = plt.figure(2, figsize = [6,6])\n",
    "# ax = sns.heatmap(np.tril(motor_pool_mask,-1), xticklabels=mn_mi_df.preferred_pool.to_list(),cmap=plt.get_cmap('Greys'))\n",
    "\n",
    "tril_mask = np.tril(tril_mask,-1)\n",
    "\n",
    "pool_arr = mn_mi_df.preferred_pool.to_numpy()\n",
    "pool_arr = np.tile(pool_arr.reshape((-1,1)),len(pool_arr))\n",
    "pool_arr.reshape(-1)"
   ]
  },
  {
   "cell_type": "code",
   "execution_count": null,
   "metadata": {},
   "outputs": [],
   "source": [
    "sim_dict = {\n",
    "    'all_comps':sim_mat_all.reshape(-1),\n",
    "    'local':sim_mat_local.reshape(-1),\n",
    "    'desc':sim_mat_desc.reshape(-1),\n",
    "    'inter':sim_mat_inter.reshape(-1),\n",
    "    'asce':sim_mat_ascending.reshape(-1),\n",
    "    'sense':sim_mat_sensory.reshape(-1),\n",
    "    'pool':pool_arr.reshape(-1),\n",
    "    'same_pool': motor_pool_mask.reshape(-1),\n",
    "    'lower_tri':tril_mask.reshape(-1),\n",
    "    'i_index':i_index.reshape(-1),\n",
    "    'j_index':j_index.reshape(-1)\n",
    "    }\n"
   ]
  },
  {
   "cell_type": "code",
   "execution_count": null,
   "metadata": {},
   "outputs": [],
   "source": [
    "\n",
    "sim_compare_df = pd.DataFrame.from_dict(data = sim_dict,orient='columns')\n",
    "sim_compare_df\n",
    "# # get rid of upper triangle\n",
    "sim_compare_df = sim_compare_df.loc[sim_compare_df.lower_tri.to_numpy()]\n",
    "sim_compare_df\n"
   ]
  },
  {
   "cell_type": "code",
   "execution_count": null,
   "metadata": {},
   "outputs": [],
   "source": [
    "cat_pal = {\n",
    "    True: '#000000',\n",
    "    False: '#DFDFDF',\n",
    "    }\n",
    "\n",
    "pool_pal = {\n",
    "    'thorax_swing': '#A502AA',\n",
    "    'thorax_stance': '#00A2B4',\n",
    "    'trochanter_extension': '#D5CB6C',\n",
    "    'trochanter_flexion': '#3F42A2',\n",
    "    'femur_reductor': '#FF0000',\n",
    "    'tibia_extensor': '#CC8544',\n",
    "    'main_tibia_flexor_wtarsus': '#2E3191',\n",
    "    'auxiliary_tibia_flexor_B_wtarsus': '#2DB515',\n",
    "    'auxiliary_tibia_flexor_E_wtarsus': '#156005',\n",
    "    'ltm': '#FFF100',\n",
    "    'tarsus_depressor_medial': '#ff81c0',\n",
    "    'tarsus_depressor_ventralU': '#AA81c0',\n",
    "}\n",
    "    #  'main_tibia_flexor_wtarsus':                 \n",
    "    #  'auxiliary_tibia_flexor_B_wtarsus':\n",
    "    #  'auxiliary_tibia_flexor_E_wtarsus':\n",
    "    #             'tarsus_depressor_medial':\n",
    "    #             'tarsus_depressor_ventralU':  \n",
    "\n",
    "fig, ax = plt.subplots( 1, 1, figsize=(12,12))\n",
    "diff_comps = sim_compare_df.loc[~sim_compare_df.same_pool]\n",
    "sns.scatterplot(data=diff_comps, x=\"all_comps\", y=\"local\", hue=\"same_pool\",palette = cat_pal,ax=ax,linewidth=0)\n",
    "\n",
    "same_comps = sim_compare_df.loc[sim_compare_df.same_pool]\n",
    "sns.scatterplot(data=same_comps, x=\"all_comps\", y=\"local\", hue=\"same_pool\",palette = cat_pal,ax=ax,linewidth=0)\n",
    "\n",
    "# low_comps = sim_compare_df.loc[sim_compare_df.local<.23].loc[sim_compare_df.same_pool].loc[sim_compare_df.pool.ne('trochanter_flexion')]\n",
    "# sns.scatterplot(data=low_comps, x=\"all_comps\", y=\"local\", hue=\"pool\",palette = pool_pal,ax=ax,linewidth=0)\n",
    "\n",
    "# hi_comps = sim_compare_df.loc[sim_compare_df.local>.3].loc[~sim_compare_df.same_pool]\n",
    "# sns.scatterplot(data=hi_comps, x=\"all_comps\", y=\"local\", hue=\"pool\",palette = pool_pal,ax=ax,linewidth=0)\n",
    "\n",
    "# down_comps = sim_compare_df.loc[sim_compare_df.local>.4].loc[sim_compare_df.local<sim_compare_df.all_comps]\n",
    "# sns.scatterplot(data=down_comps, x=\"all_comps\", y=\"local\", hue=\"pool\",palette = pool_pal,ax=ax,linewidth=0)\n",
    "\n",
    "ax.plot([0, 1],[0,1],color='#000000')\n",
    "\n",
    "fig.savefig('./figpanels/cosine_sim_local_v_all.svg',format='svg')"
   ]
  },
  {
   "cell_type": "code",
   "execution_count": null,
   "metadata": {},
   "outputs": [],
   "source": [
    "cat_pal = {\n",
    "    True: '#000000',\n",
    "    False: '#DFDFDF',\n",
    "    }\n",
    "\n",
    "pool_pal = {\n",
    "    'thorax_swing': '#A502AA',\n",
    "    'thorax_stance': '#00A2B4',\n",
    "    'trochanter_extension': '#D5CB6C',\n",
    "    'trochanter_flexion': '#3F42A2',\n",
    "    'femur_reductor': '#FF0000',\n",
    "    'tibia_extensor': '#CC8544',\n",
    "    'main_tibia_flexor_wtarsus': '#2E3191',\n",
    "    'auxiliary_tibia_flexor_B_wtarsus': '#2DB515',\n",
    "    'auxiliary_tibia_flexor_E_wtarsus': '#156005',\n",
    "    'ltm': '#FFF100',\n",
    "    'tarsus_depressor_medial': '#ff81c0',\n",
    "    'tarsus_depressor_ventralU': '#AA81c0',\n",
    "}\n",
    "\n",
    "fig, ax = plt.subplots( 1, 1, figsize=(12,12))\n",
    "diff_comps = sim_compare_df.loc[~sim_compare_df.same_pool]\n",
    "sns.scatterplot(data=diff_comps, x=\"all_comps\", y=\"local\", hue=\"same_pool\",palette = cat_pal,ax=ax,linewidth=0)\n",
    "\n",
    "same_comps = sim_compare_df.loc[sim_compare_df.same_pool]\n",
    "sns.scatterplot(data=same_comps, x=\"all_comps\", y=\"local\", hue=\"same_pool\",palette = cat_pal,ax=ax,linewidth=0)\n",
    "\n",
    "low_comps = sim_compare_df.loc[sim_compare_df.local<.23].loc[sim_compare_df.all_comps>.2].loc[sim_compare_df.same_pool].loc[sim_compare_df.pool.ne('trochanter_flexion')]\n",
    "sns.scatterplot(data=low_comps, x=\"all_comps\", y=\"local\", hue=\"pool\",palette = pool_pal,ax=ax,linewidth=0)\n",
    "\n",
    "hi_comps = sim_compare_df.loc[sim_compare_df.local>.5].loc[~sim_compare_df.same_pool]\n",
    "sns.scatterplot(data=hi_comps, x=\"all_comps\", y=\"local\", hue=\"pool\",palette = pool_pal,ax=ax,linewidth=0)\n",
    "\n",
    "# down_comps = sim_compare_df.loc[sim_compare_df.local>.4].loc[sim_compare_df.local<sim_compare_df.all_comps]\n",
    "# sns.scatterplot(data=down_comps, x=\"all_comps\", y=\"local\", hue=\"pool\",palette = pool_pal,ax=ax,linewidth=0)\n",
    "\n",
    "ax.plot([0, 1],[0,1],color='#000000')\n",
    "\n",
    "fig.savefig('./figpanels/cosine_sim_local_v_all.svg',format='svg')"
   ]
  },
  {
   "cell_type": "code",
   "execution_count": null,
   "metadata": {},
   "outputs": [],
   "source": [
    "cat_pal = {\n",
    "    True: '#000000',\n",
    "    False: '#DFDFDF',\n",
    "    }\n",
    "\n",
    "# pool_pal = {\n",
    "#     'thorax_swing': '#A502AA',\n",
    "#     'thorax_stance': '#00A2B4',\n",
    "#     'trochanter_extension': '#D5CB6C',\n",
    "#     'trochanter_flexion': '#3F42A2',\n",
    "#     'femur_reductor': '#FF0000',\n",
    "#     'tibia_extensor': '#CC8544',\n",
    "#     'main_tibia_flexor': '#2E3191',\n",
    "#     'auxiliary_tibia_flexor_B': '#2DB515',\n",
    "#     'auxiliary_tibia_flexor_E': '#156005',\n",
    "#     'ltm': '#FFF100',\n",
    "#     'tarsus_depressor': '#ff81c0',\n",
    "# }\n",
    "\n",
    "fig, ax = plt.subplots( 1, 1, figsize=(12,12))\n",
    "diff_comps = sim_compare_df.loc[~sim_compare_df.same_pool]\n",
    "sns.scatterplot(data=diff_comps, x=\"local\", y=\"desc\", hue=\"same_pool\",palette = cat_pal,ax=ax,linewidth=0)\n",
    "\n",
    "same_comps = sim_compare_df.loc[sim_compare_df.same_pool]\n",
    "sns.scatterplot(data=same_comps, x=\"local\", y=\"desc\", hue=\"same_pool\",palette = cat_pal,ax=ax,linewidth=0)\n",
    "\n",
    "\n",
    "hi_comps = sim_compare_df.loc[sim_compare_df.local>.5].loc[~sim_compare_df.same_pool]\n",
    "sns.scatterplot(data=hi_comps, x=\"local\", y=\"desc\", hue=\"pool\",palette = pool_pal,ax=ax,linewidth=0)\n",
    "# low_comps = sim_compare_df.loc[sim_compare_df.local<.23].loc[sim_compare_df.same_pool].loc[sim_compare_df.pool.ne('trochanter_flexion')]\n",
    "# sns.scatterplot(data=low_comps, x=\"all_comps\", y=\"local\", hue=\"pool\",palette = pool_pal,ax=ax,linewidth=0)\n",
    "\n",
    "up_comps = sim_compare_df.loc[sim_compare_df.local<.2].loc[sim_compare_df.desc>sim_compare_df.local].loc[sim_compare_df.same_pool]\n",
    "sns.scatterplot(data=up_comps, x=\"local\", y=\"desc\", hue=\"pool\",palette = pool_pal,ax=ax,linewidth=0)\n",
    "\n",
    "# down_comps = sim_compare_df.loc[sim_compare_df.local>.4].loc[sim_compare_df.local<sim_compare_df.all_comps]\n",
    "# sns.scatterplot(data=down_comps, x=\"all_comps\", y=\"local\", hue=\"pool\",palette = pool_pal,ax=ax,linewidth=0)\n",
    "\n",
    "ax.plot([0, 1],[0,1],color='#000000')\n",
    "\n",
    "fig.savefig('./figpanels/cosine_sim_desc_v_local.svg',format='svg')"
   ]
  },
  {
   "cell_type": "code",
   "execution_count": null,
   "metadata": {},
   "outputs": [],
   "source": [
    "cat_pal = {\n",
    "    True: '#000000',\n",
    "    False: '#DFDFDF',\n",
    "    }\n",
    "\n",
    "# pool_pal = {\n",
    "#     'thorax_swing': '#A502AA',\n",
    "#     'thorax_stance': '#00A2B4',\n",
    "#     'trochanter_extension': '#D5CB6C',\n",
    "#     'trochanter_flexion': '#3F42A2',\n",
    "#     'femur_reductor': '#FF0000',\n",
    "#     'tibia_extensor': '#CC8544',\n",
    "#     'main_tibia_flexor': '#2E3191',\n",
    "#     'auxiliary_tibia_flexor_B': '#2DB515',\n",
    "#     'auxiliary_tibia_flexor_E': '#156005',\n",
    "#     'ltm': '#FFF100',\n",
    "#     'tarsus_depressor': '#ff81c0',\n",
    "# }\n",
    "\n",
    "fig, ax = plt.subplots( 1, 1, figsize=(12,12))\n",
    "diff_comps = sim_compare_df.loc[~sim_compare_df.same_pool]\n",
    "sns.scatterplot(data=diff_comps, x=\"local\", y=\"inter\", hue=\"same_pool\",palette = cat_pal,ax=ax,linewidth=0)\n",
    "\n",
    "same_comps = sim_compare_df.loc[sim_compare_df.same_pool]\n",
    "sns.scatterplot(data=same_comps, x=\"local\", y=\"inter\", hue=\"same_pool\",palette = cat_pal,ax=ax,linewidth=0)\n",
    "\n",
    "\n",
    "hi_comps = sim_compare_df.loc[sim_compare_df.local>.5].loc[~sim_compare_df.same_pool]\n",
    "sns.scatterplot(data=hi_comps, x=\"local\", y=\"inter\", hue=\"pool\",palette = pool_pal,ax=ax,linewidth=0)\n",
    "# low_comps = sim_compare_df.loc[sim_compare_df.local<.23].loc[sim_compare_df.same_pool].loc[sim_compare_df.pool.ne('trochanter_flexion')]\n",
    "# sns.scatterplot(data=low_comps, x=\"all_comps\", y=\"local\", hue=\"pool\",palette = pool_pal,ax=ax,linewidth=0)\n",
    "\n",
    "up_comps = sim_compare_df.loc[sim_compare_df.local<.2].loc[sim_compare_df.desc>sim_compare_df.local].loc[sim_compare_df.same_pool]\n",
    "sns.scatterplot(data=up_comps, x=\"local\", y=\"inter\", hue=\"pool\",palette = pool_pal,ax=ax,linewidth=0)\n",
    "\n",
    "# down_comps = sim_compare_df.loc[sim_compare_df.local>.4].loc[sim_compare_df.local<sim_compare_df.all_comps]\n",
    "# sns.scatterplot(data=down_comps, x=\"all_comps\", y=\"local\", hue=\"pool\",palette = pool_pal,ax=ax,linewidth=0)\n",
    "\n",
    "ax.plot([0, 1],[0,1],color='#000000')\n",
    "\n",
    "fig.savefig('./figpanels/cosine_sim_inter_v_local.svg',format='svg')"
   ]
  },
  {
   "attachments": {},
   "cell_type": "markdown",
   "metadata": {},
   "source": [
    "# Rain cloud plots if within vs across pool cosine similarity"
   ]
  },
  {
   "cell_type": "code",
   "execution_count": null,
   "metadata": {},
   "outputs": [],
   "source": [
    "all(sim_compare_df.lower_tri)\n",
    "sim_compare_df"
   ]
  },
  {
   "cell_type": "code",
   "execution_count": null,
   "metadata": {},
   "outputs": [],
   "source": [
    "(~sim_compare_df['same_pool']).sum()+sim_compare_df['same_pool'].sum()"
   ]
  },
  {
   "cell_type": "code",
   "execution_count": null,
   "metadata": {},
   "outputs": [],
   "source": [
    "# f, ax = plt.subplots(figsize=(7, 7))\n",
    "# # seaborn.violinplot(data=pprst, *, x=None, y=None, hue=None, order=None, hue_order=None, bw='scott', cut=2, scale='area', scale_hue=True, gridsize=100, width=0.8, inner='box', split=False, dodge=True, orient=None, linewidth=None, color=None, palette=None, saturation=0.75, ax=None, **kwargs)\n",
    "# seaborn.violinplot(data=pprst,x='NT',y='pref_perc', orient='vertical',scale='count', cut=0, ax=ax)\n",
    "# # sns.stripplot(data=pprst,x='NT',y='pref_perc',hue='syn_total',ax=ax)\n",
    "\n",
    "\n",
    "# f, ax = plt.subplots(figsize=(7, 7))\n",
    "# sns.violinplot(data=sim_compare_df,x='same_pool',y='all_comps',orient='vertical',scale='area', cut=0, ax=ax)\n",
    "\n",
    "# sim_same_pool = sim_compare_df.loc[sim_compare_df.same_pool,:]\n",
    "sim_same_pool_stacked = sim_compare_df.loc[:,['all_comps','pool','same_pool','lower_tri']]\n",
    "sim_same_pool_stacked['comp_cat'] = 'all_comps'\n",
    "sim_same_pool_stacked = sim_same_pool_stacked.rename({'all_comps':'cos_sim'},axis='columns')\n",
    "\n",
    "block = sim_compare_df.loc[:,['local','pool','same_pool','lower_tri']]\n",
    "block['comp_cat'] = 'local'\n",
    "block = block.rename({'local':'cos_sim'},axis='columns')\n",
    "\n",
    "sim_same_pool_stacked = pd.concat([sim_same_pool_stacked,block])\n",
    "sim_same_pool_stacked\n",
    "\n",
    "block = sim_compare_df.loc[:,['inter','pool','same_pool','lower_tri']]\n",
    "block['comp_cat'] = 'inter'\n",
    "block = block.rename({'inter':'cos_sim'},axis='columns')\n",
    "\n",
    "sim_same_pool_stacked = pd.concat([sim_same_pool_stacked,block])\n",
    "sim_same_pool_stacked\n",
    "\n",
    "block = sim_compare_df.loc[:,['desc','pool','same_pool','lower_tri']]\n",
    "block['comp_cat'] = 'desc'\n",
    "block = block.rename({'desc':'cos_sim'},axis='columns')\n",
    "\n",
    "sim_same_pool_stacked = pd.concat([sim_same_pool_stacked,block])\n",
    "\n",
    "block = sim_compare_df.loc[:,['asce','pool','same_pool','lower_tri']]\n",
    "block['comp_cat'] = 'asce'\n",
    "block = block.rename({'asce':'cos_sim'},axis='columns')\n",
    "\n",
    "sim_same_pool_stacked = pd.concat([sim_same_pool_stacked,block])\n",
    "\n",
    "block = sim_compare_df.loc[:,['sense','pool','same_pool','lower_tri']]\n",
    "block['comp_cat'] = 'sense'\n",
    "block = block.rename({'sense':'cos_sim'},axis='columns')\n",
    "\n",
    "sim_same_pool_stacked = pd.concat([sim_same_pool_stacked,block])\n",
    "sim_same_pool_stacked\n",
    "\n",
    "# ax.set_ylim([0,1.1])\n",
    "# f.savefig('./figpanels/cosine_sim_violin_all_comps.svg',format='svg')\n",
    "\n",
    "# ax.set_ylim([0,1.1])\n",
    "\n",
    "# f.savefig('./figpanels/pool_pref_by_NT_violin.svg',format='svg')\n",
    "\n",
    "f, ax = plt.subplots(figsize=(7, 7))\n",
    "sns.violinplot(data=sim_same_pool_stacked.loc[sim_same_pool_stacked.same_pool],x='comp_cat',y='cos_sim',orient='vertical',scale='area', cut=0, ax=ax,bw=.25)\n",
    "\n",
    "f.savefig('./figpanels/cosine_sim_violin_same_pool.svg',format='svg')\n",
    "\n",
    "f, ax = plt.subplots(figsize=(7, 7))\n",
    "sns.violinplot(data=sim_same_pool_stacked.loc[~sim_same_pool_stacked.same_pool,:],x='comp_cat',y='cos_sim',orient='vertical',scale='area', cut=0, ax=ax,bw=.25)\n",
    "\n",
    "f.savefig('./figpanels/cosine_sim_violin_different_pools.svg',format='svg')\n",
    "\n",
    "\n",
    "f, ax = plt.subplots(figsize=(7, 7))\n",
    "sns.stripplot(data=sim_same_pool_stacked.loc[sim_same_pool_stacked.same_pool],x='comp_cat',y='cos_sim',ax=ax)\n",
    "\n",
    "f.savefig('./figpanels/cosine_sim_rain_same_pool.svg',format='svg')\n",
    "\n",
    "f, ax = plt.subplots(figsize=(7, 7))\n",
    "sns.stripplot(data=sim_same_pool_stacked.loc[~sim_same_pool_stacked.same_pool,:],x='comp_cat',y='cos_sim',ax=ax)\n",
    "\n",
    "f.savefig('./figpanels/cosine_sim_rain_different_pools.svg',format='svg')"
   ]
  },
  {
   "cell_type": "code",
   "execution_count": null,
   "metadata": {},
   "outputs": [],
   "source": [
    "# Stats"
   ]
  },
  {
   "cell_type": "code",
   "execution_count": null,
   "metadata": {},
   "outputs": [],
   "source": [
    "sim_w_pool = sim_compare_df.loc[sim_compare_df['same_pool'],:]\n",
    "sim_w_pool.melt(value_vars=['all_comps','local','desc','inter'])"
   ]
  },
  {
   "cell_type": "code",
   "execution_count": null,
   "metadata": {},
   "outputs": [],
   "source": [
    "import scipy\n",
    "scipy.stats.kruskal(sim_w_pool['all_comps'],\n",
    "                    sim_w_pool['local'],\n",
    "                    sim_w_pool['desc'],\n",
    "                    sim_w_pool['inter'],)\n",
    "# scipy.stats.kruskal(ratiodf.iloc[:,0],ratiodf.iloc[:,1],ratiodf.iloc[:,2],ratiodf.iloc[:,3],ratiodf.iloc[:,4],ratiodf.iloc[:,5],ratiodf.iloc[:,6],ratiodf.iloc[:,7],ratiodf.iloc[:,8])"
   ]
  },
  {
   "cell_type": "code",
   "execution_count": null,
   "metadata": {},
   "outputs": [],
   "source": [
    "import scikit_posthocs \n",
    "\n",
    "scikit_posthocs.posthoc_conover(sim_w_pool.melt(value_vars=['all_comps','local','desc','inter']),val_col= 'value',group_col='variable',p_adjust='holm')\n"
   ]
  },
  {
   "cell_type": "code",
   "execution_count": null,
   "metadata": {},
   "outputs": [],
   "source": [
    "# f, ax = plt.subplots(figsize=(7, 7))\n",
    "# # seaborn.violinplot(data=pprst, *, x=None, y=None, hue=None, order=None, hue_order=None, bw='scott', cut=2, scale='area', scale_hue=True, gridsize=100, width=0.8, inner='box', split=False, dodge=True, orient=None, linewidth=None, color=None, palette=None, saturation=0.75, ax=None, **kwargs)\n",
    "# seaborn.violinplot(data=pprst,x='NT',y='pref_perc', orient='vertical',scale='count', cut=0, ax=ax)\n",
    "# # sns.stripplot(data=pprst,x='NT',y='pref_perc',hue='syn_total',ax=ax)\n",
    "\n",
    "\n",
    "# f, ax = plt.subplots(figsize=(7, 7))\n",
    "# sns.violinplot(data=sim_compare_df,x='same_pool',y='all_comps',orient='vertical',scale='area', cut=0, ax=ax)\n",
    "\n",
    "# sim_same_pool = sim_compare_df.loc[sim_compare_df.same_pool,:]\n",
    "sim_same_pool_stacked = sim_compare_df.loc[:,['all_comps','pool','same_pool','lower_tri']]\n",
    "sim_same_pool_stacked['comp_cat'] = 'all_comps'\n",
    "sim_same_pool_stacked = sim_same_pool_stacked.rename({'all_comps':'cos_sim'},axis='columns')\n",
    "\n",
    "block = sim_compare_df.loc[:,['local','pool','same_pool','lower_tri']]\n",
    "block['comp_cat'] = 'local'\n",
    "block = block.rename({'local':'cos_sim'},axis='columns')\n",
    "\n",
    "sim_same_pool_stacked = pd.concat([sim_same_pool_stacked,block])\n",
    "sim_same_pool_stacked\n",
    "\n",
    "block = sim_compare_df.loc[:,['inter','pool','same_pool','lower_tri']]\n",
    "block['comp_cat'] = 'long_range'\n",
    "block = block.rename({'inter':'cos_sim'},axis='columns')\n",
    "\n",
    "sim_same_pool_stacked = pd.concat([sim_same_pool_stacked,block])\n",
    "sim_same_pool_stacked\n",
    "\n",
    "block = sim_compare_df.loc[:,['desc','pool','same_pool','lower_tri']]\n",
    "block['comp_cat'] = 'long_range'\n",
    "block = block.rename({'desc':'cos_sim'},axis='columns')\n",
    "\n",
    "sim_same_pool_stacked = pd.concat([sim_same_pool_stacked,block])\n",
    "sim_same_pool_stacked\n",
    "\n",
    "# ax.set_ylim([0,1.1])\n",
    "# f.savefig('./figpanels/cosine_sim_violin_all_comps.svg',format='svg')\n",
    "\n",
    "# ax.set_ylim([0,1.1])\n",
    "\n",
    "# f.savefig('./figpanels/pool_pref_by_NT_violin.svg',format='svg')\n",
    "\n",
    "f, ax = plt.subplots(figsize=(7, 7))\n",
    "sns.violinplot(data=sim_same_pool_stacked.loc[sim_same_pool_stacked.same_pool],x='comp_cat',y='cos_sim',orient='vertical',scale='area', cut=0, ax=ax,bw=.25)\n",
    "\n",
    "f.savefig('./figpanels/cosine_sim_violin_same_pool_long.svg',format='svg')\n",
    "\n",
    "f, ax = plt.subplots(figsize=(7, 7))\n",
    "sns.violinplot(data=sim_same_pool_stacked.loc[~sim_same_pool_stacked.same_pool,:],x='comp_cat',y='cos_sim',orient='vertical',scale='area', cut=0, ax=ax, bw=.3)\n",
    "\n",
    "f.savefig('./figpanels/cosine_sim_violin_different_pools_long.svg',format='svg')\n",
    "\n",
    "\n",
    "f, ax = plt.subplots(figsize=(7, 7))\n",
    "sns.stripplot(data=sim_same_pool_stacked.loc[sim_same_pool_stacked.same_pool],x='comp_cat',y='cos_sim',ax=ax)\n",
    "\n",
    "f.savefig('./figpanels/cosine_sim_rain_same_pool_long.svg',format='svg')\n",
    "\n",
    "f, ax = plt.subplots(figsize=(7, 7))\n",
    "sns.stripplot(data=sim_same_pool_stacked.loc[~sim_same_pool_stacked.same_pool,:],x='comp_cat',y='cos_sim',ax=ax)\n",
    "\n",
    "f.savefig('./figpanels/cosine_sim_rain_different_pools_long.svg',format='svg')"
   ]
  },
  {
   "cell_type": "code",
   "execution_count": null,
   "metadata": {},
   "outputs": [],
   "source": [
    "# fig, axes = plt.subplots()\n",
    "\n",
    "# # Seaborn violin plot\n",
    "# sns.violinplot(data=a, color=\"#af52f4\", inner=None, linewidth=0, saturation=0.5)\n",
    "\n",
    "# # Normal boxplot has full range, same in Seaborn boxplot\n",
    "# axes.boxplot(a, whis='range', positions=np.array([0]),\n",
    "#             showcaps=False,widths=0.06, patch_artist=True,\n",
    "#             boxprops=dict(color=\"indigo\", facecolor=\"indigo\"),\n",
    "#             whiskerprops=dict(color=\"indigo\", linewidth=2),\n",
    "#             medianprops=dict(color=\"w\", linewidth=2 ))\n",
    "\n",
    "# axes.set_xlim(-1,1)\n",
    "# plt.show()"
   ]
  },
  {
   "cell_type": "code",
   "execution_count": null,
   "metadata": {},
   "outputs": [],
   "source": [
    "sim_compare_df"
   ]
  },
  {
   "attachments": {},
   "cell_type": "markdown",
   "metadata": {},
   "source": [
    "# Stats"
   ]
  },
  {
   "cell_type": "code",
   "execution_count": null,
   "metadata": {},
   "outputs": [],
   "source": []
  },
  {
   "cell_type": "code",
   "execution_count": null,
   "metadata": {},
   "outputs": [],
   "source": [
    "# Simple version, just mean and std of same pool, not same pool\n",
    "x = sim_compare_df.loc[sim_compare_df.same_pool,'local'].mean()\n",
    "y = sim_compare_df.loc[sim_compare_df.same_pool,'inter'].mean()\n",
    "\n",
    "x2 = sim_compare_df.loc[~sim_compare_df.same_pool,'local'].mean()\n",
    "y2 = sim_compare_df.loc[~sim_compare_df.same_pool,'inter'].mean()\n"
   ]
  },
  {
   "cell_type": "code",
   "execution_count": null,
   "metadata": {},
   "outputs": [],
   "source": [
    "import scipy\n",
    "\n",
    "scipy.stats.ttest_rel(sim_compare_df.loc[sim_compare_df.same_pool,'local'],sim_compare_df.loc[sim_compare_df.same_pool,'all_comps'],alternative='two-sided',axis=0)"
   ]
  },
  {
   "cell_type": "code",
   "execution_count": null,
   "metadata": {},
   "outputs": [],
   "source": [
    "sim_compare_df.loc[~sim_compare_df.same_pool,'local'].to_numpy()"
   ]
  },
  {
   "attachments": {},
   "cell_type": "markdown",
   "metadata": {},
   "source": [
    "# Local Femur"
   ]
  },
  {
   "cell_type": "code",
   "execution_count": null,
   "metadata": {},
   "outputs": [],
   "source": [
    "# Cluster according to everything but fragments\n",
    "All = slice(None)\n",
    "mn_mi = pre_to_mn_df.loc['local',('L','Leg',['femur','tibia'],All,['tibia_extensor','main_tibia_flexor','auxiliary_tibia_flexor','tarsus_unidentified',],All,All)].columns.to_frame()\n",
    "lbls = utils.mn_labels(mn_mi,depth='rank')\n",
    "\n",
    "sim_mat = cosine_similarity(pre_to_mn_df.loc['local',('L','Leg',['femur','tibia'],All,['tibia_extensor','main_tibia_flexor','auxiliary_tibia_flexor','tarsus_unidentified',],All,All)].to_numpy().transpose())\n",
    "fig = plt.figure(1, figsize = [6,6])\n",
    "ax = sns.heatmap(sim_mat, xticklabels=mn_mi.segID.to_list(), yticklabels=lbls,cmap=plt.get_cmap('Greys'))\n",
    "ax.xaxis.set_ticks_position('top')\n",
    "cbar = ax.collections[0].colorbar\n",
    "ax.set_xticklabels(ax.get_xticklabels(),rotation = 90)\n",
    "\n",
    "# here set the labelsize by 20\n",
    "cbar.ax.tick_params(labelsize=20)\n",
    "cbar.set_label(label = 'cosine similarity', size=24)\n",
    "plt.xlabel('Motor Neurons', fontsize =18)\n",
    "plt.ylabel('Motor Neurons', fontsize =18)\n",
    "plt.yticks(fontsize = 16)\n",
    "plt.xticks(fontsize = 16)\n",
    "plt.show()\n",
    "\n",
    "fig.savefig('./figpanels/cos_sim_femur_local_grayscale.svg',format='svg')"
   ]
  },
  {
   "cell_type": "code",
   "execution_count": null,
   "metadata": {},
   "outputs": [],
   "source": [
    "sim_mat_all = cosine_similarity(pre_to_mn_df.to_numpy().transpose())\n",
    "sim_mat_local = cosine_similarity(pre_to_mn_df.loc['local',:].to_numpy().transpose())\n",
    "sim_mat_desc = cosine_similarity(pre_to_mn_df.loc['descending',:].to_numpy().transpose())\n",
    "sim_mat_inter = cosine_similarity(pre_to_mn_df.loc['intersegmental',:].to_numpy().transpose())\n",
    "\n",
    "sim_mat_local"
   ]
  },
  {
   "attachments": {},
   "cell_type": "markdown",
   "metadata": {},
   "source": [
    "## Descending Femur"
   ]
  },
  {
   "cell_type": "code",
   "execution_count": null,
   "metadata": {},
   "outputs": [],
   "source": [
    "# Cluster according to everything but fragments\n",
    "All = slice(None)\n",
    "mn_mi = pre_to_mn_df.loc['descending',('L','Leg',['femur','tibia'],All,['tibia_extensor','main_tibia_flexor','auxiliary_tibia_flexor','tarsus_unidentified',],All,All)].columns.to_frame()\n",
    "lbls = utils.mn_labels(mn_mi,depth='rank')\n",
    "\n",
    "sim_mat = cosine_similarity(pre_to_mn_df.loc['descending',('L','Leg',['femur','tibia'],All,['tibia_extensor','main_tibia_flexor','auxiliary_tibia_flexor','tarsus_unidentified',],All,All)].to_numpy().transpose())\n",
    "fig = plt.figure(1, figsize = [6,6])\n",
    "ax = sns.heatmap(sim_mat, xticklabels=mn_mi.segID.to_list(), yticklabels=lbls,cmap=plt.get_cmap('Greys'))\n",
    "ax.xaxis.set_ticks_position('top')\n",
    "cbar = ax.collections[0].colorbar\n",
    "ax.set_xticklabels(ax.get_xticklabels(),rotation = 90)\n",
    "\n",
    "# here set the labelsize by 20\n",
    "cbar.ax.tick_params(labelsize=20)\n",
    "cbar.set_label(label = 'cosine similarity', size=24)\n",
    "plt.xlabel('Motor Neurons', fontsize =18)\n",
    "plt.ylabel('Motor Neurons', fontsize =18)\n",
    "plt.yticks(fontsize = 16)\n",
    "plt.xticks(fontsize = 16)\n",
    "plt.show()\n",
    "\n",
    "# fig.savefig('./figpanels/cos_sim_femur_local_grayscale.svg',format='svg')\n",
    "\n",
    "fig.savefig('./figpanels/cos_sim_femur_descending_grayscale.svg',format='svg')"
   ]
  },
  {
   "attachments": {},
   "cell_type": "markdown",
   "metadata": {},
   "source": [
    "## Intersegmental Femur"
   ]
  },
  {
   "cell_type": "code",
   "execution_count": null,
   "metadata": {},
   "outputs": [],
   "source": [
    "# Cluster according to everything but fragments\n",
    "All = slice(None)\n",
    "mn_mi = pre_to_mn_df.loc['intersegmental',('L','Leg',['femur','tibia'],All,['tibia_extensor','main_tibia_flexor','auxiliary_tibia_flexor','tarsus_unidentified',],All,All)].columns.to_frame()\n",
    "lbls = utils.mn_labels(mn_mi,depth='rank')\n",
    "\n",
    "sim_mat = cosine_similarity(pre_to_mn_df.loc['intersegmental',('L','Leg',['femur','tibia'],All,['tibia_extensor','main_tibia_flexor','auxiliary_tibia_flexor','tarsus_unidentified',],All,All)].to_numpy().transpose())\n",
    "fig = plt.figure(1, figsize = [6,6])\n",
    "ax = sns.heatmap(sim_mat, xticklabels=mn_mi.segID.to_list(), yticklabels=lbls,cmap=plt.get_cmap('Greys'))\n",
    "ax.xaxis.set_ticks_position('top')\n",
    "cbar = ax.collections[0].colorbar\n",
    "ax.set_xticklabels(ax.get_xticklabels(),rotation = 90)\n",
    "\n",
    "# here set the labelsize by 20\n",
    "cbar.ax.tick_params(labelsize=20)\n",
    "cbar.set_label(label = 'cosine similarity', size=24)\n",
    "plt.xlabel('Motor Neurons', fontsize =18)\n",
    "plt.ylabel('Motor Neurons', fontsize =18)\n",
    "plt.yticks(fontsize = 16)\n",
    "plt.xticks(fontsize = 16)\n",
    "plt.show()\n",
    "\n",
    "# fig.savefig('./figpanels/cos_sim_femur_local_grayscale.svg',format='svg')\n",
    "# fig.savefig('./figpanels/cos_sim_femur_descending_grayscale.svg',format='svg')\n",
    "fig.savefig('./figpanels/cos_sim_femur_intersegmental_grayscale.svg',format='svg')"
   ]
  },
  {
   "attachments": {},
   "cell_type": "markdown",
   "metadata": {},
   "source": [
    "## Intersegmental+descending Femur"
   ]
  },
  {
   "cell_type": "code",
   "execution_count": null,
   "metadata": {},
   "outputs": [],
   "source": [
    "# Cluster according to everything but fragments\n",
    "All = slice(None)\n",
    "mn_mi = pre_to_mn_df.loc[['intersegmental','descending'],('L','Leg',['femur','tibia'],All,['tibia_extensor','main_tibia_flexor','auxiliary_tibia_flexor','tarsus_unidentified',],All,All)].columns.to_frame()\n",
    "lbls = utils.mn_labels(mn_mi,depth='rank')\n",
    "\n",
    "sim_mat = cosine_similarity(pre_to_mn_df.loc[['intersegmental','descending'],('L','Leg',['femur','tibia'],All,['tibia_extensor','main_tibia_flexor','auxiliary_tibia_flexor','tarsus_unidentified',],All,All)].to_numpy().transpose())\n",
    "fig = plt.figure(1, figsize = [6,6])\n",
    "ax = sns.heatmap(sim_mat, xticklabels=mn_mi.segID.to_list(), yticklabels=lbls,cmap=plt.get_cmap('Greys'))\n",
    "ax.xaxis.set_ticks_position('top')\n",
    "cbar = ax.collections[0].colorbar\n",
    "ax.set_xticklabels(ax.get_xticklabels(),rotation = 90)\n",
    "\n",
    "# here set the labelsize by 20\n",
    "cbar.ax.tick_params(labelsize=20)\n",
    "cbar.set_label(label = 'cosine similarity', size=24)\n",
    "plt.xlabel('Motor Neurons', fontsize =18)\n",
    "plt.ylabel('Motor Neurons', fontsize =18)\n",
    "plt.yticks(fontsize = 16)\n",
    "plt.xticks(fontsize = 16)\n",
    "plt.show()\n",
    "\n",
    "# fig.savefig('./figpanels/cos_sim_femur_local_grayscale.svg',format='svg')\n",
    "# fig.savefig('./figpanels/cos_sim_femur_descending_grayscale.svg',format='svg')\n",
    "fig.savefig('./figpanels/cos_sim_femur_longrange_grayscale.svg',format='svg')"
   ]
  },
  {
   "attachments": {},
   "cell_type": "markdown",
   "metadata": {},
   "source": [
    "## Ascending Femur"
   ]
  },
  {
   "cell_type": "code",
   "execution_count": null,
   "metadata": {},
   "outputs": [],
   "source": [
    "# Cluster according to everything but fragments\n",
    "All = slice(None)\n",
    "mn_mi = pre_to_mn_df.loc['ascending',('L','Leg','femur',All,All,All,All)].columns.to_frame()\n",
    "lbls = utils.mn_labels(mn_mi,depth='rank')\n",
    "\n",
    "sim_mat = cosine_similarity(pre_to_mn_df.loc['ascending',('L','Leg','femur',All,All,All,All)].to_numpy().transpose())\n",
    "fig = plt.figure(1, figsize = [6,6])\n",
    "ax = sns.heatmap(sim_mat, xticklabels=mn_mi.segID.to_list(), yticklabels=lbls,cmap=plt.get_cmap('Greys'))\n",
    "ax.xaxis.set_ticks_position('top')\n",
    "cbar = ax.collections[0].colorbar\n",
    "ax.set_xticklabels(ax.get_xticklabels(),rotation = 90)\n",
    "\n",
    "# here set the labelsize by 20\n",
    "cbar.ax.tick_params(labelsize=20)\n",
    "cbar.set_label(label = 'cosine similarity', size=24)\n",
    "plt.xlabel('Motor Neurons', fontsize =18)\n",
    "plt.ylabel('Motor Neurons', fontsize =18)\n",
    "plt.yticks(fontsize = 16)\n",
    "plt.xticks(fontsize = 16)\n",
    "plt.show()\n",
    "\n",
    "fig.savefig('./figpanels/cos_sim_femur_ascending_grayscale.svg',format='svg')"
   ]
  },
  {
   "cell_type": "code",
   "execution_count": null,
   "metadata": {},
   "outputs": [],
   "source": []
  },
  {
   "attachments": {},
   "cell_type": "markdown",
   "metadata": {},
   "source": [
    "# Plot number of local synapses vs descending inputs"
   ]
  },
  {
   "cell_type": "code",
   "execution_count": null,
   "metadata": {},
   "outputs": [],
   "source": [
    "fig = plt.figure(1, figsize=(10, 6))\n",
    "ax = plt.subplot2grid((1,1),(0,0))\n",
    "ax.set_ylim([0, 2000])\n",
    "ax.set_xlim([0, 9000])\n",
    "ax.set_ylabel('Number of Descending inputs')\n",
    "ax.set_xlabel('Number of Local inputs')\n",
    "# ax.set_xscale(\"log\");\n",
    "\n",
    "x = pre_to_mn_df.loc['local',mpool_dict['trochanter_flexion']].sum()\n",
    "y = pre_to_mn_df.loc['descending',mpool_dict['trochanter_flexion']].sum()\n",
    "ax.scatter(x,y,color='#2E3191',marker='^')\n",
    "y = pre_to_mn_df.loc['intersegmental',mpool_dict['trochanter_flexion']].sum()\n",
    "# ax.scatter(x,y,color='#2E3191',marker='^')\n",
    "\n",
    "x = pre_to_mn_df.loc['local',mpool_dict['trochanter_extension']].sum()\n",
    "y = pre_to_mn_df.loc['descending',mpool_dict['trochanter_extension']].sum()\n",
    "ax.scatter(x,y,color='#F6921E',marker='^')\n",
    "y = pre_to_mn_df.loc['intersegmental',mpool_dict['trochanter_extension']].sum()\n",
    "# ax.scatter(x,y,color='#2E3191',marker='^')\n",
    "\n",
    "x = pre_to_mn_df.loc['local',mpool_dict['main_tibia_flexor']].sum()\n",
    "y = pre_to_mn_df.loc['descending',mpool_dict['main_tibia_flexor']].sum()\n",
    "ax.scatter(x,y,color='#2E3191')\n",
    "y = pre_to_mn_df.loc['intersegmental',mpool_dict['main_tibia_flexor']].sum()\n",
    "# ax.scatter(x,y,color='#2E3191',marker='^')\n",
    "\n",
    "x = pre_to_mn_df.loc['local',mpool_dict['tibia_extensor']].sum()\n",
    "y = pre_to_mn_df.loc['descending',mpool_dict['tibia_extensor']].sum()\n",
    "ax.scatter(x,y,color='#F6921E')\n",
    "y = pre_to_mn_df.loc['intersegmental',mpool_dict['tibia_extensor']].sum()\n",
    "# ax.scatter(x,y,color='#F6921E',marker='^')\n",
    "\n",
    "x = pre_to_mn_df.loc['local',mpool_dict['auxiliary_tibia_flexor_B']].sum()\n",
    "y = pre_to_mn_df.loc['descending',mpool_dict['auxiliary_tibia_flexor_B']].sum()\n",
    "ax.scatter(x,y,color='#2DB515')\n",
    "y = pre_to_mn_df.loc['intersegmental',mpool_dict['auxiliary_tibia_flexor_B']].sum()\n",
    "# ax.scatter(x,y,color='#2DB515',marker='^')\n",
    "\n",
    "x = pre_to_mn_df.loc['local',mpool_dict['auxiliary_tibia_flexor_E']].sum()\n",
    "y = pre_to_mn_df.loc['descending',mpool_dict['auxiliary_tibia_flexor_E']].sum()\n",
    "ax.scatter(x,y,color='#2DB515')\n",
    "y = pre_to_mn_df.loc['intersegmental',mpool_dict['auxiliary_tibia_flexor_E']].sum()\n",
    "# ax.scatter(x,y,color='#2DB515',marker='^')\n",
    "fig.savefig('./figpanels/descending_vs_local_inputs.svg',format='svg')"
   ]
  },
  {
   "cell_type": "code",
   "execution_count": null,
   "metadata": {},
   "outputs": [],
   "source": [
    "mpool_dict['main_tibia_flexor']"
   ]
  },
  {
   "cell_type": "code",
   "execution_count": null,
   "metadata": {},
   "outputs": [],
   "source": [
    "pre_to_mn_df.loc['local',mpool_dict['tibia_extensor']].sum()"
   ]
  },
  {
   "attachments": {},
   "cell_type": "markdown",
   "metadata": {},
   "source": [
    "# Find a couple of interesting premotor neurons that innervate the flexor pool\n",
    "Plot their inputs to the flexor pool    "
   ]
  },
  {
   "cell_type": "code",
   "execution_count": null,
   "metadata": {},
   "outputs": [],
   "source": [
    "femur_df_local = pre_to_mn_df.loc[('local'),('L','Leg','femur',All,All,All,All)]\n",
    "femur_df_all = pre_to_mn_df.loc[('local'),('L','Leg','femur',All,All,All,All)]\n",
    "\n",
    "mft_df = femur_df_local.loc[('main_tibia_flexor',All,All),mpool_dict['main_tibia_flexor']]\n",
    "mft_df = mft_df.iloc[0:50,:]\n",
    "\n",
    "mft_df_mtf = femur_df_local.loc[('main_tibia_flexor',All,All),mpool_dict['main_tibia_flexor_muscle']]\n",
    "mft_df_mtf = mft_df_mtf.iloc[0:50,:]\n",
    "\n",
    "ratiodf = mft_df_mtf.divide(mft_df_mtf.sum(axis=1),axis='index')\n",
    "ratiodf.replace([np.inf, -np.inf], np.nan, inplace=True)\n",
    "ratiodf = ratiodf.dropna()"
   ]
  },
  {
   "cell_type": "code",
   "execution_count": null,
   "metadata": {},
   "outputs": [],
   "source": [
    "mft_df.loc[(All,All,'E',All)]\n",
    "mft_df.sum(axis=1)\n",
    "# mft_df[ratiodf.apply(lambda x: x.is_monotonic,axis=1)]"
   ]
  },
  {
   "cell_type": "code",
   "execution_count": null,
   "metadata": {},
   "outputs": [],
   "source": [
    "cool_local_pMN1 = mft_df.loc[('main_tibia_flexor','Glu','B','21A',All)]\n",
    "cool_local_pMN1_id = cool_local_pMN1.index.get_level_values('segID')[0]\n",
    "cool_local_pMN1_id"
   ]
  },
  {
   "cell_type": "code",
   "execution_count": null,
   "metadata": {},
   "outputs": [],
   "source": [
    "ratiodf"
   ]
  },
  {
   "cell_type": "code",
   "execution_count": null,
   "metadata": {},
   "outputs": [],
   "source": [
    "cool_local_pMN2 = mft_df.loc[ratiodf.apply(lambda x: x.is_monotonic,axis=1)]\n",
    "cool_local_pMN2\n",
    "cool_local_pMN2_id = cool_local_pMN2.index.get_level_values('segID')[0]\n",
    "cool_local_pMN2_id"
   ]
  },
  {
   "cell_type": "code",
   "execution_count": null,
   "metadata": {},
   "outputs": [],
   "source": [
    "cool_local_pMN2"
   ]
  },
  {
   "cell_type": "code",
   "execution_count": null,
   "metadata": {},
   "outputs": [],
   "source": [
    "cool_local_pMN3 = mft_df.loc[('main_tibia_flexor','Ach','C','3A',All)]\n",
    "cool_local_pMN3\n",
    "cool_local_pMN3_id = cool_local_pMN3.index.get_level_values('segID')[2]\n",
    "cool_local_pMN3_id"
   ]
  },
  {
   "cell_type": "code",
   "execution_count": null,
   "metadata": {},
   "outputs": [],
   "source": [
    "cool_local_pMN4 = mft_df.loc[('main_tibia_flexor','Glu','R','R1',All)]\n",
    "cool_local_pMN4_id = cool_local_pMN4.index.get_level_values('segID')[0]\n",
    "cool_local_pMN4"
   ]
  },
  {
   "cell_type": "code",
   "execution_count": null,
   "metadata": {},
   "outputs": [],
   "source": [
    "def build_synapses_onto_flexor_mns(render_neurons,syn_df_dict,clr_dict): # #F6921E\n",
    "\n",
    "    img_layer = ngstbld.ImageLayerConfig(name='fanc_v4',\n",
    "                                 source=client.info.image_source(),\n",
    "                                 )\n",
    "    seg_layer = ngstbld.SegmentationLayerConfig(name = 'seg',\n",
    "                                        source =  client.info.segmentation_source(),\n",
    "                                        fixed_ids = render_neurons)\n",
    "\n",
    "    sb1 = ngstbld.StateBuilder(layers=[img_layer, seg_layer], client=client, resolution=[4.3,4.3,45])\n",
    "    state_builders = [sb1]\n",
    "\n",
    "    df_list = [None]\n",
    "\n",
    "    for key in syn_df_dict.keys():\n",
    "        print('layer {}'.format(key))\n",
    "        pool_points = ngstbld.PointMapper(point_column='pre_pt_position') ######################## change this to toggle rendering of pre- or post- synaptic points\n",
    "        pool_layer = ngstbld.AnnotationLayerConfig(name=key,\n",
    "                                        mapping_rules=pool_points,\n",
    "                                        linked_segmentation_layer=seg_layer.name,\n",
    "                                        color=clr_dict[key] )\n",
    "        sb_pool = ngstbld.StateBuilder(layers=[pool_layer],client=client)\n",
    "        state_builders.append(sb_pool)\n",
    "        df_list.append(syn_df_dict[key])\n",
    "\n",
    "    sb=ngstbld.ChainedStateBuilder(statebuilders=state_builders)\n",
    "    # state = sb.render_state(data_list=[ach_df,gaba_df,glu_df],return_as='dict')\n",
    "\n",
    "    print('{} sbs, {} dfs'.format(len(state_builders),len(df_list)))\n",
    "\n",
    "    state = sb.render_state(data_list=df_list,return_as='dict')\n",
    "    state_id = client.state.upload_state_json(state)\n",
    "\n",
    "    DEFAULT_NGL = \"https://neuromancer-seung-import.appspot.com/\"\n",
    "\n",
    "    url = client.state.build_neuroglancer_url(state_id, ngl_url=DEFAULT_NGL)\n",
    "\n",
    "    return url\n",
    "\n",
    "\n",
    "def build_spheres_onto_flexor_mns(render_neurons,syn_df_dict,clr_dict): # #F6921E\n",
    "\n",
    "    img_layer = ngstbld.ImageLayerConfig(name='fanc_v4',\n",
    "                                 source=client.info.image_source(),\n",
    "                                 )\n",
    "    seg_layer = ngstbld.SegmentationLayerConfig(name = 'seg',\n",
    "                                        source =  client.info.segmentation_source(),\n",
    "                                        fixed_ids = render_neurons)\n",
    "\n",
    "    sb1 = ngstbld.StateBuilder(layers=[img_layer, seg_layer], client=client, resolution=[4.3,4.3,45])\n",
    "    state_builders = [sb1]\n",
    "\n",
    "    df_list = [None]\n",
    "\n",
    "    for key in syn_df_dict.keys():\n",
    "        print('layer {}'.format(key))\n",
    "        # pool_points = ngstbld.PointMapper(point_column='pre_pt_position') ######################## change this to toggle rendering of pre- or post- synaptic points\n",
    "        pool_spheres = ngstbld.SphereMapper(center_column='pre_pt_position', radius_column='radius')\n",
    "        pool_layer = ngstbld.AnnotationLayerConfig(name=key,\n",
    "                                        mapping_rules=pool_spheres,\n",
    "                                        linked_segmentation_layer=seg_layer.name,\n",
    "                                        color=clr_dict[key] )\n",
    "        sb_pool = ngstbld.StateBuilder(layers=[pool_layer],client=client)\n",
    "        state_builders.append(sb_pool)\n",
    "        df_list.append(syn_df_dict[key])\n",
    "\n",
    "    sb=ngstbld.ChainedStateBuilder(statebuilders=state_builders)\n",
    "    # state = sb.render_state(data_list=[ach_df,gaba_df,glu_df],return_as='dict')\n",
    "\n",
    "    print('{} sbs, {} dfs'.format(len(state_builders),len(df_list)))\n",
    "\n",
    "    state = sb.render_state(data_list=df_list,return_as='dict')\n",
    "    state_id = client.state.upload_state_json(state)\n",
    "\n",
    "    DEFAULT_NGL = \"https://neuromancer-seung-import.appspot.com/\"\n",
    "\n",
    "    url = client.state.build_neuroglancer_url(state_id, ngl_url=DEFAULT_NGL)\n",
    "\n",
    "    return url"
   ]
  },
  {
   "cell_type": "code",
   "execution_count": null,
   "metadata": {},
   "outputs": [],
   "source": [
    "timestamp = connectome_create.get_timestamp()\n",
    "\n",
    "flexor_rnk = mft_df.columns.get_level_values('rank').to_list()\n",
    "flexor_rnk[1] = '1'\n",
    "flexor_id = mft_df.columns.get_level_values('segID').to_list()\n",
    "\n",
    "for cool_pmn in [cool_local_pMN1_id,cool_local_pMN2_id,cool_local_pMN3_id,cool_local_pMN4_id]:\n",
    "    render_neurons = [cool_pmn]\n",
    "\n",
    "    syn_df_dict = {}\n",
    "    clr_dict = {}\n",
    "    clr_list = ['#AAAAFF','#6666FF','#4444CC','#2222AA','#0000AA']\n",
    "    for rnk,id,clr in zip(flexor_rnk,flexor_id,clr_list):\n",
    "        syn_df = client.materialize.synapse_query(post_ids = id, pre_ids=cool_pmn, timestamp=timestamp)\n",
    "        syn_df['radius'] = 180\n",
    "        syn_df_dict[rnk] = syn_df\n",
    "        clr_dict[rnk] = clr\n",
    "\n",
    "    # print(build_synapses_onto_flexor_mns(render_neurons,syn_df_dict,clr_dict))\n",
    "    print(build_spheres_onto_flexor_mns(render_neurons,syn_df_dict,clr_dict))"
   ]
  },
  {
   "attachments": {},
   "cell_type": "markdown",
   "metadata": {},
   "source": [
    "# Find a couple of interesting FETi neurons"
   ]
  },
  {
   "cell_type": "code",
   "execution_count": null,
   "metadata": {},
   "outputs": [],
   "source": [
    "femur_df_local = pre_to_mn_df.loc[('local'),('L','Leg','femur',All,All,All,All)]\n",
    "femur_df_all = pre_to_mn_df.loc[('local'),('L','Leg','femur',All,All,All,All)]\n",
    "\n",
    "eti_df = femur_df_local.loc[('tibia_extensor',All,All),mpool_dict['tibia_extensor']]\n",
    "eti_df = eti_df.iloc[0:50,:]\n",
    "# eti_df.index.get_level_values('segID').to_list()\n",
    "# eti_df\n"
   ]
  },
  {
   "cell_type": "code",
   "execution_count": null,
   "metadata": {},
   "outputs": [],
   "source": [
    "# 1 A nice looking 8A neuron that makes a lot of synapses (Glu)\n",
    "cool_local_eti_pmn_1 = eti_df.loc[('tibia_extensor','Glu','S','8A_')].index.get_level_values('segID')[0]\n",
    "cool_local_eti_pmn_1"
   ]
  },
  {
   "cell_type": "code",
   "execution_count": null,
   "metadata": {},
   "outputs": [],
   "source": [
    "# 1 A nice looking 8A neuron that makes a lot of synapses (Glu)\n",
    "cool_local_eti_pmn_2 = eti_df.loc[('tibia_extensor','Ach','K','4B')].index.get_level_values('segID')[-2]\n",
    "cool_local_eti_pmn_2"
   ]
  },
  {
   "cell_type": "code",
   "execution_count": null,
   "metadata": {},
   "outputs": [],
   "source": [
    "timestamp = connectome_create.get_timestamp()\n",
    "\n",
    "flexor_rnk = eti_df.columns.get_level_values('rank').to_list()\n",
    "flexor_id = eti_df.columns.get_level_values('segID').to_list()\n",
    "\n",
    "\n",
    "for cool_pmn in [cool_local_eti_pmn_1,cool_local_eti_pmn_2 ]:\n",
    "    render_neurons = [cool_pmn]\n",
    "\n",
    "    syn_df_dict = {}\n",
    "    clr_dict = {}\n",
    "    clr_list = ['#AAAAFF','#6666FF','#4444CC','#2222AA','#0000AA']\n",
    "    for rnk,id,clr in zip(flexor_rnk,flexor_id,clr_list):\n",
    "        syn_df = client.materialize.synapse_query(post_ids = id, pre_ids=cool_pmn, timestamp=timestamp)\n",
    "        syn_df['radius'] = 180\n",
    "        syn_df_dict[rnk] = syn_df\n",
    "        clr_dict[rnk] = clr\n",
    "\n",
    "    # print(build_synapses_onto_flexor_mns(render_neurons,syn_df_dict,clr_dict))\n",
    "    print(build_spheres_onto_flexor_mns(render_neurons,syn_df_dict,clr_dict))"
   ]
  },
  {
   "attachments": {},
   "cell_type": "markdown",
   "metadata": {},
   "source": [
    "# Look at a small snippet of the full matrix"
   ]
  },
  {
   "cell_type": "code",
   "execution_count": null,
   "metadata": {},
   "outputs": [],
   "source": [
    "import utils\n",
    "muscle_tuple_dict = utils.get_motor_pool_tuple_dict()\n",
    "mpool_dict = utils.get_motor_pool_tuple_dict()\n",
    "femur_df_local = pre_to_mn_df.loc[('local'),('L','Leg','femur',All,All,All,All)]\n",
    "femur_df_all = pre_to_mn_df.loc[('local'),('L','Leg','femur',All,All,All,All)]\n",
    "\n",
    "mft_df = femur_df_local.loc[(['tibia_extensor','main_tibia_flexor'],All,All),mpool_dict['tibia_extensor_flexorA']]\n",
    "mft_df = femur_df_local.loc[(['tibia_extensor','main_tibia_flexor'],All,All),mpool_dict['tibia_extensor_mainflexor_auxA']]\n",
    "# mft_df = mft_df.iloc[0:50,:]\n",
    "\n",
    "fig = plt.figure(1, figsize = [6,6])\n",
    "lbls = utils.mn_labels(mft_df.columns.to_frame(),depth='rank')\n",
    "ax = sns.heatmap(np.log10(mft_df.to_numpy()+1), xticklabels=lbls,cmap=utils.white_dense())\n",
    "cbar = ax.collections[0].colorbar\n",
    "cbar.set_label(label = 'log 10 # of synapses',)\n",
    "\n",
    "plt.savefig('./figpanels/tibiaflexA_heat_map.svg',format='svg')\n",
    "plt.show()"
   ]
  },
  {
   "cell_type": "code",
   "execution_count": null,
   "metadata": {},
   "outputs": [],
   "source": [
    "mpool_dict['tibia_extensor_flexorA']"
   ]
  },
  {
   "attachments": {},
   "cell_type": "markdown",
   "metadata": {},
   "source": [
    "# Compare ratio of inputs (Tibia extension)"
   ]
  },
  {
   "cell_type": "code",
   "execution_count": null,
   "metadata": {},
   "outputs": [],
   "source": [
    "femur_df_local = pre_to_mn_df.loc[('local'),('L','Leg','femur',All,All,All,All)]\n",
    "femur_df_all = pre_to_mn_df.loc[('local'),('L','Leg','femur',All,All,All,All)]\n",
    "\n",
    "ext_df = femur_df_local.loc[('tibia_extensor',All,All),mpool_dict['tibia_extensor']]\n",
    "ext_df = ext_df.iloc[0:50,:]\n",
    "\n",
    "s = ext_df.sum(axis='columns')\n",
    "\n",
    "ext_df = ext_df.loc[s.sort_values(ascending=False).index,:]\n",
    "ext_df\n"
   ]
  },
  {
   "cell_type": "code",
   "execution_count": null,
   "metadata": {},
   "outputs": [],
   "source": [
    "\n",
    "fig = plt.figure(1, figsize = [6,6])\n",
    "lbls = utils.mn_labels(ext_df.columns.to_frame(),depth='rank')\n",
    "ax = sns.heatmap(ext_df.to_numpy(), xticklabels=lbls,cmap=utils.white_dense())\n",
    "cbar = ax.collections[0].colorbar\n",
    "cbar.set_label(label = 'log 10 # of synapses',)\n",
    "plt.show()\n",
    "plt.savefig('./figpanels/tibiaextensor_heat_map.svg',format='svg')\n",
    "\n",
    "ratiodf = ext_df.divide(ext_df.sum(axis=1),axis='index')\n",
    "ratiodf.replace([np.inf, -np.inf], np.nan, inplace=True)\n",
    "ratiodf = ratiodf.dropna()\n",
    "\n",
    "x = [i for i in range(ext_df.shape[1])]\n",
    "fig, ax = plt.subplots( 1, 1, figsize=(8,8))\n",
    "ax.plot(x,ratiodf.to_numpy().T,color='#CCCCCC',marker='.')\n",
    "ax.plot(x,np.median(ratiodf.to_numpy(),axis=0),color='#000000',marker='.',ls='')\n",
    "\n",
    "ratiodf.columns = ratiodf.columns.droplevel(['side','nerve','segment','function','muscle','segID'])\n",
    "ranks = ratiodf.copy()\n",
    "for c in range(ranks.shape[1]):\n",
    "    ranks.iloc[:,c] = c\n",
    "\n",
    "\n",
    "df = pd.concat([pd.concat([ranks.iloc[:,x] for x in range(ranks.shape[1])]),pd.concat([ratiodf.iloc[:,x] for x in range(ratiodf.shape[1])])],axis=1)\n",
    "df.columns=['rank','ratio']\n",
    "df['total'] = ext_df.sum(axis=1)\n",
    "# df['total'] = np.log10(mft_df.sum(axis=1)+1)\n",
    "\n",
    "dx = \"rank\"; dy = \"ratio\"; ort = \"v\"; pal = \"Set2\"; sigma = .2\n",
    "f, ax = plt.subplots(figsize=(32, 7))\n",
    "\n",
    "ax=pt.RainCloud(x = dx, y = dy, data = df, palette = pal, bw = sigma,\n",
    "                 width_viol = .6, ax = ax, orient = ort, move = .2,pointplot=True)\n",
    "\n",
    "plt.title(\"Relative of synapse counts compared to Fast MN\")\n",
    "\n",
    "ax.set_ylim([-.1,1.1])\n",
    "plt.savefig('./figpanels/tibia_ext_prop_conn_raincloud.svg')\n",
    "\n",
    "\n",
    "fig, ax = plt.subplots( 1, 1, figsize=(20,8))\n",
    "sns.color_palette(\"YlOrBr\", as_cmap=True)\n",
    "sns.scatterplot(data=df.iloc[::-1], x=\"rank\", y=\"ratio\", hue=\"total\",palette=utils.white_dense(),ax=ax)\n",
    "# ax = sns.scatterplot(data=tips, x=\"sex\", y=\"total_bill\", hue=\"total_bill\", palette=\"viridis\", legend=False)\n",
    "pts = ax.collections[0]\n",
    "pts.set_offsets(pts.get_offsets() + np.c_[np.random.uniform(-.2, .2, len(df)), np.zeros(len(df))])\n",
    "ax.margins(x=.5)\n",
    "ax.autoscale_view()\n",
    "# ax.get_legend().remove()\n",
    "norm = plt.Normalize(0,df['total'].max())\n",
    "sm = plt.cm.ScalarMappable(cmap=utils.white_dense(), norm=norm)\n",
    "sm.set_array([])\n",
    "ax.figure.colorbar(sm)\n",
    "\n",
    "                # [top 4B, other 4B, big old 8A, one exception]\n",
    "for cool_pmn in [648518346490338058,648518346490367836,648518346508809279\t,648518346472455883]:\n",
    "    pmndf = df.loc[(All,All,All,All,cool_pmn)].copy().reset_index()\n",
    "    sns.lineplot(data=pmndf,x=\"rank\",y='ratio')\n",
    "\n",
    "ax.set_ylim([-.1,1.1])\n",
    "plt.savefig('./figpanels/tibia_ext_prop_conn_stripplot.svg')\n"
   ]
  },
  {
   "cell_type": "code",
   "execution_count": null,
   "metadata": {},
   "outputs": [],
   "source": [
    "a = np.median(ratiodf.to_numpy(),axis=0)\n",
    "a[1]/a[0]"
   ]
  },
  {
   "attachments": {},
   "cell_type": "markdown",
   "metadata": {},
   "source": [
    "# Compare ratio of inputs (Flexors)"
   ]
  },
  {
   "cell_type": "code",
   "execution_count": null,
   "metadata": {},
   "outputs": [],
   "source": [
    "femur_df_local = pre_to_mn_df.loc[('local'),('L','Leg','femur',All,All,All,All)]\n",
    "femur_df_all = pre_to_mn_df.loc[('local'),('L','Leg','femur',All,All,All,All)]\n",
    "\n",
    "mft_df = femur_df_local.loc[('main_tibia_flexor',All,All),mpool_dict['aux_main_tibia_flexor']]\n",
    "mft_df = mft_df.iloc[0:50,:]\n",
    "\n",
    "fig = plt.figure(1, figsize = [6,6])\n",
    "lbls = utils.mn_labels(mft_df.columns.to_frame(),depth='rank')\n",
    "ax = sns.heatmap(mft_df.to_numpy(), xticklabels=lbls,cmap=utils.white_dense())\n",
    "cbar = ax.collections[0].colorbar\n",
    "cbar.set_label(label = 'log 10 # of synapses',)\n",
    "plt.show()\n",
    "plt.savefig('./figpanels/tibiaflexA_heat_map.svg',format='svg')\n",
    "\n",
    "import ptitprince as pt\n",
    "\n",
    "ratiodf = mft_df.divide(mft_df.sum(axis=1),axis='index')\n",
    "ratiodf.replace([np.inf, -np.inf], np.nan, inplace=True)\n",
    "ratiodf = ratiodf.dropna()\n",
    "\n",
    "x = [i for i in range(mft_df.shape[1])]\n",
    "\n",
    "fig, ax = plt.subplots( 1, 1, figsize=(8,8))\n",
    "ax.plot(x,ratiodf.to_numpy().T,color='#CCCCCC',marker='.')\n",
    "\n",
    "ax.plot(x,np.median(ratiodf.to_numpy(),axis=0),color='#000000',marker='.',ls='')\n",
    "\n",
    "# total = mft_df.sum(axis=0)\n",
    "# total = total/total.sum()\n",
    "# ax.plot(x,total.to_numpy(),color='#FF0000',marker='.',ls='')\n",
    "\n",
    "ax.set_xlabel('Rank of tibia flexor MN')\n",
    "ax.set_ylabel('Ratio of input, compare to Fast flexor')\n",
    "\n",
    "ratiodf.columns = ratiodf.columns.droplevel(['side','nerve','segment','function','muscle','segID'])\n",
    "ranks = ratiodf.copy()\n",
    "for c in range(ranks.shape[1]):\n",
    "    ranks.iloc[:,c] = c\n",
    "\n",
    "df = pd.concat([pd.concat([ranks.iloc[:,x] for x in range(ranks.shape[1])]),pd.concat([ratiodf.iloc[:,x] for x in range(ratiodf.shape[1])])],axis=1)\n",
    "df.columns=['rank','ratio']\n",
    "df['total'] = mft_df.sum(axis=1)\n",
    "# df['total'] = np.log10(mft_df.sum(axis=1)+1)\n",
    "\n",
    "dx = \"rank\"; dy = \"ratio\"; ort = \"v\"; pal = \"Set2\"; sigma = .2\n",
    "f, ax = plt.subplots(figsize=(32, 7))\n",
    "\n",
    "ax=pt.RainCloud(x = dx, y = dy, data = df, palette = pal, bw = sigma,\n",
    "                 width_viol = .6, ax = ax, orient = ort, move = .2,pointplot=True)\n",
    "\n",
    "plt.title(\"Relative of synapse counts compared to Fast MN\")\n",
    "\n",
    "ax.set_ylim([-.1,.75])\n",
    "plt.savefig('./figpanels/tibflexA_prop_conn_raincloud.svg')\n",
    "\n",
    "# fig, ax = plt.subplots( 1, 1, figsize=(20,8))\n",
    "# sns.swarmplot(data=df, x=\"rank\", y=\"ratio\", hue=\"total\",palette=\"binary\",ax=ax)\n",
    "# sns.stripplot(data=df, x=\"rank\", y=\"ratio\", hue=\"total\",palette=\"binary\",ax=ax)# ax.get_legend().remove()\n",
    "# ax.set_ylim([-.1,.75])\n",
    "# plt.savefig('./figpanels/tibflexA_prop_conn_stripplot.svg')\n"
   ]
  },
  {
   "cell_type": "code",
   "execution_count": null,
   "metadata": {},
   "outputs": [],
   "source": [
    "\n",
    "fig, ax = plt.subplots( 1, 1, figsize=(20,8))\n",
    "sns.scatterplot(data=df.iloc[::-1], x=\"rank\", y=\"ratio\", hue=\"total\",palette=utils.white_dense(),ax=ax)\n",
    "# ax = sns.scatterplot(data=tips, x=\"sex\", y=\"total_bill\", hue=\"total_bill\", palette=\"viridis\", legend=False)\n",
    "pts = ax.collections[0]\n",
    "pts.set_offsets(pts.get_offsets() + np.c_[np.random.uniform(-.2, .2, len(df)), np.zeros(len(df))])\n",
    "ax.margins(x=.5)\n",
    "ax.autoscale_view()\n",
    "ax.get_legend().remove()\n",
    "norm = plt.Normalize(0,df['total'].max())\n",
    "sm = plt.cm.ScalarMappable(cmap=utils.white_dense(), norm=norm)\n",
    "sm.set_array([])\n",
    "ax.figure.colorbar(sm)\n",
    "\n",
    "# for cool_pmn in [cool_local_pMN1_id,cool_local_pMN2_id,cool_local_pMN3_id,cool_local_pMN4_id]:\n",
    "#     pmndf = df.loc[(All,All,All,All,cool_pmn)].copy().reset_index()\n",
    "#     sns.lineplot(data=pmndf,x=\"rank\",y='ratio')\n",
    "\n",
    "ax.set_ylim([-.1,.75])\n",
    "plt.savefig('./figpanels/tibiaflexA_prop_conn_stripplot.svg')\n"
   ]
  },
  {
   "cell_type": "code",
   "execution_count": null,
   "metadata": {},
   "outputs": [],
   "source": [
    "# df.loc[(All,All,All,All,cool_pmn)]\n",
    "pmndf.reset_index()"
   ]
  },
  {
   "cell_type": "code",
   "execution_count": null,
   "metadata": {},
   "outputs": [],
   "source": [
    "[cool_local_pMN1_id,cool_local_pMN2_id,cool_local_pMN3_id,cool_local_pMN4_id]"
   ]
  },
  {
   "cell_type": "code",
   "execution_count": null,
   "metadata": {},
   "outputs": [],
   "source": [
    "ratiodf"
   ]
  },
  {
   "cell_type": "code",
   "execution_count": null,
   "metadata": {},
   "outputs": [],
   "source": [
    "import scipy\n",
    "\n",
    "scipy.stats.mannwhitneyu(ratiodf.iloc[:,7],ratiodf.iloc[:,8],alternative='two-sided',)"
   ]
  },
  {
   "cell_type": "code",
   "execution_count": null,
   "metadata": {},
   "outputs": [],
   "source": [
    "scipy.stats.kruskal(ratiodf.iloc[:,4],ratiodf.iloc[:,5],ratiodf.iloc[:,6],ratiodf.iloc[:,7],ratiodf.iloc[:,8])\n",
    "# scipy.stats.kruskal(ratiodf.iloc[:,0],ratiodf.iloc[:,1],ratiodf.iloc[:,2],ratiodf.iloc[:,3],ratiodf.iloc[:,4],ratiodf.iloc[:,5],ratiodf.iloc[:,6],ratiodf.iloc[:,7],ratiodf.iloc[:,8])"
   ]
  },
  {
   "cell_type": "code",
   "execution_count": null,
   "metadata": {},
   "outputs": [],
   "source": [
    "import scikit_posthocs \n",
    "\n",
    "scikit_posthocs.posthoc_conover(df,val_col= 'ratio',group_col='rank',p_adjust='holm')\n"
   ]
  },
  {
   "attachments": {},
   "cell_type": "markdown",
   "metadata": {},
   "source": [
    "## Just the main tibia flexors"
   ]
  },
  {
   "cell_type": "code",
   "execution_count": null,
   "metadata": {},
   "outputs": [],
   "source": [
    "femur_df_local = pre_to_mn_df.loc[('local'),('L','Leg','femur',All,All,All,All)]\n",
    "femur_df_all = pre_to_mn_df.loc[('local'),('L','Leg','femur',All,All,All,All)]\n",
    "\n",
    "mft_df = femur_df_local.loc[('main_tibia_flexor',All,All),mpool_dict['main_tibia_flexor_muscle']]\n",
    "mft_df = mft_df.iloc[0:50,:]\n",
    "\n",
    "fig = plt.figure(1, figsize = [6,6])\n",
    "lbls = utils.mn_labels(mft_df.columns.to_frame(),depth='rank')\n",
    "ax = sns.heatmap(mft_df.to_numpy(), xticklabels=lbls,cmap=utils.white_dense())\n",
    "cbar = ax.collections[0].colorbar\n",
    "cbar.set_label(label = '# of synapses',)\n",
    "plt.savefig('./figpanels/mtf_heat_map.svg',format='svg')\n",
    "plt.show()\n",
    "\n",
    "\n",
    "import ptitprince as pt\n",
    "\n",
    "ratiodf = mft_df.divide(mft_df.sum(axis=1),axis='index')\n",
    "ratiodf.replace([np.inf, -np.inf], np.nan, inplace=True)\n",
    "ratiodf = ratiodf.dropna()\n",
    "\n",
    "x = [i for i in range(mft_df.shape[1])]\n",
    "\n",
    "fig, ax = plt.subplots( 1, 1, figsize=(8,8))\n",
    "ax.plot(x,ratiodf.to_numpy().T,color='#CCCCCC',marker='.')\n",
    "\n",
    "ax.plot(x,np.median(ratiodf.to_numpy(),axis=0),color='#000000',marker='.',ls='')\n",
    "\n",
    "# total = mft_df.sum(axis=0)\n",
    "# total = total/total.sum()\n",
    "# ax.plot(x,total.to_numpy(),color='#FF0000',marker='.',ls='')\n",
    "\n",
    "ax.set_xlabel('Rank of tibia flexor MN')\n",
    "ax.set_ylabel('Ratio of input, compare to Fast flexor')\n",
    "\n",
    "ratiodf.columns = ratiodf.columns.droplevel(['side','nerve','segment','function','muscle','segID'])\n",
    "ranks = ratiodf.copy()\n",
    "for c in range(ranks.shape[1]):\n",
    "    ranks.iloc[:,c] = c\n",
    "\n",
    "df = pd.concat([pd.concat([ranks.iloc[:,x] for x in range(ranks.shape[1])]),pd.concat([ratiodf.iloc[:,x] for x in range(ratiodf.shape[1])])],axis=1)\n",
    "df.columns=['rank','ratio']\n",
    "df['total'] = mft_df.sum(axis=1)\n",
    "df['total'] = np.log10(mft_df.sum(axis=1)+1)\n",
    "\n",
    "dx = \"rank\"; dy = \"ratio\"; ort = \"v\"; pal = \"Set2\"; sigma = .2\n",
    "f, ax = plt.subplots(figsize=(32, 7))\n",
    "\n",
    "ax=pt.RainCloud(x = dx, y = dy, data = df, palette = pal, bw = sigma,\n",
    "                 width_viol = .6, ax = ax, orient = ort, move = .2)\n",
    "ax.set_ylim([-.1,.75])\n",
    "plt.title(\"Ratio of synapse counts compared to Fast MN\")\n",
    "plt.savefig('tibflexA_heat_map.svg')\n",
    "plt.savefig('./figpanels/mtf_prop_conn_raincloud.svg')\n",
    "\n",
    "fig, ax = plt.subplots( 1, 1, figsize=(20,8))\n",
    "sns.scatterplot(data=df.iloc[::-1], x=\"rank\", y=\"ratio\", hue=\"total\",palette=utils.white_dense(),ax=ax)\n",
    "# ax = sns.scatterplot(data=tips, x=\"sex\", y=\"total_bill\", hue=\"total_bill\", palette=\"viridis\", legend=False)\n",
    "pts = ax.collections[0]\n",
    "pts.set_offsets(pts.get_offsets() + np.c_[np.random.uniform(-.2, .2, len(df)), np.zeros(len(df))])\n",
    "ax.margins(x=.5)\n",
    "ax.autoscale_view()\n",
    "ax.get_legend().remove()\n",
    "norm = plt.Normalize(0,df['total'].max())\n",
    "sm = plt.cm.ScalarMappable(cmap=utils.white_dense(), norm=norm)\n",
    "sm.set_array([])\n",
    "ax.figure.colorbar(sm)\n",
    "\n",
    "ax.set_ylim([-.1,.75])\n",
    "plt.savefig('./figpanels/mtf_prop_conn_stripplot.svg')\n"
   ]
  },
  {
   "cell_type": "code",
   "execution_count": null,
   "metadata": {},
   "outputs": [],
   "source": [
    "len(df)"
   ]
  },
  {
   "cell_type": "code",
   "execution_count": null,
   "metadata": {},
   "outputs": [],
   "source": [
    "import scipy\n",
    "\n",
    "scipy.stats.mannwhitneyu(ratiodf.iloc[:,0],ratiodf.iloc[:,4],alternative='less',)"
   ]
  },
  {
   "cell_type": "code",
   "execution_count": null,
   "metadata": {},
   "outputs": [],
   "source": [
    "scipy.stats.kruskal(ratiodf.iloc[:,0],ratiodf.iloc[:,1],ratiodf.iloc[:,2],ratiodf.iloc[:,3],ratiodf.iloc[:,4])"
   ]
  },
  {
   "cell_type": "code",
   "execution_count": null,
   "metadata": {},
   "outputs": [],
   "source": [
    "scikit_posthocs.posthoc_conover(df,val_col= 'ratio',group_col='rank',p_adjust='holm')\n"
   ]
  },
  {
   "cell_type": "code",
   "execution_count": null,
   "metadata": {},
   "outputs": [],
   "source": [
    "df[ratiodf.apply(lambda x: x.is_monotonic,axis=1)]"
   ]
  },
  {
   "attachments": {},
   "cell_type": "markdown",
   "metadata": {},
   "source": [
    "# Bootstrap the cosine similarity metrics\n",
    "There are a number of ways to make these comparisons. We can consider both which weights are shuffled, and what the metric of comparison is. \n",
    "\n",
    "Metrics\n",
    "1. Compute the average similarity within the pool, project each neuron onto the average. What I have done so far, gives a single number.\n",
    "2. Compute the pairwise similarity between each neuron. Then what? Compute mean and variance?\n",
    "\n",
    "Shuffling\n",
    "1. I could shuffle only the weights that a particular preMN makes onto the pool, i.e. just in the small square. That preserves density but mixes up propotionality.\n",
    "2. I could shuffle the weights of all the connections that a hemilineage makes within the preferred pool. That preserve density, but shuffles the propotionality a bit more. \n",
    "3. I could shuffle all of the weights of a given premotor neuron, across pools. That preserves neither density nor proportionality. \n",
    "4. I could shuffle the weights of all the connection from a hemilineages onto the pools, including preMNs that don't prefer the pool. That also preserves neither density nor propotionality.\n",
    "Start with local neurons onto extensors and flexors"
   ]
  },
  {
   "attachments": {},
   "cell_type": "markdown",
   "metadata": {},
   "source": [
    "## Plotting functions"
   ]
  },
  {
   "cell_type": "code",
   "execution_count": null,
   "metadata": {},
   "outputs": [],
   "source": [
    "def plot_sim_map(sim_mat,df,fn=None):\n",
    "    fig = plt.figure(1, figsize = [6,6])\n",
    "\n",
    "    mn_mi = df.columns.to_frame()\n",
    "    ax = sns.heatmap(sim_mat, xticklabels=mn_mi.loc[:,'rank'].to_list(),cmap=plt.get_cmap('Greys'),vmin=0,vmax=1)\n",
    "    ax.xaxis.set_ticks_position('top')\n",
    "    cbar = ax.collections[0].colorbar\n",
    "    ax.set_xticklabels(ax.get_xticklabels(),rotation = 90)\n",
    "    cbar.set_label(label = 'cosine similarity')\n",
    "    plt.xlabel('MTF')\n",
    "    plt.show()\n",
    "\n",
    "    if not fn is None:\n",
    "        fig.savefig('./figpanels/{}.svg'.format(fn),format='svg')\n",
    "\n",
    "def plot_conn_map(conn_mat,df,fn=None):\n",
    "    fig = plt.figure(2, figsize = [6,12])\n",
    "    mn_mi = df.columns.to_frame()\n",
    "    ax = sns.heatmap(conn_mat, xticklabels=mn_mi.loc[:,'rank'].to_list(), cmap=utils.white_dense())\n",
    "    # ax.xaxis.set_ticks_position('top')\n",
    "    cbar = ax.collections[0].colorbar\n",
    "    ax.set_xticklabels(ax.get_xticklabels(),rotation = 90)\n",
    "\n",
    "    cbar.set_label(label = '# syn')\n",
    "    plt.xlabel('Motor Neurons')\n",
    "    plt.show()\n",
    "    if not fn is None:\n",
    "        fig.savefig('./figpanels/{}.svg'.format(fn),format='svg')\n",
    "\n",
    "def plot_hem_conn_map(conn_mat,df,ct,fn=None):\n",
    "    fig = plt.figure(2, figsize = [6,12])\n",
    "    mn_mi = df.columns.to_frame()\n",
    "    ax = sns.heatmap(conn_mat, xticklabels=mn_mi.loc[:,'rank'].to_list(), cmap=utils.white_dense())\n",
    "    # ax.xaxis.set_ticks_position('top')\n",
    "    cbar = ax.collections[0].colorbar\n",
    "    ax.set_xticklabels(ax.get_xticklabels(),rotation = 90)\n",
    "\n",
    "    yticks = df.index.get_locs((All,All,All,All,ct,All))\n",
    "    ax.set_yticks(yticks)\n",
    "    ax.set_yticklabels([ct]*len(yticks))\n",
    "    \n",
    "    cbar.set_label(label = '# syn')\n",
    "    plt.xlabel('Motor Neurons')\n",
    "    plt.show()\n",
    "\n",
    "    if not fn is None:\n",
    "        fig.savefig('./figpanels/{}.svg'.format(fn),format='svg')\n",
    "\n",
    "\n",
    "def plot_mask(conn_mat,df,fn=None):\n",
    "    fig = plt.figure(3, figsize = [6,12])\n",
    "    mn_mi = df.columns.to_frame()\n",
    "    ax = sns.heatmap(conn_mat, xticklabels=mn_mi.loc[:,'rank'].to_list(),cmap=plt.get_cmap('Greys'),vmin=0,vmax=1)\n",
    "    # ax.xaxis.set_ticks_position('top')\n",
    "    cbar = ax.collections[0].colorbar\n",
    "    ax.set_xticklabels(ax.get_xticklabels(),rotation = 90)\n",
    "\n",
    "    cbar.set_label(label = '# syn')\n",
    "    plt.xlabel('Motor Neurons')\n",
    "    plt.show()\n",
    "    \n",
    "    if not fn is None:\n",
    "        print(fn)\n",
    "        fig.savefig('./figpanels/{}.svg'.format(fn),format='svg')\n",
    "\n",
    "def plot_shuf_cum(x_unsorted,color = '#000000',ref_x=None, fn=None,fignum=4,title=None):\n",
    "    fig = plt.figure(fignum, figsize=(10, 6))\n",
    "    ax = plt.subplot2grid((1,1),(0,0))\n",
    "    ax.set_ylim([-.1, 1.1])\n",
    "    ax.set_xlim([.945, .96])\n",
    "    ax.set_xlim([0, 1])\n",
    "    ax.set_ylabel('Cummulative fraction')\n",
    "    ax.set_xlabel('Sum of cosine similarity for MTF')\n",
    "    ax.set_title(title)\n",
    "\n",
    "    # colors = {1: '#CCCCCC', 2: '#666666',3: '#000000'}\n",
    "    # for m in [1,2,3]:\n",
    "    # exec('mu=mixups_{}'.format(m))\n",
    "    y = np.array(range(len(x_unsorted))).astype(float)/len(x_unsorted)\n",
    "    ax.plot(sorted(x_unsorted),y,color=color)\n",
    "    if not ref_x is None:\n",
    "        ax.plot(ref_x*np.array([1,1]),np.array([0,1]),color='#0000FF')\n",
    "\n",
    "    pct_below_actual = (x_unsorted<ref_x).sum() / len(x_unsorted)\n",
    "    p=1-pct_below_actual\n",
    "    ax.text(.94,.5,'p = {:.5f}'.format(p))\n",
    "\n",
    "    if not fn is None:\n",
    "        fig.savefig('./figpanels/{}.eps'.format(fn),format='eps')\n"
   ]
  },
  {
   "attachments": {},
   "cell_type": "markdown",
   "metadata": {},
   "source": [
    "## Bootstrap functions"
   ]
  },
  {
   "cell_type": "code",
   "execution_count": null,
   "metadata": {},
   "outputs": [],
   "source": [
    "def get_hat_bar_from_numpy(pmn_conn_mat):\n",
    "    norm = pmn_conn_mat.copy()\n",
    "    for c in range(pmn_conn_mat.shape[1]):\n",
    "        sq = pmn_conn_mat[:,c]**2\n",
    "        norm[:,c] = np.sqrt(sq.sum())\n",
    "    hats = pmn_conn_mat/norm\n",
    "\n",
    "    hat_bar = hats.mean(axis=1)\n",
    "    hat_bar = hat_bar/np.sqrt((hat_bar**2).sum())\n",
    "    return hat_bar, hats, pmn_conn_mat \n",
    "\n",
    "def residue_norms(hat_bar,mat):\n",
    "    proj = np.matmul(mat.T,hat_bar)\n",
    "    residues = mat\n",
    "    for c in range(residues.shape[1]):\n",
    "        residues[:,c] = mat-(hat_bar*proj[c])\n",
    "    residue_norms = np.sqrt((residues**2).sum(axis=0))\n",
    "    residue_R1_norms = (np.abs(residues)).sum(axis=0)\n",
    "    return residue_norms,residue_R1_norms\n",
    "\n",
    "def mix_up_under_mask(mat_in,mask=None,rng=None):\n",
    "    if mask is None:\n",
    "        mask = np.full(mat_in.shape, True)\n",
    "    if rng is None:\n",
    "        rng = np.random.default_rng()\n",
    "    \n",
    "    mat_out = mat_in.copy()\n",
    "    mat_out[mask] = rng.permutation(mat_in[mask])\n",
    "    return mat_out\n",
    "\n",
    "\n",
    "def choice_under_mask(mat_in,mask=None,rng=None,replace=True):\n",
    "    if mask is None:\n",
    "        mask = np.full(mat_in.shape, True)\n",
    "    if rng is None:\n",
    "        rng = np.random.default_rng()\n",
    "    \n",
    "    mat_out = mat_in.copy()\n",
    "    mat_out[mask] = rng.choice(mat_in[mask],size=mat_in[mask].size, replace=replace)\n",
    "    return mat_out\n",
    "\n",
    "def mix_up_columns_under_mask(mat_in,mask=None,rng=None,permute = True):\n",
    "    if mask is None:\n",
    "        mask = np.full(mat_in.shape, True)\n",
    "    if rng is None:\n",
    "        rng = np.random.default_rng()\n",
    "    \n",
    "    mat_out = mat_in.copy()\n",
    "    for r in range(mask.shape[0]):\n",
    "        if mask[r,0]:\n",
    "            if permute:\n",
    "                mat_out[r,:] = mat_out[r,rng.permutation(mask.shape[1])]\n",
    "            else:\n",
    "                mat_out[r,:] = mat_out[r,rng.integers(0,high=mask.shape[1],size=5)]\n",
    "            \n",
    "    return mat_out\n",
    "\n"
   ]
  },
  {
   "attachments": {},
   "cell_type": "markdown",
   "metadata": {},
   "source": [
    "# Main Tibia Flexor"
   ]
  },
  {
   "attachments": {},
   "cell_type": "markdown",
   "metadata": {},
   "source": [
    "## Starting point"
   ]
  },
  {
   "cell_type": "code",
   "execution_count": null,
   "metadata": {},
   "outputs": [],
   "source": [
    "# The starting point\n",
    "\n",
    "All = slice(None)\n",
    "femur_df_local = pre_to_mn_df.loc[('local'),('L','Leg','femur',All,All,All,All)]\n",
    "sim_mat = cosine_similarity(femur_df_local.to_numpy().transpose())\n",
    "plot_sim_map(sim_mat,femur_df_local)\n",
    "plot_conn_map(femur_df_local.to_numpy(),femur_df_local)"
   ]
  },
  {
   "attachments": {},
   "cell_type": "markdown",
   "metadata": {},
   "source": [
    "## Mean of pairwise similarity, shuffling weights within hemilineage = Density, No propotionality\n"
   ]
  },
  {
   "cell_type": "code",
   "execution_count": null,
   "metadata": {},
   "outputs": [],
   "source": [
    "All = slice(None)\n",
    "mtf_local_df = pre_to_mn_df.loc[('local',All,All,All,All),mpool_dict['main_tibia_flexor_muscle']]\n",
    "mtf_local_df = pre_to_mn_df.loc[('local','main_tibia_flexor',All,All,All),mpool_dict['main_tibia_flexor_muscle']]\n",
    "sim_mat = cosine_similarity(mtf_local_df.to_numpy().transpose())\n",
    "\n",
    "pair_wise_comparisons = np.tril(np.full(sim_mat.shape,True),k=-1)\n",
    "cos_sim_mean = sim_mat[pair_wise_comparisons].mean()\n",
    "print(cos_sim_mean) # note, not that different if just using the preferred pool, so just limit to the small square\n",
    "\n",
    "plot_sim_map(sim_mat,mtf_local_df)\n",
    "plot_conn_map(mtf_local_df.to_numpy(),mtf_local_df,fn='MTF_full_conn')"
   ]
  },
  {
   "attachments": {},
   "cell_type": "markdown",
   "metadata": {},
   "source": [
    "## Get the top celltypes"
   ]
  },
  {
   "cell_type": "code",
   "execution_count": null,
   "metadata": {},
   "outputs": [],
   "source": [
    "mtf_local_df.index.get_level_values('NT').unique()\n",
    "mtf_local_df.index.get_level_values('classification_system').unique()\n",
    "cell_types = mtf_local_df.index.get_level_values('cell_type').value_counts().index.to_list()\n",
    "cell_types = cell_types[0:6]\n",
    "cell_types\n",
    "mtf_local_df.index.get_level_values('cell_type').value_counts()"
   ]
  },
  {
   "attachments": {},
   "cell_type": "markdown",
   "metadata": {},
   "source": [
    "## Make some masks"
   ]
  },
  {
   "cell_type": "code",
   "execution_count": null,
   "metadata": {},
   "outputs": [],
   "source": [
    "mask_df = pd.DataFrame(data=np.full(mtf_local_df.shape, False),index=mtf_local_df.index,columns=mtf_local_df.columns)\n",
    "\n",
    "# allocate an empty array\n",
    "N=10000\n",
    "\n",
    "mixups = np.zeros((N,sim_mat[pair_wise_comparisons].size))\n",
    "\n",
    "figname = 'mix_all'\n",
    "\n",
    "# mix up all preMNs with preferred pool\n",
    "mask_df.loc[:,:] = False\n",
    "mask_df.loc[('local','main_tibia_flexor',All,All,All,All),:] = True\n",
    "mask_pool = mask_df.to_numpy().copy()\n",
    "figname = 'mix_all'\n",
    "\n",
    "\n",
    "mask_list = []\n",
    "# mix up hemilineage preMNs with preferred pool\n",
    "for ct in cell_types:\n",
    "    mask_df.loc[:,:] = False\n",
    "    mask_df.loc[(All,'main_tibia_flexor',All,All,ct,All),:] = True\n",
    "    mask_list.append(mask_df.to_numpy().copy())\n",
    "\n",
    "mixups = np.zeros((N,sim_mat[pair_wise_comparisons].size))\n",
    "# figname = 'mix_hl_{}'.format(cell_type)\n",
    "\n",
    "# Check that the masks are correct\n",
    "if True: # Check the masks\n",
    "    for ct,mask in zip(cell_types,mask_list):\n",
    "        plot_mask(mask,mtf_local_df,fn='MTF_mask_{}'.format(ct))\n",
    "\n",
    "\n",
    "\n",
    "rng = np.random.default_rng()\n",
    "mixupmat = mtf_local_df.to_numpy().copy()\n",
    "\n",
    "pltflp=True\n",
    "for r in range(N): # range(N):\n",
    "    # Do this for all of the masks\n",
    "    mixup = choice_under_mask(mixupmat,mask=mask_pool,rng=rng)\n",
    "    # mixup = mix_up_under_mask(mixupmat,mask=mask_pool,rng=rng)\n",
    "    sim_mat = cosine_similarity(mixup.transpose())\n",
    "    mixups[r,:] = sim_mat[pair_wise_comparisons]\n",
    "\n",
    "\n",
    "    if r>9998 and pltflp: # Check the mixups\n",
    "        plot_conn_map(mixup,mtf_local_df)\n",
    "        pltflp=False\n",
    "\n",
    "mixup_label = ['pool']\n",
    "mixups_list = [mixups]\n",
    "plot_shuf_cum(mixups.mean(axis=1),ref_x=cos_sim_mean)"
   ]
  },
  {
   "attachments": {},
   "cell_type": "markdown",
   "metadata": {},
   "source": [
    "## Shuffle, with replacement, within hemilineages"
   ]
  },
  {
   "cell_type": "code",
   "execution_count": null,
   "metadata": {},
   "outputs": [],
   "source": [
    "rng = np.random.default_rng()\n",
    "mixupmat = mtf_local_df.to_numpy().copy()\n",
    "cnt = 0\n",
    "\n",
    "for ct,mask in zip(cell_types,mask_list):\n",
    "    pltflp=False\n",
    "    for r in range(N): # range(N):\n",
    "        # Do this for all of the masks\n",
    "        #mixup = choice_under_mask(mixupmat,mask=mask,rng=rng)\n",
    "        mixup = mix_up_under_mask(mixupmat,mask=mask,rng=rng)\n",
    "        sim_mat = cosine_similarity(mixup.transpose())\n",
    "        mixups[r,:] = sim_mat[pair_wise_comparisons]\n",
    "\n",
    "\n",
    "        if r>9998 and pltflp: # Check the mixups\n",
    "            print(mtf_local_df.loc[('local','main_tibia_flexor',All,All,ct,All)].index.get_level_values('segID').to_list())\n",
    "            plot_hem_conn_map(mixup,mtf_local_df,ct,fn='MTF_shuffle_{}'.format(ct))\n",
    "            pltflp=False\n",
    "\n",
    "    mixup_label.append(ct)\n",
    "    mixups_list.append(mixups.copy())\n",
    "    # plot_shuf_cum(mixups.mean(axis=1),ref_x=cos_sim_mean,fignum=cnt,title='Hemilineage: {}'.format(ct),fn='MTF_bootstrap_cum_{}'.format(ct))\n",
    "    # plt.show()\n",
    "    cnt = cnt+1\n"
   ]
  },
  {
   "cell_type": "code",
   "execution_count": null,
   "metadata": {},
   "outputs": [],
   "source": [
    "fig = plt.figure(1, figsize=(10, 6))\n",
    "ax = plt.subplot2grid((1,1),(0,0))\n",
    "ax.set_ylim([-.1, 1.1])\n",
    "ax.set_xlim([.945, .96])\n",
    "ax.set_xlim([0, 1])\n",
    "ax.set_ylabel('Cummulative fraction')\n",
    "ax.set_xlabel('Sum of cosine similarity for MTF')\n",
    "ax.set_title('Shuffling different groups')\n",
    "\n",
    "# if not fn is None:\n",
    "#     fig.savefig('./figpanels/{}.svg'.format(fn),format='svg')\n",
    "\n",
    "colors = sns.color_palette(\"husl\", len(mixup_label))\n",
    "\n",
    "for ct,mixups,clr in zip(mixup_label,mixups_list,colors):\n",
    "    # colors = {1: '#CCCCCC', 2: '#666666',3: '#000000'}\n",
    "    # for m in [1,2,3]:\n",
    "    # exec('mu=mixups_{}'.format(m))\n",
    "    x_unsorted = mixups.mean(axis=1)\n",
    "    y = np.array(range(len(x_unsorted))).astype(float)/len(x_unsorted)\n",
    "\n",
    "    pct_below_actual = (x_unsorted<cos_sim_mean).sum() / len(x_unsorted)\n",
    "    p=1-pct_below_actual\n",
    "\n",
    "    lbl = '{}, p = {:.5f}'.format(ct,p)\n",
    "    ax.plot(sorted(x_unsorted),y,color=clr,label=lbl)\n",
    "\n",
    "ax.plot(cos_sim_mean*np.array([1,1]),np.array([0,1]),color='#0000FF')\n",
    "ax.legend()\n",
    "\n",
    "fig.savefig('./figpanels/MTF_shuffle_cum_all.svg',format='svg')"
   ]
  },
  {
   "attachments": {},
   "cell_type": "markdown",
   "metadata": {},
   "source": [
    "## Do the same thing, but just shuffle columns"
   ]
  },
  {
   "cell_type": "code",
   "execution_count": null,
   "metadata": {},
   "outputs": [],
   "source": [
    "mtf_local_df.index.get_level_values('NT').unique()\n",
    "mtf_local_df.index.get_level_values('classification_system').unique()\n",
    "cell_types = mtf_local_df.index.get_level_values('cell_type').value_counts().index.to_list()\n",
    "cell_types = cell_types[0:6]\n",
    "cell_types\n",
    "mtf_local_df.index.get_level_values('cell_type').value_counts()\n",
    "\n",
    "mask_df = pd.DataFrame(data=np.full(mtf_local_df.shape, False),index=mtf_local_df.index,columns=mtf_local_df.columns)\n",
    "\n",
    "# allocate an empty array\n",
    "N=10000\n",
    "\n",
    "mixups = np.zeros((N,sim_mat[pair_wise_comparisons].size))\n",
    "\n",
    "figname = 'mix_all'\n",
    "\n",
    "# mix up all preMNs with preferred pool\n",
    "mask_df.loc[:,:] = False\n",
    "mask_df.loc[('local','main_tibia_flexor',All,All,All,All),:] = True\n",
    "mask_pool = mask_df.to_numpy().copy()\n",
    "figname = 'mix_all'\n",
    "\n",
    "\n",
    "mask_list = []\n",
    "# mix up hemilineage preMNs with preferred pool\n",
    "for ct in cell_types:\n",
    "    mask_df.loc[:,:] = False\n",
    "    mask_df.loc[(All,'main_tibia_flexor',All,All,ct,All),:] = True\n",
    "    mask_list.append(mask_df.to_numpy().copy())\n",
    "\n",
    "mixups = np.zeros((N,sim_mat[pair_wise_comparisons].size))\n",
    "# figname = 'mix_hl_{}'.format(cell_type)\n",
    "\n",
    "# Check that the masks are correct\n",
    "if False: # Check the masks\n",
    "    for ct,mask in zip(cell_types,mask_list):\n",
    "        plot_mask(mask,mtf_local_df,) # fn='MTF_mask_{}'.format(ct)\n",
    "\n",
    "\n",
    "\n",
    "rng = np.random.default_rng()\n",
    "mixupmat = mtf_local_df.to_numpy().copy()\n",
    "\n",
    "pltflp=True\n",
    "for r in range(N): # range(N):\n",
    "    # Do this for all of the masks\n",
    "    # mixup = choice_under_mask(mixupmat,mask=mask_pool,rng=rng)\n",
    "    # mixup = mix_up_under_mask(mixupmat,mask=mask_pool,rng=rng)\n",
    "    mixup = mix_up_columns_under_mask(mixupmat,mask=mask_pool,rng=rng)\n",
    "    sim_mat = cosine_similarity(mixup.transpose())\n",
    "    mixups[r,:] = sim_mat[pair_wise_comparisons]\n",
    "\n",
    "\n",
    "    if r>9998 and pltflp: # Check the mixups\n",
    "        plot_conn_map(mixup,mtf_local_df,'MTF_dense_not_proportional')\n",
    "        pltflp=False\n",
    "\n",
    "mixup_label = ['pool']\n",
    "mixups_list = [mixups.copy()]\n",
    "plot_shuf_cum(mixups.mean(axis=1),ref_x=cos_sim_mean,fn='MTF_dense_not_proportional_shufcum')"
   ]
  },
  {
   "attachments": {},
   "cell_type": "markdown",
   "metadata": {},
   "source": [
    "## Shuffle, with replacement, within hemilineages"
   ]
  },
  {
   "cell_type": "code",
   "execution_count": null,
   "metadata": {},
   "outputs": [],
   "source": [
    "rng = np.random.default_rng()\n",
    "mixupmat = mtf_local_df.to_numpy().copy()\n",
    "cnt = 0\n",
    "\n",
    "for ct,mask in zip(cell_types,mask_list):\n",
    "    pltflp=False\n",
    "    for r in range(N): # range(N):\n",
    "        # Do this for all of the masks\n",
    "        #mixup = choice_under_mask(mixupmat,mask=mask,rng=rng)\n",
    "        # mixup = mix_up_under_mask(mixupmat,mask=mask,rng=rng)\n",
    "        mixup = mix_up_columns_under_mask(mixupmat,mask=mask_pool,rng=rng)\n",
    "        sim_mat = cosine_similarity(mixup.transpose())\n",
    "        mixups[r,:] = sim_mat[pair_wise_comparisons]\n",
    "\n",
    "\n",
    "        if r>9998 and pltflp: # Check the mixups\n",
    "            print(mtf_local_df.loc[('local','main_tibia_flexor',All,All,ct,All)].index.get_level_values('segID').to_list())\n",
    "            plot_hem_conn_map(mixup,mtf_local_df,ct,fn='MTF_shuffle_{}'.format(ct))\n",
    "            pltflp=False\n",
    "\n",
    "    mixup_label.append(ct)\n",
    "    mixups_list.append(mixups.copy())\n",
    "    # plot_shuf_cum(mixups.mean(axis=1),ref_x=cos_sim_mean,fignum=cnt,title='Hemilineage: {}'.format(ct),fn='MTF_bootstrap_cum_{}'.format(ct))\n",
    "    # plt.show()\n",
    "    cnt = cnt+1\n"
   ]
  },
  {
   "cell_type": "code",
   "execution_count": null,
   "metadata": {},
   "outputs": [],
   "source": [
    "fig = plt.figure(1, figsize=(10, 6))\n",
    "ax = plt.subplot2grid((1,1),(0,0))\n",
    "ax.set_ylim([-.1, 1.1])\n",
    "ax.set_xlim([.945, .96])\n",
    "ax.set_xlim([0, 1])\n",
    "ax.set_ylabel('Cummulative fraction')\n",
    "ax.set_xlabel('Sum of cosine similarity for MTF')\n",
    "ax.set_title('Shuffling different groups')\n",
    "\n",
    "# if not fn is None:\n",
    "#     fig.savefig('./figpanels/{}.svg'.format(fn),format='svg')\n",
    "\n",
    "colors = sns.color_palette(\"husl\", len(mixup_label))\n",
    "\n",
    "for ct,mixups,clr in zip(mixup_label,mixups_list,colors):\n",
    "    # colors = {1: '#CCCCCC', 2: '#666666',3: '#000000'}\n",
    "    # for m in [1,2,3]:\n",
    "    # exec('mu=mixups_{}'.format(m))\n",
    "    x_unsorted = mixups.mean(axis=1)\n",
    "    y = np.array(range(len(x_unsorted))).astype(float)/len(x_unsorted)\n",
    "\n",
    "    pct_below_actual = (x_unsorted<cos_sim_mean).sum() / len(x_unsorted)\n",
    "    p=1-pct_below_actual\n",
    "\n",
    "    lbl = '{}, p = {:.5f}'.format(ct,p)\n",
    "    ax.plot(sorted(x_unsorted),y,color=clr,label=lbl)\n",
    "\n",
    "ax.plot(cos_sim_mean*np.array([1,1]),np.array([0,1]),color='#0000FF')\n",
    "ax.legend()\n",
    "\n",
    "fig.savefig('./figpanels/MTF_shuffle_cum_all.svg',format='svg')"
   ]
  },
  {
   "attachments": {},
   "cell_type": "markdown",
   "metadata": {},
   "source": [
    "# Tibia extensors"
   ]
  },
  {
   "attachments": {},
   "cell_type": "markdown",
   "metadata": {},
   "source": [
    "## Starting point"
   ]
  },
  {
   "cell_type": "code",
   "execution_count": null,
   "metadata": {},
   "outputs": [],
   "source": [
    "## Starting point\n",
    "# The starting point\n",
    "\n",
    "All = slice(None)\n",
    "femur_df_local = pre_to_mn_df.loc[('local'),('L','Leg','femur',All,All,All,All)]\n",
    "sim_mat = cosine_similarity(femur_df_all.to_numpy().transpose())\n",
    "plot_sim_map(sim_mat,femur_df_local)\n",
    "plot_conn_map(femur_df_local.to_numpy(),femur_df_local)\n"
   ]
  },
  {
   "attachments": {},
   "cell_type": "markdown",
   "metadata": {},
   "source": [
    "## FETi and SETi connectivity"
   ]
  },
  {
   "cell_type": "code",
   "execution_count": null,
   "metadata": {},
   "outputs": [],
   "source": [
    "\n",
    "All = slice(None)\n",
    "# SFTi_local_df = pre_to_mn_df.loc[('local',All,All,All,All),mpool_dict['main_tibia_flexor_muscle']]\n",
    "SFTi_local_df = pre_to_mn_df.loc[('local','tibia_extensor',All,All,All),mpool_dict['tibia_extensor']]\n",
    "sim_mat = cosine_similarity(SFTi_local_df.to_numpy().transpose())\n",
    "\n",
    "pair_wise_comparisons = np.tril(np.full(sim_mat.shape,True),k=-1)\n",
    "cos_sim_mean = sim_mat[pair_wise_comparisons].mean()\n",
    "print(cos_sim_mean) # note, not that different if just using the preferred pool, so just limit to the small square\n",
    "\n",
    "plot_sim_map(sim_mat,SFTi_local_df)\n",
    "plot_conn_map(SFTi_local_df.to_numpy(),SFTi_local_df,fn='SFTi_full_conn')"
   ]
  },
  {
   "cell_type": "code",
   "execution_count": null,
   "metadata": {},
   "outputs": [],
   "source": [
    "SFTi_local_df.index.get_level_values('NT').unique()\n",
    "SFTi_local_df.index.get_level_values('classification_system').unique()\n",
    "cell_types = SFTi_local_df.index.get_level_values('cell_type').value_counts().index.to_list()\n",
    "cell_types = cell_types[0:6]\n",
    "cell_types\n",
    "SFTi_local_df.index.get_level_values('cell_type').value_counts()\n",
    "\n",
    "\n",
    "translate_df = pd.DataFrame.from_dict({'cell_type':['14A','14A_','4B','4B-','4B_'] ,'new':['14A','14A','4B','4B','4B'] })\n",
    "translate_df.set_index('cell_type',inplace=True)\n",
    "sft_mi = SFTi_local_df.index.to_frame().reset_index(drop=True)\n",
    "sft_mi_new = sft_mi.join(translate_df,on='cell_type',how='left',lsuffix='',rsuffix='_r')\n",
    "sft_mi_new.loc[~sft_mi_new.new.isna(),'cell_type'] = sft_mi_new.loc[~sft_mi_new.new.isna(),'new']\n",
    "sft_mi_new.cell_type.value_counts()\n",
    "cell_types = sft_mi_new.cell_type.value_counts().index.to_list()\n",
    "cell_types = cell_types[0:6]\n",
    "\n",
    "SFTi_local_df.index = pd.MultiIndex.from_frame(sft_mi_new)"
   ]
  },
  {
   "cell_type": "code",
   "execution_count": null,
   "metadata": {},
   "outputs": [],
   "source": [
    "sft_mi_new.cell_type.value_counts()"
   ]
  },
  {
   "attachments": {},
   "cell_type": "markdown",
   "metadata": {},
   "source": [
    "## Shuffle, without replacement, for the pool and hemilineages"
   ]
  },
  {
   "cell_type": "code",
   "execution_count": null,
   "metadata": {},
   "outputs": [],
   "source": [
    "mask_df = pd.DataFrame(data=np.full(SFTi_local_df.shape, False),index=SFTi_local_df.index,columns=SFTi_local_df.columns)\n",
    "\n",
    "# allocate an empty array\n",
    "N=10000\n",
    "\n",
    "mixups = np.zeros((N,sim_mat[pair_wise_comparisons].size))\n",
    "\n",
    "figname = 'mix_all'\n",
    "\n",
    "# mix up all preMNs with preferred pool\n",
    "mask_df.loc[:,:] = False\n",
    "mask_df.loc[('local','tibia_extensor',All,All,All,All),:] = True\n",
    "mask_pool = mask_df.to_numpy().copy()\n",
    "figname = 'mix_all'\n",
    "\n",
    "\n",
    "mask_list = []\n",
    "# mix up hemilineage preMNs with preferred pool\n",
    "for ct in cell_types:\n",
    "    mask_df.loc[:,:] = False\n",
    "    mask_df.loc[(All,'tibia_extensor',All,All,ct,All),:] = True\n",
    "    mask_list.append(mask_df.to_numpy().copy())\n",
    "\n",
    "mixups = np.zeros((N,sim_mat[pair_wise_comparisons].size))\n",
    "# figname = 'mix_hl_{}'.format(cell_type)\n",
    "\n",
    "# Check that the masks are correct\n",
    "if False: # Check the masks\n",
    "    for ct,mask in zip(cell_types,mask_list):\n",
    "        plot_mask(mask,SFTi_local_df,fn='MTF_mask_{}'.format(ct))\n",
    "\n",
    "\n",
    "rng = np.random.default_rng()\n",
    "mixupmat = SFTi_local_df.to_numpy().copy()\n",
    "\n",
    "pltflp=False\n",
    "for r in range(N): # range(N):\n",
    "    # Do this for all of the masks\n",
    "    mixup = choice_under_mask(mixupmat,mask=mask_pool,rng=rng)\n",
    "    # mixup = mix_up_under_mask(mixupmat,mask=mask_pool,rng=rng)\n",
    "    sim_mat = cosine_similarity(mixup.transpose())\n",
    "    mixups[r,:] = sim_mat[pair_wise_comparisons]\n",
    "\n",
    "\n",
    "    if r>9998 and pltflp: # Check the mixups\n",
    "        plot_conn_map(mixup,SFTi_local_df)\n",
    "        pltflp=False\n",
    "\n",
    "mixup_label = ['pool']\n",
    "mixups_list = [mixups.copy()]\n",
    "# plot_shuf_cum(mixups.mean(axis=1),ref_x=cos_sim_mean)\n",
    "\n",
    "rng = np.random.default_rng()\n",
    "mixupmat = SFTi_local_df.to_numpy().copy()\n",
    "cnt = 0\n",
    "\n",
    "for ct,mask in zip(cell_types,mask_list):\n",
    "    pltflp=False\n",
    "    for r in range(N): # range(N):\n",
    "        # Do this for all of the masks\n",
    "        #mixup = choice_under_mask(mixupmat,mask=mask,rng=rng)\n",
    "        mixup = mix_up_under_mask(mixupmat,mask=mask,rng=rng)\n",
    "        sim_mat = cosine_similarity(mixup.transpose())\n",
    "        mixups[r,:] = sim_mat[pair_wise_comparisons]\n",
    "\n",
    "\n",
    "        if r>9998 and pltflp: # Check the mixups\n",
    "            print(SFTi_local_df.loc[('local','main_tibia_flexor',All,All,ct,All)].index.get_level_values('segID').to_list())\n",
    "            plot_hem_conn_map(mixup,SFTi_local_df,ct,fn='MTF_shuffle_{}'.format(ct))\n",
    "            pltflp=False\n",
    "\n",
    "    mixup_label.append(ct)\n",
    "    mixups_list.append(mixups.copy())\n",
    "    # plot_shuf_cum(mixups.mean(axis=1),ref_x=cos_sim_mean,fignum=cnt,title='Hemilineage: {}'.format(ct),fn='MTF_bootstrap_cum_{}'.format(ct))\n",
    "    # plt.show()\n",
    "    cnt = cnt+1\n",
    "\n",
    "fig = plt.figure(1, figsize=(10, 6))\n",
    "ax = plt.subplot2grid((1,1),(0,0))\n",
    "ax.set_ylim([-.1, 1.1])\n",
    "ax.set_xlim([.945, .96])\n",
    "ax.set_xlim([0, 1])\n",
    "ax.set_ylabel('Cummulative fraction')\n",
    "ax.set_xlabel('Sum of cosine similarity for MTF')\n",
    "ax.set_title('Shuffling different groups')\n",
    "\n",
    "# if not fn is None:\n",
    "#     fig.savefig('./figpanels/{}.svg'.format(fn),format='svg')\n",
    "\n",
    "colors = sns.color_palette(\"husl\", len(mixup_label))\n",
    "\n",
    "for ct,mixups,clr in zip(mixup_label,mixups_list,colors):\n",
    "    # colors = {1: '#CCCCCC', 2: '#666666',3: '#000000'}\n",
    "    # for m in [1,2,3]:\n",
    "    # exec('mu=mixups_{}'.format(m))\n",
    "    x_unsorted = mixups.mean(axis=1)\n",
    "    y = np.array(range(len(x_unsorted))).astype(float)/len(x_unsorted)\n",
    "\n",
    "    pct_below_actual = (x_unsorted<cos_sim_mean).sum() / len(x_unsorted)\n",
    "    p=1-pct_below_actual\n",
    "\n",
    "    lbl = '{}, p = {:.5f}'.format(ct,p)\n",
    "    ax.plot(sorted(x_unsorted),y,color=clr,label=lbl)\n",
    "\n",
    "ax.plot(cos_sim_mean*np.array([1,1]),np.array([0,1]),color='#0000FF')\n",
    "ax.legend()\n",
    "\n",
    "fig.savefig('./figpanels/STF_shuffle_cum_all.svg',format='svg')"
   ]
  },
  {
   "attachments": {},
   "cell_type": "markdown",
   "metadata": {},
   "source": [
    "# Femur flexors"
   ]
  },
  {
   "attachments": {},
   "cell_type": "markdown",
   "metadata": {},
   "source": [
    "## Starting point"
   ]
  },
  {
   "cell_type": "code",
   "execution_count": null,
   "metadata": {},
   "outputs": [],
   "source": [
    "## Starting point\n",
    "# The starting point\n",
    "\n",
    "All = slice(None)\n",
    "coxa_df_local = pre_to_mn_df.loc[('local'),('L',All,'coxa',All,All,['Ac','Vn'],All)]\n",
    "sim_mat = cosine_similarity(coxa_df_local.to_numpy().transpose())\n",
    "plot_sim_map(sim_mat,coxa_df_local)\n",
    "plot_conn_map(coxa_df_local.to_numpy(),coxa_df_local)\n"
   ]
  },
  {
   "cell_type": "code",
   "execution_count": null,
   "metadata": {},
   "outputs": [],
   "source": [
    "\n",
    "All = slice(None)\n",
    "# SFTi_local_df = pre_to_mn_df.loc[('local',All,All,All,All),mpool_dict['main_tibia_flexor_muscle']]\n",
    "# SFTi_local_df = pre_to_mn_df.loc[('local','tibia_extensor',All,All,All),mpool_dict['tibia_extensor']]\n",
    "coxa_df_local = pre_to_mn_df.loc[('local','trochanter_flexion',All,All,All),('L',All,'coxa',All,All,['Ac','Vn'],All)]\n",
    "sim_mat = cosine_similarity(coxa_df_local.to_numpy().transpose())\n",
    "\n",
    "pair_wise_comparisons = np.tril(np.full(sim_mat.shape,True),k=-1)\n",
    "cos_sim_mean = sim_mat[pair_wise_comparisons].mean()\n",
    "print(cos_sim_mean) # note, not that different if just using the preferred pool, so just limit to the small square\n",
    "\n",
    "plot_sim_map(sim_mat,coxa_df_local)\n",
    "plot_conn_map(coxa_df_local.to_numpy(),coxa_df_local,fn='trflex_full_conn')"
   ]
  },
  {
   "cell_type": "code",
   "execution_count": null,
   "metadata": {},
   "outputs": [],
   "source": [
    "coxa_df_local.index.get_level_values('NT').unique()\n",
    "coxa_df_local.index.get_level_values('classification_system').unique()\n",
    "\n",
    "translate_df = pd.DataFrame.from_dict({'cell_type':['14A','14A_','4B','4B-','4B_','22A_','8A_','21A_'] ,'new':['14A','14A','4B','4B','4B','22A','8A','21A'] })\n",
    "translate_df.set_index('cell_type',inplace=True)\n",
    "cf_mi = coxa_df_local.index.to_frame().reset_index(drop=True)\n",
    "cf_mi_new = cf_mi.join(translate_df,on='cell_type',how='left',lsuffix='',rsuffix='_r')\n",
    "cf_mi_new.loc[~cf_mi_new.new.isna(),'cell_type'] = cf_mi_new.loc[~cf_mi_new.new.isna(),'new']\n",
    "cf_mi_new.cell_type.value_counts()\n",
    "cell_types = cf_mi_new.cell_type.value_counts().index.to_list()\n",
    "cell_types = cell_types[0:6]\n",
    "\n",
    "coxa_df_local.index = pd.MultiIndex.from_frame(cf_mi_new)\n",
    "cell_types"
   ]
  },
  {
   "cell_type": "code",
   "execution_count": null,
   "metadata": {},
   "outputs": [],
   "source": [
    "coxa_df_local.index.get_level_values('cell_type').value_counts()"
   ]
  },
  {
   "attachments": {},
   "cell_type": "markdown",
   "metadata": {},
   "source": [
    "## Shuffle, without replacement, for the pool and hemilineages"
   ]
  },
  {
   "cell_type": "code",
   "execution_count": null,
   "metadata": {},
   "outputs": [],
   "source": [
    "mask_df = pd.DataFrame(data=np.full(coxa_df_local.shape, False),index=coxa_df_local.index,columns=coxa_df_local.columns)\n",
    "\n",
    "N=10000\n",
    "\n",
    "# mix up all preMNs with preferred pool\n",
    "mask_df.loc[:,:] = False\n",
    "mask_df.loc[('local','trochanter_flexion',All,All,All,All),:] = True\n",
    "mask_pool = mask_df.to_numpy().copy()\n",
    "\n",
    "mask_list = []\n",
    "# mix up hemilineage preMNs with preferred pool\n",
    "for ct in cell_types:\n",
    "    mask_df.loc[:,:] = False\n",
    "    mask_df.loc[(All,'trochanter_flexion',All,All,ct,All),:] = True\n",
    "    mask_list.append(mask_df.to_numpy().copy())\n",
    "\n",
    "mixups = np.zeros((N,sim_mat[pair_wise_comparisons].size))\n",
    "# figname = 'mix_hl_{}'.format(cell_type)\n",
    "\n",
    "# Check that the masks are correct\n",
    "if True: # Check the masks\n",
    "    for ct,mask in zip(cell_types,mask_list):\n",
    "        plot_mask(mask,coxa_df_local,fn='trflex_mask_{}'.format(ct))\n",
    "\n",
    "\n",
    "rng = np.random.default_rng()\n",
    "mixupmat = coxa_df_local.to_numpy().copy()\n",
    "\n",
    "pltflp=False\n",
    "for r in range(N): # range(N):\n",
    "    # Do this for all of the masks\n",
    "    mixup = choice_under_mask(mixupmat,mask=mask_pool,rng=rng)\n",
    "    # mixup = mix_up_under_mask(mixupmat,mask=mask_pool,rng=rng)\n",
    "    sim_mat = cosine_similarity(mixup.transpose())\n",
    "    mixups[r,:] = sim_mat[pair_wise_comparisons]\n",
    "\n",
    "\n",
    "    if r>9998 and pltflp: # Check the mixups\n",
    "        plot_conn_map(mixup,coxa_df_local)\n",
    "        pltflp=False\n",
    "\n",
    "mixup_label = ['pool']\n",
    "mixups_list = [mixups.copy()]\n",
    "# plot_shuf_cum(mixups.mean(axis=1),ref_x=cos_sim_mean)\n",
    "\n",
    "rng = np.random.default_rng()\n",
    "mixupmat = coxa_df_local.to_numpy().copy()\n",
    "cnt = 0\n",
    "\n",
    "for ct,mask in zip(cell_types,mask_list):\n",
    "    pltflp=False\n",
    "    for r in range(N): # range(N):\n",
    "        # Do this for all of the masks\n",
    "        #mixup = choice_under_mask(mixupmat,mask=mask,rng=rng)\n",
    "        mixup = mix_up_under_mask(mixupmat,mask=mask,rng=rng)\n",
    "        sim_mat = cosine_similarity(mixup.transpose())\n",
    "        mixups[r,:] = sim_mat[pair_wise_comparisons]\n",
    "\n",
    "\n",
    "        if r>9998 and pltflp: # Check the mixups\n",
    "            print(coxa_df_local.loc[('local','main_tibia_flexor',All,All,ct,All)].index.get_level_values('segID').to_list())\n",
    "            plot_hem_conn_map(mixup,coxa_df_local,ct,fn='MTF_shuffle_{}'.format(ct))\n",
    "            pltflp=False\n",
    "\n",
    "    mixup_label.append(ct)\n",
    "    mixups_list.append(mixups.copy())\n",
    "    # plot_shuf_cum(mixups.mean(axis=1),ref_x=cos_sim_mean,fignum=cnt,title='Hemilineage: {}'.format(ct),fn='MTF_bootstrap_cum_{}'.format(ct))\n",
    "    # plt.show()\n",
    "    cnt = cnt+1\n",
    "\n",
    "fig = plt.figure(1, figsize=(10, 6))\n",
    "ax = plt.subplot2grid((1,1),(0,0))\n",
    "ax.set_ylim([-.1, 1.1])\n",
    "ax.set_xlim([.945, .96])\n",
    "ax.set_xlim([0, 1])\n",
    "ax.set_ylabel('Cummulative fraction')\n",
    "ax.set_xlabel('Sum of cosine similarity for MTF')\n",
    "ax.set_title('Shuffling different groups')\n",
    "\n",
    "# if not fn is None:\n",
    "#     fig.savefig('./figpanels/{}.svg'.format(fn),format='svg')\n",
    "\n",
    "colors = sns.color_palette(\"husl\", len(mixup_label))\n",
    "\n",
    "for ct,mixups,clr in zip(mixup_label,mixups_list,colors):\n",
    "    # colors = {1: '#CCCCCC', 2: '#666666',3: '#000000'}\n",
    "    # for m in [1,2,3]:\n",
    "    # exec('mu=mixups_{}'.format(m))\n",
    "    x_unsorted = mixups.mean(axis=1)\n",
    "    y = np.array(range(len(x_unsorted))).astype(float)/len(x_unsorted)\n",
    "\n",
    "    pct_below_actual = (x_unsorted<cos_sim_mean).sum() / len(x_unsorted)\n",
    "    p=1-pct_below_actual\n",
    "\n",
    "    lbl = '{}, p = {:.5f}'.format(ct,p)\n",
    "    ax.plot(sorted(x_unsorted),y,color=clr,label=lbl)\n",
    "\n",
    "ax.plot(cos_sim_mean*np.array([1,1]),np.array([0,1]),color='#0000FF')\n",
    "ax.legend()\n",
    "\n",
    "fig.savefig('./figpanels/TrFlex_shuffle_cum_all.svg',format='svg')"
   ]
  },
  {
   "attachments": {},
   "cell_type": "markdown",
   "metadata": {},
   "source": [
    "# Tergotr tr extensors"
   ]
  },
  {
   "attachments": {},
   "cell_type": "markdown",
   "metadata": {},
   "source": [
    "## Starting point"
   ]
  },
  {
   "cell_type": "code",
   "execution_count": null,
   "metadata": {},
   "outputs": [],
   "source": [
    "pre_to_mn_df.loc[('local','trochanter_extension'),mpool_dict['trochanter_extension']]"
   ]
  },
  {
   "cell_type": "code",
   "execution_count": null,
   "metadata": {},
   "outputs": [],
   "source": [
    "## Starting point\n",
    "# The starting point\n",
    "\n",
    "All = slice(None)\n",
    "tr_ext_local_df = pre_to_mn_df.loc[('local'),('L',All,'thorax',All,'tergotrochanter',All,All)]\n",
    "sim_mat = cosine_similarity(tr_ext_local_df.to_numpy().transpose())\n",
    "plot_sim_map(sim_mat,tr_ext_local_df)\n",
    "plot_conn_map(tr_ext_local_df.to_numpy(),tr_ext_local_df)\n"
   ]
  },
  {
   "cell_type": "code",
   "execution_count": null,
   "metadata": {},
   "outputs": [],
   "source": [
    "\n",
    "All = slice(None)\n",
    "# SFTi_local_df = pre_to_mn_df.loc[('local',All,All,All,All),mpool_dict['main_tibia_flexor_muscle']]\n",
    "# SFTi_local_df = pre_to_mn_df.loc[('local','tibia_extensor',All,All,All),mpool_dict['tibia_extensor']]\n",
    "# coxa_df_local = pre_to_mn_df.loc[('local','trochanter_flexion',All,All,All),('L',All,'coxa',All,All,['Ac','Vn'],All)]\n",
    "tr_ext_local_df = pre_to_mn_df.loc[('local','trochanter_extension',All,All,All),('L',All,'thorax',All,'tergotrochanter',All,All)]\n",
    "sim_mat = cosine_similarity(tr_ext_local_df.to_numpy().transpose())\n",
    "\n",
    "pair_wise_comparisons = np.tril(np.full(sim_mat.shape,True),k=-1)\n",
    "cos_sim_mean = sim_mat[pair_wise_comparisons].mean()\n",
    "print(cos_sim_mean) # note, not that different if just using the preferred pool, so just limit to the small square\n",
    "\n",
    "plot_sim_map(sim_mat,tr_ext_local_df)\n",
    "plot_conn_map(tr_ext_local_df.to_numpy(),tr_ext_local_df,fn='trExt_full_conn')"
   ]
  },
  {
   "cell_type": "code",
   "execution_count": null,
   "metadata": {},
   "outputs": [],
   "source": [
    "tr_ext_local_df.index.get_level_values('NT').unique()\n",
    "tr_ext_local_df.index.get_level_values('classification_system').unique()\n",
    "tr_ext_local_df.index.get_level_values('cell_type').unique().to_list()"
   ]
  },
  {
   "cell_type": "code",
   "execution_count": null,
   "metadata": {},
   "outputs": [],
   "source": [
    "\n",
    "translate_df = pd.DataFrame.from_dict({'cell_type':['14A','14A_','4B','4B-','4B_','4B+','22A_','8A_','21A_'] ,'new':['14A','14A','4B','4B','4B','4B','22A','8A','21A'] })\n",
    "translate_df.set_index('cell_type',inplace=True)\n",
    "tre_mi = tr_ext_local_df.index.to_frame().reset_index(drop=True)\n",
    "tre_mi_new = tre_mi.join(translate_df,on='cell_type',how='left',lsuffix='',rsuffix='_r')\n",
    "tre_mi_new.loc[~tre_mi_new.new.isna(),'cell_type'] = tre_mi_new.loc[~tre_mi_new.new.isna(),'new']\n",
    "tre_mi_new.cell_type.value_counts()\n",
    "cell_types = tre_mi_new.cell_type.value_counts().index.to_list()\n",
    "cell_types = cell_types[0:6]\n",
    "\n",
    "tr_ext_local_df.index = pd.MultiIndex.from_frame(tre_mi_new)\n",
    "cell_types"
   ]
  },
  {
   "cell_type": "code",
   "execution_count": null,
   "metadata": {},
   "outputs": [],
   "source": [
    "tr_ext_local_df.index.get_level_values('cell_type').value_counts()"
   ]
  },
  {
   "attachments": {},
   "cell_type": "markdown",
   "metadata": {},
   "source": [
    "## Shuffle, without replacement, for the pool and hemilineages"
   ]
  },
  {
   "cell_type": "code",
   "execution_count": null,
   "metadata": {},
   "outputs": [],
   "source": [
    "mask_df = pd.DataFrame(data=np.full(tr_ext_local_df.shape, False),index=tr_ext_local_df.index,columns=tr_ext_local_df.columns)\n",
    "\n",
    "N=10000\n",
    "\n",
    "# mix up all preMNs with preferred pool\n",
    "mask_df.loc[:,:] = False\n",
    "mask_df.loc[('local','trochanter_extension',All,All,All,All),:] = True\n",
    "mask_pool = mask_df.to_numpy().copy()\n",
    "\n",
    "mask_list = []\n",
    "# mix up hemilineage preMNs with preferred pool\n",
    "for ct in cell_types:\n",
    "    mask_df.loc[:,:] = False\n",
    "    mask_df.loc[(All,'trochanter_extension',All,All,ct,All),:] = True\n",
    "    mask_list.append(mask_df.to_numpy().copy())\n",
    "\n",
    "mixups = np.zeros((N,sim_mat[pair_wise_comparisons].size))\n",
    "# figname = 'mix_hl_{}'.format(cell_type)\n",
    "\n",
    "# Check that the masks are correct\n",
    "if True: # Check the masks\n",
    "    for ct,mask in zip(cell_types,mask_list):\n",
    "        plot_mask(mask,tr_ext_local_df,fn='trflex_mask_{}'.format(ct))\n",
    "\n",
    "\n",
    "rng = np.random.default_rng()\n",
    "mixupmat = tr_ext_local_df.to_numpy().copy()\n",
    "\n",
    "pltflp=False\n",
    "for r in range(N): # range(N):\n",
    "    # Do this for all of the masks\n",
    "    mixup = choice_under_mask(mixupmat,mask=mask_pool,rng=rng)\n",
    "    # mixup = mix_up_under_mask(mixupmat,mask=mask_pool,rng=rng)\n",
    "    sim_mat = cosine_similarity(mixup.transpose())\n",
    "    mixups[r,:] = sim_mat[pair_wise_comparisons]\n",
    "\n",
    "\n",
    "    if r>9998 and pltflp: # Check the mixups\n",
    "        plot_conn_map(mixup,tr_ext_local_df)\n",
    "        pltflp=False\n",
    "\n",
    "mixup_label = ['pool']\n",
    "mixups_list = [mixups.copy()]\n",
    "# plot_shuf_cum(mixups.mean(axis=1),ref_x=cos_sim_mean)\n",
    "\n",
    "rng = np.random.default_rng()\n",
    "mixupmat = tr_ext_local_df.to_numpy().copy()\n",
    "cnt = 0\n",
    "\n",
    "for ct,mask in zip(cell_types,mask_list):\n",
    "    pltflp=False\n",
    "    for r in range(N): # range(N):\n",
    "        # Do this for all of the masks\n",
    "        #mixup = choice_under_mask(mixupmat,mask=mask,rng=rng)\n",
    "        mixup = mix_up_under_mask(mixupmat,mask=mask,rng=rng)\n",
    "        sim_mat = cosine_similarity(mixup.transpose())\n",
    "        mixups[r,:] = sim_mat[pair_wise_comparisons]\n",
    "\n",
    "\n",
    "        if r>9998 and pltflp: # Check the mixups\n",
    "            print(tr_ext_local_df.loc[('local','main_tibia_flexor',All,All,ct,All)].index.get_level_values('segID').to_list())\n",
    "            plot_hem_conn_map(mixup,tr_ext_local_df,ct,fn='MTF_shuffle_{}'.format(ct))\n",
    "            pltflp=False\n",
    "\n",
    "    mixup_label.append(ct)\n",
    "    mixups_list.append(mixups.copy())\n",
    "    # plot_shuf_cum(mixups.mean(axis=1),ref_x=cos_sim_mean,fignum=cnt,title='Hemilineage: {}'.format(ct),fn='MTF_bootstrap_cum_{}'.format(ct))\n",
    "    # plt.show()\n",
    "    cnt = cnt+1\n",
    "\n",
    "fig = plt.figure(1, figsize=(10, 6))\n",
    "ax = plt.subplot2grid((1,1),(0,0))\n",
    "ax.set_ylim([-.1, 1.1])\n",
    "ax.set_xlim([.945, .96])\n",
    "ax.set_xlim([0, 1])\n",
    "ax.set_ylabel('Cummulative fraction')\n",
    "ax.set_xlabel('Sum of cosine similarity for MTF')\n",
    "ax.set_title('Shuffling different groups')\n",
    "\n",
    "# if not fn is None:\n",
    "#     fig.savefig('./figpanels/{}.svg'.format(fn),format='svg')\n",
    "\n",
    "colors = sns.color_palette(\"husl\", len(mixup_label))\n",
    "\n",
    "for ct,mixups,clr in zip(mixup_label,mixups_list,colors):\n",
    "    # colors = {1: '#CCCCCC', 2: '#666666',3: '#000000'}\n",
    "    # for m in [1,2,3]:\n",
    "    # exec('mu=mixups_{}'.format(m))\n",
    "    x_unsorted = mixups.mean(axis=1)\n",
    "    y = np.array(range(len(x_unsorted))).astype(float)/len(x_unsorted)\n",
    "\n",
    "    pct_below_actual = (x_unsorted<cos_sim_mean).sum() / len(x_unsorted)\n",
    "    p=1-pct_below_actual\n",
    "\n",
    "    lbl = '{}, p = {:.5f}'.format(ct,p)\n",
    "    ax.plot(sorted(x_unsorted),y,color=clr,label=lbl)\n",
    "\n",
    "ax.plot(cos_sim_mean*np.array([1,1]),np.array([0,1]),color='#0000FF')\n",
    "ax.legend()\n",
    "\n",
    "fig.savefig('./figpanels/TrExt_shuffle_cum_all.svg',format='svg')"
   ]
  },
  {
   "cell_type": "code",
   "execution_count": null,
   "metadata": {},
   "outputs": [],
   "source": []
  }
 ],
 "metadata": {
  "kernelspec": {
   "display_name": "base",
   "language": "python",
   "name": "python3"
  },
  "language_info": {
   "codemirror_mode": {
    "name": "ipython",
    "version": 3
   },
   "file_extension": ".py",
   "mimetype": "text/x-python",
   "name": "python",
   "nbconvert_exporter": "python",
   "pygments_lexer": "ipython3",
   "version": "3.9.15"
  },
  "vscode": {
   "interpreter": {
    "hash": "2b93c3ce0f0b01938714f8d6ce3882059af39419bb08f14e121c5729b1321faa"
   }
  }
 },
 "nbformat": 4,
 "nbformat_minor": 4
}
