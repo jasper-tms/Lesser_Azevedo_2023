{
 "cells": [
  {
   "cell_type": "code",
   "execution_count": null,
   "id": "018855ab",
   "metadata": {},
   "outputs": [],
   "source": [
    "from caveclient import CAVEclient\n",
    "import pandas as pd\n",
    "import numpy as np \n",
    "import os\n",
    "import pcg_skel\n",
    "import datetime\n",
    "import matplotlib.pyplot as plt\n",
    "import seaborn as sns\n",
    "from meshparty.meshwork import algorithms\n",
    "from meshparty import meshwork\n",
    "from meshparty import trimesh_io, trimesh_vtk, skeletonize, mesh_filters\n",
    "from nglui.statebuilder import *\n",
    "import cloudvolume as cv\n",
    "import connectome_create\n",
    "import utils\n",
    "%matplotlib inline\n",
    "%load_ext autoreload\n",
    "%autoreload 2"
   ]
  },
  {
   "cell_type": "code",
   "execution_count": null,
   "id": "1f889db4",
   "metadata": {},
   "outputs": [],
   "source": [
    "now = datetime.datetime.now()\n",
    "client = CAVEclient()\n",
    "dataset = 'fanc_production_mar2021'\n",
    "client = CAVEclient(dataset)\n",
    "\n",
    "soma_table = client.materialize.query_table('soma_jan2022', timestamp=now)\n",
    "# mn_df = client.materialize.query_table('motor_neuron_table_v7', timestamp = now)\n"
   ]
  },
  {
   "cell_type": "code",
   "execution_count": null,
   "id": "0d7b395f",
   "metadata": {},
   "outputs": [],
   "source": [
    "pre_to_mn_df = connectome_create.load_pre_to_mn_df(ext='matched_typed_with_nt')\n",
    "\n",
    "pre_to_mn_df.shape"
   ]
  },
  {
   "cell_type": "code",
   "execution_count": null,
   "id": "081350d6",
   "metadata": {},
   "outputs": [],
   "source": [
    "pre_to_mn_df"
   ]
  },
  {
   "cell_type": "code",
   "execution_count": null,
   "id": "e72e739a",
   "metadata": {},
   "outputs": [],
   "source": [
    "left_mn_df = pre_to_mn_df.columns.to_frame()\n",
    "left_index = left_mn_df.index\n",
    "left_mn_df = left_mn_df.rename(columns={'segID':'pt_root_id'})\n",
    "\n",
    "#Merging with the soma table in order to include soma position\n",
    "left_mn_df = left_mn_df.merge(soma_table[['pt_root_id','pt_position']], how='left', \n",
    "                    on='pt_root_id', suffixes = ['_mn','_soma'])\n",
    "left_mn_df.index = left_index\n",
    "left_mn_df.head()\n"
   ]
  },
  {
   "cell_type": "code",
   "execution_count": null,
   "id": "a707501d",
   "metadata": {},
   "outputs": [],
   "source": [
    "left_mn_df.index.to_frame().to_csv('./dfs_saved/mn_index')"
   ]
  },
  {
   "cell_type": "code",
   "execution_count": null,
   "id": "4ef20964",
   "metadata": {},
   "outputs": [],
   "source": [
    "mn_ids = left_mn_df.pt_root_id.tolist()\n",
    "muscle_tuple_dict = utils.get_motor_pool_tuple_dict()\n",
    "pool_keys = [\n",
    "    'thorax_swing',\n",
    "    'thorax_stance',\n",
    "    'trochanter_extension',\n",
    "    'trochanter_flexion',\n",
    "    'femur_reductor',\n",
    "    'tibia_extensor',\n",
    "    'main_tibia_flexor',\n",
    "    # 'auxiliary_tibia_flexor_A',\n",
    "    'auxiliary_tibia_flexor_B',\n",
    "    'auxiliary_tibia_flexor_E',\n",
    "    'ltm',\n",
    "    'tarsus_depressor_med_venU',\n",
    "    'tarsus_depressor_noid',\n",
    "    ]\n",
    "\n",
    "for key in pool_keys:\n",
    "    mn_tup = muscle_tuple_dict[key]\n",
    "    left_mn_df.loc[mn_tup,'preferred_pool'] = key\n",
    "\n",
    "left_mn_df.preferred_pool = left_mn_df.preferred_pool.astype(\"category\")\n",
    "left_mn_df.preferred_pool = left_mn_df.preferred_pool.cat.set_categories(pool_keys)\n",
    "\n",
    "left_mn_df.sort_values([\"preferred_pool\"],kind='mergesort')"
   ]
  },
  {
   "cell_type": "markdown",
   "id": "47cad442",
   "metadata": {},
   "source": [
    "# Look at the right vs. left neurons"
   ]
  },
  {
   "cell_type": "code",
   "execution_count": null,
   "id": "661385d3",
   "metadata": {},
   "outputs": [],
   "source": [
    "t1_mns_df = client.materialize.query_table('motor_neuron_table_v7',timestamp=connectome_create.timestamp)"
   ]
  },
  {
   "cell_type": "code",
   "execution_count": null,
   "id": "582132d8",
   "metadata": {},
   "outputs": [],
   "source": [
    "# Use the pt_root_id as the index\n",
    "t1_mns_df = t1_mns_df.set_index('pt_root_id')"
   ]
  },
  {
   "cell_type": "markdown",
   "id": "e6b3509d",
   "metadata": {},
   "source": [
    "## Have to find the right hand pair\n",
    "1. First join pt positions from the table to the left_mn_df \n",
    "2. Take the ordered colums of left_mn_df\n",
    "2. Join the left_pt_position on the pt_root_id. \n",
    "3. Join the right point_position on the left point position\n",
    "4. Join the right pt_root_id from t1_mns_df"
   ]
  },
  {
   "cell_type": "code",
   "execution_count": null,
   "id": "4e6718c9",
   "metadata": {},
   "outputs": [],
   "source": [
    "left_index_df = left_mn_df.index.to_frame()\n",
    "left_index_df = left_index_df.rename({'segID':'pt_root_id'},axis='columns')\n",
    "left_index_df = left_index_df.reset_index(drop=True)\n",
    "left_with_ptpos = left_index_df.join(t1_mns_df,how='left',on='pt_root_id',lsuffix='',rsuffix='_y')"
   ]
  },
  {
   "cell_type": "code",
   "execution_count": null,
   "id": "87c202dc",
   "metadata": {},
   "outputs": [],
   "source": [
    "# This works if join finds the right seg ids. Run this on different days from the connectivity matrix, and there may be nans in the pt column.\n",
    "left_with_ptpos.pt_position = left_with_ptpos[\"pt_position\"].apply(lambda x: tuple(x))\n",
    "\n",
    "# Now with pt_position as a tuple, can perform join on that column.\n",
    "\n",
    "# If the above line failed, could try this to see where the mismatch is.\n",
    "# for r in range(left_with_ptpos.shape[0]):\n",
    "#     left_with_ptpos['pt_position'].iloc[r] = tuple(left_with_ptpos['pt_position'].iloc[r])\n",
    "# left_with_ptpos['pt_position'].iloc[r]"
   ]
  },
  {
   "cell_type": "code",
   "execution_count": null,
   "id": "4db314a1",
   "metadata": {},
   "outputs": [],
   "source": [
    "t1_mns_df.pt_position = t1_mns_df[\"pt_position\"].apply(lambda x: tuple(x))\n",
    "\n",
    "t1_mns_df.reset_index(drop=False,inplace=True)\n",
    "t1_mns_df.set_index('pt_position',drop=False,inplace=True)\n",
    "t1_mns_df\n",
    "\n",
    "# Save this reindexed df for once the right hand pt_positions are added."
   ]
  },
  {
   "cell_type": "code",
   "execution_count": null,
   "id": "0139632f",
   "metadata": {},
   "outputs": [],
   "source": [
    "t1_mns_df"
   ]
  },
  {
   "cell_type": "markdown",
   "id": "d21f27b3",
   "metadata": {},
   "source": [
    "# Import the paired matrix"
   ]
  },
  {
   "cell_type": "code",
   "execution_count": null,
   "id": "be6068f4",
   "metadata": {},
   "outputs": [],
   "source": [
    "paired_mns = pd.read_csv('./annotations_MN/Paired_MN_points_20221115.csv')\n",
    "paired_mns.rename({'Soma':'pt_position_L','Unnamed: 4':'pt_position_R'},axis='columns',inplace=True)\n",
    "unpaired_row_loc = paired_mns.pt_position_L.isna()\n",
    "unpaired_row = paired_mns.loc[unpaired_row_loc,:]\n",
    "paired_mns = paired_mns.dropna(axis='index')\n",
    "unpaired_row\n",
    "paired_mns"
   ]
  },
  {
   "cell_type": "code",
   "execution_count": null,
   "id": "c0e56c74",
   "metadata": {},
   "outputs": [],
   "source": [
    "def make_num_list_from_str(x):\n",
    "    x = x.split('[')[1]\n",
    "    x = x.split(']')[0]\n",
    "    x = x.split(' ')\n",
    "    x = [j for j in x if j != '']\n",
    "    y = [int(i) for i in x]\n",
    "    return(y)\n"
   ]
  },
  {
   "cell_type": "code",
   "execution_count": null,
   "id": "01795436",
   "metadata": {},
   "outputs": [],
   "source": [
    "paired_mns.pt_position_L = paired_mns[\"pt_position_L\"].apply(make_num_list_from_str)\n",
    "paired_mns.pt_position_R = paired_mns[\"pt_position_R\"].apply(make_num_list_from_str)\n",
    "\n",
    "paired_mns.pt_position_L = paired_mns[\"pt_position_L\"].apply(lambda x: tuple(x))\n",
    "paired_mns.pt_position_R = paired_mns[\"pt_position_R\"].apply(lambda x: tuple(x))\n",
    "\n"
   ]
  },
  {
   "cell_type": "code",
   "execution_count": null,
   "id": "c6865689",
   "metadata": {},
   "outputs": [],
   "source": [
    "paired_mns.set_index('pt_position_L',drop=True, inplace=True)\n",
    "paired_mns"
   ]
  },
  {
   "cell_type": "markdown",
   "id": "d867240d",
   "metadata": {},
   "source": [
    "# Join paired table on pt_position in left_with_ptpos"
   ]
  },
  {
   "cell_type": "code",
   "execution_count": null,
   "id": "b4abab03",
   "metadata": {},
   "outputs": [],
   "source": [
    "# joining pt_position from right to left\n",
    "paired_mns_on_ptpos = left_with_ptpos.join(paired_mns,on='pt_position',how='left') "
   ]
  },
  {
   "cell_type": "code",
   "execution_count": null,
   "id": "8cab32a4",
   "metadata": {},
   "outputs": [],
   "source": [
    "paired_mns_on_ptpos"
   ]
  },
  {
   "cell_type": "markdown",
   "id": "73175e44",
   "metadata": {},
   "source": [
    "# Add R pt_root_id: Join paired table with T1 mns on pt_position_R"
   ]
  },
  {
   "cell_type": "code",
   "execution_count": null,
   "id": "52e46b34",
   "metadata": {},
   "outputs": [],
   "source": [
    "paired_df = paired_mns_on_ptpos.join(t1_mns_df,on='pt_position_R',how='left',rsuffix='_R')\n",
    "stripped_paired_df = paired_df.set_index(['side','nerve','segment','function','muscle','rank','pt_root_id'])\n",
    "stripped_paired_df\n",
    "\n",
    "stripped_paired_df = stripped_paired_df[['classification_system','classification_system_R','cell_type','cell_type_R','pt_position','pt_position_R','pt_root_id_R']]\n",
    "# stripped_paired_df = paired_df.drop(['id','valid','id_R','valid_R','classification_system','classification_system_R','Cell_type','cell_type_R','Classification','Classification.1','pt_supervoxel_id','pt_supervoxel_id_R'],axis='columns')\n",
    "stripped_paired_df = stripped_paired_df.loc[:,~stripped_paired_df.columns.duplicated()].copy()\n",
    "stripped_paired_df['pt_root_id'] = stripped_paired_df.index.get_level_values('pt_root_id')\n",
    "stripped_paired_df"
   ]
  },
  {
   "cell_type": "markdown",
   "id": "dc427136",
   "metadata": {},
   "source": [
    "# Query the pairs of pt_root_ids and compare the number of input synapses."
   ]
  },
  {
   "cell_type": "code",
   "execution_count": null,
   "id": "c7f772b4",
   "metadata": {},
   "outputs": [],
   "source": [
    "lr_df = stripped_paired_df\n",
    "utils.save_df_as_pickle(lr_df,name='left_right_paired_ptrootids')\n",
    "lr_df"
   ]
  },
  {
   "cell_type": "code",
   "execution_count": null,
   "id": "a5ed9294",
   "metadata": {},
   "outputs": [],
   "source": []
  },
  {
   "cell_type": "code",
   "execution_count": null,
   "id": "7ab40acc",
   "metadata": {},
   "outputs": [],
   "source": [
    "lr_df['input_syn_L'] = pd.NA\n",
    "lr_df['input_syn_R'] = pd.NA\n",
    "\n",
    "for idx,row in lr_df.iterrows():\n",
    "    query_mns = lr_df.loc[idx,['pt_root_id','pt_root_id_R']]\n",
    "\n",
    "    mn_inputs_df = client.materialize.synapse_query(post_ids = query_mns,timestamp=connectome_create.timestamp) # Takes list\n",
    "    syn_in_conn=mn_inputs_df.groupby(by='post_pt_root_id').aggregate(len)['id'] # Series\n",
    "    lr_df.loc[idx,'input_syn_L'] = syn_in_conn[query_mns[0]] # index into series\n",
    "    lr_df.loc[idx,'input_syn_R'] = syn_in_conn[query_mns[1]]\n",
    "    \n",
    "    print('Left_MN {} has {} syn, Right_MN {} has {} syn'.format(query_mns[0],lr_df.loc[idx,'input_syn_L'] ,query_mns[1],lr_df.loc[idx,'input_syn_R']))\n",
    "    # lr_df.iloc[r,'input_syn_L'] = mn_inputs_df.shape\n",
    "    # mn_inputs_df = client.materialize.synapse_query(post_ids = lr_df.iloc[r,'pt_root_id'],timestamp=connectome_create.timestamp) # Takes list\n",
    "    # lr_df.iloc[r,'input_syn_L'] = mn_inputs_df.shape\n",
    "    "
   ]
  },
  {
   "cell_type": "code",
   "execution_count": null,
   "id": "c1a8c78f",
   "metadata": {},
   "outputs": [],
   "source": [
    "lr_df"
   ]
  },
  {
   "cell_type": "markdown",
   "id": "9b6c0033",
   "metadata": {},
   "source": [
    "# Now regress the left and right synapses"
   ]
  },
  {
   "cell_type": "code",
   "execution_count": null,
   "id": "fa8fae7d",
   "metadata": {},
   "outputs": [],
   "source": [
    "# lr_df = lr_df.drop('preferred_pool',axis='columns')\n",
    "lrc_df = lr_df.copy()\n",
    "lrc_df = lrc_df.rename(columns={'pt_position':'pt_position_L','pt_root_id':'pt_root_id_L'})\n",
    "lrc_df"
   ]
  },
  {
   "cell_type": "code",
   "execution_count": null,
   "id": "d4e34d1b",
   "metadata": {},
   "outputs": [],
   "source": [
    "left_mn_df"
   ]
  },
  {
   "cell_type": "code",
   "execution_count": null,
   "id": "6a444b9d",
   "metadata": {},
   "outputs": [],
   "source": [
    "preferred_pool_df = left_mn_df[['preferred_pool','pt_root_id']]\n",
    "# preferred_pool_df = preferred_pool_df.rename(columns={'pt_root_id':'pt_root_id_L'})\n",
    "preferred_pool_df = preferred_pool_df.set_index('pt_root_id',drop=True)\n",
    "preferred_pool_df"
   ]
  },
  {
   "cell_type": "code",
   "execution_count": null,
   "id": "1e83a842",
   "metadata": {},
   "outputs": [],
   "source": [
    "# first, add back the preferred pool, but don't need to sort\n",
    "lrc_df = lrc_df.join(preferred_pool_df,on='pt_root_id_L',how='left',sort=False)\n",
    "lrc_df\n",
    "# left_mn_df.index.to_list()"
   ]
  },
  {
   "cell_type": "code",
   "execution_count": null,
   "id": "bbd726ce",
   "metadata": {},
   "outputs": [],
   "source": [
    "x = lrc_df.input_syn_L\n",
    "y = lrc_df.input_syn_R"
   ]
  },
  {
   "cell_type": "code",
   "execution_count": null,
   "id": "7e926b7f",
   "metadata": {},
   "outputs": [],
   "source": [
    "fig = plt.figure(1, figsize=(10, 10))\n",
    "ax1 = plt.subplot2grid((1,1),(0,0))\n",
    "\n",
    "ax1.scatter(x, y,marker='o')\n",
    "plt.sca(ax1)\n",
    "plt.title('Right inputs vs. Left inputs')\n",
    "plt.xlabel('Left inputs')\n",
    "plt.ylabel('Right inputs')\n",
    "\n",
    "# plt.savefig('./figpanels/total_inputs.svg',format='svg')"
   ]
  },
  {
   "cell_type": "code",
   "execution_count": null,
   "id": "1939ce70",
   "metadata": {},
   "outputs": [],
   "source": [
    "from sklearn.linear_model import LinearRegression\n",
    "\n",
    "y_ = y.to_numpy().reshape((-1,1))\n",
    "x_ = x.to_numpy().reshape((-1,1))\n",
    "\n",
    "reg = LinearRegression().fit(x_, y_)\n",
    "\n",
    "fit = reg.predict(np.array([0,x_.max()]).reshape((-1,1)))\n",
    "\n",
    "\n",
    "cat_pal = {\n",
    "    'thorax_swing': '#A502AA',\n",
    "    'thorax_stance': '#00A2B4',\n",
    "    'trochanter_extension': '#D5CB6C',\n",
    "    'trochanter_flexion': '#3F42A2',\n",
    "    'femur_reductor': '#FF0000',\n",
    "    'tibia_extensor': '#CC8544',\n",
    "    'main_tibia_flexor': '#2E3191',\n",
    "    'auxiliary_tibia_flexor_B': '#2DB515',\n",
    "    'auxiliary_tibia_flexor_E': '#156005',\n",
    "    'ltm': '#FFF100',\n",
    "    'tarsus_depressor_med_venU': '#CECECE',\n",
    "    'tarsus_depressor_noid': '#CECECE',\n",
    "}\n",
    "fig, ax = plt.subplots( 1, 1, figsize=(8,8))\n",
    "\n",
    "# palette=utils.white_dense()\n",
    "\n",
    "sns.scatterplot(data=lrc_df, x=\"input_syn_L\", y=\"input_syn_R\", hue=\"preferred_pool\",palette = cat_pal,ax=ax)\n",
    "ax.plot(np.array([0,x_.max()]).reshape((-1,1)),fit)\n",
    "fig.savefig('./figpanels/Left_vs_Right_Synapses.eps',format='eps')"
   ]
  },
  {
   "cell_type": "code",
   "execution_count": null,
   "id": "e7feeae3",
   "metadata": {},
   "outputs": [],
   "source": [
    "reg.score(x_,y_)"
   ]
  },
  {
   "cell_type": "code",
   "execution_count": null,
   "id": "91ff12a7",
   "metadata": {},
   "outputs": [],
   "source": [
    "reg.score(x_[40:45,0].reshape((-1,1)),y_[40:45,0].reshape((-1,1)))"
   ]
  },
  {
   "cell_type": "code",
   "execution_count": null,
   "id": "c88a5449",
   "metadata": {},
   "outputs": [],
   "source": [
    "lrc_df.iloc[0:4]"
   ]
  },
  {
   "cell_type": "code",
   "execution_count": null,
   "id": "b14b9159",
   "metadata": {},
   "outputs": [],
   "source": [
    "from scipy.stats import pearsonr\n",
    "\n",
    "pearsonr(x,y)"
   ]
  },
  {
   "cell_type": "code",
   "execution_count": null,
   "id": "eefa3c9a",
   "metadata": {},
   "outputs": [],
   "source": [
    "reg.coef_"
   ]
  },
  {
   "cell_type": "code",
   "execution_count": null,
   "id": "bf1d9b3e",
   "metadata": {},
   "outputs": [],
   "source": [
    "fit"
   ]
  },
  {
   "cell_type": "code",
   "execution_count": null,
   "id": "1963a95c",
   "metadata": {},
   "outputs": [],
   "source": []
  }
 ],
 "metadata": {
  "kernelspec": {
   "display_name": "base",
   "language": "python",
   "name": "python3"
  },
  "language_info": {
   "codemirror_mode": {
    "name": "ipython",
    "version": 3
   },
   "file_extension": ".py",
   "mimetype": "text/x-python",
   "name": "python",
   "nbconvert_exporter": "python",
   "pygments_lexer": "ipython3",
   "version": "3.9.15"
  },
  "vscode": {
   "interpreter": {
    "hash": "2b93c3ce0f0b01938714f8d6ce3882059af39419bb08f14e121c5729b1321faa"
   }
  }
 },
 "nbformat": 4,
 "nbformat_minor": 5
}
