{
 "cells": [
  {
   "cell_type": "code",
   "execution_count": null,
   "id": "018855ab",
   "metadata": {},
   "outputs": [],
   "source": [
    "from caveclient import CAVEclient\n",
    "import pandas as pd\n",
    "import numpy as np \n",
    "import os\n",
    "import pcg_skel\n",
    "import datetime\n",
    "import matplotlib.pyplot as plt\n",
    "import seaborn as sns\n",
    "from meshparty.meshwork import algorithms\n",
    "from meshparty import meshwork\n",
    "from meshparty import trimesh_io, trimesh_vtk, skeletonize, mesh_filters\n",
    "from nglui.statebuilder import *\n",
    "import cloudvolume as cv\n",
    "import connectome_create\n",
    "import utils\n",
    "\n",
    "from sklearn.linear_model import LinearRegression\n",
    "%matplotlib inline\n",
    "%load_ext autoreload\n",
    "%autoreload 2"
   ]
  },
  {
   "cell_type": "code",
   "execution_count": null,
   "id": "1f889db4",
   "metadata": {},
   "outputs": [],
   "source": [
    "now = datetime.datetime.now()\n",
    "client = CAVEclient()\n",
    "dataset = 'fanc_production_mar2021'\n",
    "client = CAVEclient(dataset)\n",
    "\n",
    "soma_table = client.materialize.query_table('somas_dec2022', timestamp=now)\n",
    "# mn_df = client.materialize.query_table('motor_neuron_table_v7', timestamp = now)\n"
   ]
  },
  {
   "cell_type": "code",
   "execution_count": null,
   "id": "0d7b395f",
   "metadata": {},
   "outputs": [],
   "source": [
    "pre_to_mn_df = connectome_create.load_pre_to_mn_df(ext='matched_typed_with_nt')\n",
    "\n",
    "pre_to_mn_df.shape"
   ]
  },
  {
   "cell_type": "code",
   "execution_count": null,
   "id": "b0387f7e",
   "metadata": {},
   "outputs": [],
   "source": [
    "pre_to_mn_df"
   ]
  },
  {
   "cell_type": "code",
   "execution_count": null,
   "id": "e72e739a",
   "metadata": {},
   "outputs": [],
   "source": [
    "left_mn_df = pre_to_mn_df.columns.to_frame()\n",
    "left_index = left_mn_df.index\n",
    "left_mn_df = left_mn_df.rename(columns={'segID':'pt_root_id'})\n",
    "\n",
    "#Merging with the soma table in order to include soma position\n",
    "left_mn_df = left_mn_df.merge(soma_table[['pt_root_id','pt_position']], how='left', \n",
    "                    on='pt_root_id', suffixes = ['_mn','_soma'])\n",
    "left_mn_df.index = left_index\n",
    "left_mn_df.head()\n"
   ]
  },
  {
   "cell_type": "code",
   "execution_count": null,
   "id": "4ef20964",
   "metadata": {},
   "outputs": [],
   "source": [
    "mn_ids = left_mn_df.pt_root_id.tolist()\n",
    "muscle_tuple_dict = utils.get_motor_pool_tuple_dict()\n",
    "pool_keys = [\n",
    "    'thorax_swing',\n",
    "    'thorax_stance',\n",
    "    'trochanter_extension',\n",
    "    'trochanter_flexion',\n",
    "    'femur_reductor',\n",
    "    'tibia_extensor',\n",
    "    'main_tibia_flexor',\n",
    "    # 'auxiliary_tibia_flexor_A',\n",
    "    'auxiliary_tibia_flexor_B',\n",
    "    'auxiliary_tibia_flexor_E',\n",
    "    'ltm',\n",
    "    'tarsus_depressor_med_venU',\n",
    "    'tarsus_depressor_noid',\n",
    "    ]\n",
    "\n",
    "for key in pool_keys:\n",
    "    mn_tup = muscle_tuple_dict[key]\n",
    "    left_mn_df.loc[mn_tup,'preferred_pool'] = key\n",
    "\n",
    "left_mn_df.preferred_pool = left_mn_df.preferred_pool.astype(\"category\")\n",
    "left_mn_df.preferred_pool = left_mn_df.preferred_pool.cat.set_categories(pool_keys)\n",
    "\n",
    "left_mn_df.sort_values([\"preferred_pool\"],kind='mergesort')"
   ]
  },
  {
   "attachments": {},
   "cell_type": "markdown",
   "id": "2b3330c6",
   "metadata": {},
   "source": [
    "We will be using the Level 2 Cache to measure area and volume "
   ]
  },
  {
   "cell_type": "code",
   "execution_count": null,
   "id": "036c06f7",
   "metadata": {},
   "outputs": [],
   "source": [
    "client.l2cache.attributes\n"
   ]
  },
  {
   "attachments": {},
   "cell_type": "markdown",
   "id": "782bb699",
   "metadata": {},
   "source": [
    "A couple helper functions for extracting features and visualizing the skeletons"
   ]
  },
  {
   "cell_type": "code",
   "execution_count": null,
   "id": "dc1cbb4b",
   "metadata": {},
   "outputs": [],
   "source": [
    "def simple_neuron_plot(nrn, projection='xy', color='k', vertices='skeleton', synapses=False, highlight_root=False):\n",
    "    \"\"\"\n",
    "    Parameters:\n",
    "    nrn : meshwork object\n",
    "    projection : one of \"xy\", \"yz\", or \"zx\" determining which projection to show in the simple plot\n",
    "    color : matplotlib-accepted color value\n",
    "    vertices : one of \"skeleton\" or \"mesh\" to determine which values are shown. Skeleton is default.\n",
    "    synapses : True to show both pre and post, False to show neither, and \"pre\" or \"post\" to show only pre or post respectively.\n",
    "    highlight_root : boolean. True if you want to show the root vertices with a big red dot.\n",
    "    \"\"\"\n",
    "    if projection=='xy' or projection==\"yx\":\n",
    "        ind1 = 0\n",
    "        ind2 = 1\n",
    "        flip = True\n",
    "    elif projection == 'yz' or projection == \"zy\":\n",
    "        ind1 = 2\n",
    "        ind2 = 1\n",
    "        flip = True\n",
    "    elif projection == 'zx' or projection == \"xz\":\n",
    "        ind1 = 0\n",
    "        ind2 = 2\n",
    "        flip = False\n",
    "    else:\n",
    "        raise ValueError('Projection must be one of \"xy\", \"yz\", or \"zx\"')\n",
    "        \n",
    "    fig, ax = plt.subplots(figsize=(4,4), dpi=150)\n",
    "    if vertices == \"skeleton\":\n",
    "        v1 = nrn.skeleton.vertices[:,ind1]\n",
    "        v2 = nrn.skeleton.vertices[:,ind2]\n",
    "        rid = nrn.skeleton.root\n",
    "    elif vertices == \"mesh\":\n",
    "        v1 = nrn.mesh.vertices[:,ind1]\n",
    "        v2 = nrn.mesh.vertices[:,ind2]\n",
    "        rid = nrn.root_region\n",
    "    else:\n",
    "        raise ValueError('vertices must be one of \"skeleton\" or \"mesh\"')\n",
    "\n",
    "    ax.scatter(\n",
    "        v1,\n",
    "        v2,\n",
    "        s=1,\n",
    "        color=color,\n",
    "    )\n",
    "    \n",
    "        \n",
    "    if synapses:\n",
    "        try:\n",
    "            v1_pre = nrn.anno.pre_syn.points[:,ind1]\n",
    "            v2_pre = nrn.anno.pre_syn.points[:,ind2]\n",
    "            v1_post = nrn.anno.post_syn.points[:,ind1]\n",
    "            v2_post = nrn.anno.post_syn.points[:,ind2]\n",
    "        except:\n",
    "            v1_pre = []\n",
    "            v1_post = []\n",
    "            v2_pre = []\n",
    "            v2_post = []\n",
    "        if synapses == True or synapses == 'pre':\n",
    "            ax.scatter(\n",
    "                v1_pre,\n",
    "                v2_pre,\n",
    "                s=2,\n",
    "                color='tomato',\n",
    "                alpha=0.7,\n",
    "            )\n",
    "        if synapses == True or synapses == \"post\":\n",
    "            ax.scatter(\n",
    "                v1_post,\n",
    "                v2_post,\n",
    "                s=2,\n",
    "                color='turquoise',\n",
    "                alpha=0.2,\n",
    "            )\n",
    "            \n",
    "    if highlight_root:\n",
    "        ax.scatter(\n",
    "            v1[rid],\n",
    "            v2[rid],\n",
    "            s=25,\n",
    "            color='violet',\n",
    "        )\n",
    "\n",
    "    ax.set_aspect('equal')\n",
    "    if flip:\n",
    "        ax.invert_yaxis()\n",
    "    return fig, ax"
   ]
  },
  {
   "cell_type": "code",
   "execution_count": null,
   "id": "6dad66a3",
   "metadata": {},
   "outputs": [],
   "source": [
    "def get_lvl2_size_metrics(segid, dataset_name = 'fanc_production_mar2021'):\n",
    "    dataset = dataset_name\n",
    "    client = CAVEclient(dataset)\n",
    "    \n",
    "    lvl2ids = client.chunkedgraph.get_leaves(segid, stop_layer=2)\n",
    "    l2attrs = client.l2cache.get_l2data(lvl2ids,['size_nm3'])\n",
    "    \n",
    "    v = []\n",
    "    for i in l2attrs.values():\n",
    "        if len(i) >0:\n",
    "            j = i['size_nm3']\n",
    "            v.append(j)\n",
    "    volumes = np.array(v)\n",
    "\n",
    "    tot_vol_um3 = np.sum(volumes)/(1000*1000*1000)\n",
    "    \n",
    "    l2attrs_area = client.l2cache.get_l2data(lvl2ids,['area_nm2'])\n",
    "    \n",
    "    v = []\n",
    "    for i in l2attrs_area.values():\n",
    "        if len(i) >0:\n",
    "            j = i['area_nm2']\n",
    "            v.append(j)\n",
    "    areas = np.array(v).astype(float)\n",
    "\n",
    "    tot_area_um2 = np.sum(areas)/(1000*1000)\n",
    "    \n",
    "    return tot_vol_um3, tot_area_um2\n",
    "\n",
    "def get_lvl2_size_metrics_1call(segid, dataset_name = 'fanc_production_mar2021'):\n",
    "    dataset = dataset_name\n",
    "    client = CAVEclient(dataset)\n",
    "    \n",
    "    lvl2ids = client.chunkedgraph.get_leaves(segid, stop_layer=2)\n",
    "    l2attrs = client.l2cache.get_l2data(lvl2ids,['size_nm3','area_nm2'])\n",
    "    \n",
    "    v = []\n",
    "    for i in l2attrs.values():\n",
    "        if len(i) >0:\n",
    "            j = i['size_nm3']\n",
    "            v.append(j)\n",
    "    volumes = np.array(v)\n",
    "\n",
    "    tot_vol_um3 = np.sum(volumes)/(1000*1000*1000)\n",
    "    \n",
    "    # l2attrs_area = client.l2cache.get_l2data(lvl2ids,['area_nm2'])\n",
    "    \n",
    "    v = []\n",
    "    for i in l2attrs.values():\n",
    "        if len(i) >0:\n",
    "            j = i['area_nm2']\n",
    "            v.append(j)\n",
    "    areas = np.array(v).astype(float)\n",
    "\n",
    "    tot_area_um2 = np.sum(areas)/(1000*1000)\n",
    "    \n",
    "    return tot_vol_um3, tot_area_um2\n",
    "\n",
    "def get_avg_linear_density(segid, soma_loc, vxl_res = [4.3,4.3,45]):\n",
    "    nrn = pcg_skel.coord_space_meshwork(\n",
    "    root_id=segid,\n",
    "    client=client,\n",
    "    root_point=soma_loc, #sets soma point as root\n",
    "    root_point_resolution=vxl_res,\n",
    "    collapse_soma=True,\n",
    "    collapse_radius=10000,\n",
    "    synapses=\"all\",\n",
    "    synapse_table=\"synapses_jan2022\", #stores all the pre and post synapses as annotations\n",
    "    )\n",
    "    \n",
    "    input_syn = nrn.anno.post_syn.df.shape[0]\n",
    "    \n",
    "    rho = nrn.linear_density(nrn.anno.post_syn.skel_index, 100, normalize=True, exclude_root=False)\n",
    "    \n",
    "    return np.mean(rho), input_syn\n"
   ]
  },
  {
   "attachments": {},
   "cell_type": "markdown",
   "id": "7cd1fc01",
   "metadata": {},
   "source": [
    "Extracting volume and surface area - these steps take a few minutes to run on all the motor neurons "
   ]
  },
  {
   "cell_type": "code",
   "execution_count": null,
   "id": "d27cfb2e",
   "metadata": {},
   "outputs": [],
   "source": [
    "mn_vols = []\n",
    "mn_areas = []\n",
    "\n",
    "for i in mn_ids:\n",
    "    print(i)\n",
    "    # v, a = get_lvl2_size_metrics(i)\n",
    "    v, a = get_lvl2_size_metrics_1call(i)\n",
    "    \n",
    "    mn_vols.append(v)\n",
    "    mn_areas.append(a)\n",
    "\n",
    "left_mn_df['total_volume_um3'] = mn_vols\n",
    "left_mn_df['total_area_um2'] = mn_areas"
   ]
  },
  {
   "attachments": {},
   "cell_type": "markdown",
   "id": "1f131a8e",
   "metadata": {},
   "source": [
    "# Fixed somas"
   ]
  },
  {
   "cell_type": "code",
   "execution_count": null,
   "id": "2842bb7f",
   "metadata": {},
   "outputs": [],
   "source": [
    "df = pd.read_pickle('./data/leg_MN_fixed_somas_051923.pkl')"
   ]
  },
  {
   "cell_type": "code",
   "execution_count": null,
   "id": "ced16656",
   "metadata": {},
   "outputs": [],
   "source": [
    "df.set_index('id',inplace=True)"
   ]
  },
  {
   "cell_type": "code",
   "execution_count": null,
   "id": "7ccd0e98",
   "metadata": {},
   "outputs": [],
   "source": [
    "t1_mns_df = client.materialize.query_table('motor_neuron_table_v7')\n",
    "mn_index = connectome_create.mn_multi_index(t1_mns_df)"
   ]
  },
  {
   "cell_type": "code",
   "execution_count": null,
   "id": "5f6eccd5",
   "metadata": {},
   "outputs": [],
   "source": [
    "mnmi_df = mn_index.to_frame()\n",
    "mnmi_df.index = t1_mns_df.id\n",
    "\n",
    "size_df = pd.merge(left = mnmi_df,right=df,left_index=True,right_index=True)"
   ]
  },
  {
   "cell_type": "code",
   "execution_count": null,
   "id": "af417b68",
   "metadata": {},
   "outputs": [],
   "source": [
    "size_df =size_df.reset_index(drop=False).set_index(['side','nerve','segment','function','muscle','rank','segID'])"
   ]
  },
  {
   "cell_type": "code",
   "execution_count": null,
   "id": "38a0b1ba",
   "metadata": {},
   "outputs": [],
   "source": [
    "size_df.columns"
   ]
  },
  {
   "cell_type": "code",
   "execution_count": null,
   "id": "9f2f11cf",
   "metadata": {},
   "outputs": [],
   "source": [
    "# find just the left ones\n",
    "left_mn_df = left_mn_df.join(size_df[['nonsoma_volume_um3','nonsoma_area_um2', 'soma_volume_um3', 'soma_area_um2','total_area_fixed_um', 'total_volume_fixed_um']],how='left')\n",
    "# left_mn_df['total_volume_um3'] = ,'total_volume_fixed_um']\n",
    "# # left_mn_df['total_area_um2'] = mn_areas\n",
    "# left_mn_df['total_volume_um3'] = left_mn_df['nonsoma_volume_um3']+left_mn_df['soma_volume_um3']\n",
    "# left_mn_df['total_area_um2'] = left_mn_df['nonsoma_area_um2']+left_mn_df['soma_area_um2']"
   ]
  },
  {
   "attachments": {},
   "cell_type": "markdown",
   "id": "615adc7c",
   "metadata": {},
   "source": [
    "# Check some numbers"
   ]
  },
  {
   "cell_type": "code",
   "execution_count": null,
   "metadata": {},
   "outputs": [],
   "source": [
    "left_mn_df\n",
    "\n",
    "x = utils.xticks_from_mnmi(left_mn_df.index.to_frame())\n",
    "x = utils.xticks_from_pools(left_mn_df.index.to_frame())\n",
    "lbls = utils.mn_labels(left_mn_df.index.to_frame(),depth='rank')\n",
    "\n",
    "# y = left_mn_df.total_volume_um3\n",
    "y = left_mn_df.total_volume_fixed_um\n",
    "\n",
    "fig = plt.figure(1, figsize=(12, 2))\n",
    "ax1 = plt.subplot2grid((1,1),(0,0))\n",
    "\n",
    "ax1.scatter(x, y,marker='o')\n",
    "plt.sca(ax1)\n",
    "plt.title('Volume')\n",
    "plt.xlabel('MN')\n",
    "plt.ylabel('Volume')\n",
    "locs, labels = plt.xticks(ticks=x, labels=lbls, rotation=90)\n",
    "plt.savefig('./figpanels/volume_per_mn.svg',format='svg')"
   ]
  },
  {
   "cell_type": "code",
   "execution_count": null,
   "id": "47e1255a",
   "metadata": {},
   "outputs": [],
   "source": [
    "left_mn_df\n",
    "\n",
    "# x = utils.xticks_from_mnmi(left_mn_df.index.to_frame())\n",
    "# lbls = utils.mn_labels(left_mn_df.index.to_frame(),depth='rank')\n",
    "\n",
    "x = left_mn_df.total_volume_um3\n",
    "y = left_mn_df.total_volume_fixed_um\n",
    "\n",
    "fig = plt.figure(1, figsize=(6, 6))\n",
    "ax1 = plt.subplot2grid((1,1),(0,0))\n",
    "\n",
    "ax1.scatter(x, y,marker='o')\n",
    "ax1.plot([0,left_mn_df.total_volume_um3.max()],[0,left_mn_df.total_volume_um3.max()])\n",
    "plt.sca(ax1)\n",
    "plt.title('Volume')\n",
    "plt.xlabel('Volume')\n",
    "plt.ylabel('Volume fixed')\n",
    "# locs, labels = plt.xticks(ticks=x, labels=lbls, rotation=90)\n",
    "# plt.savefig('./figpanels/volume_per_mn.svg',format='svg')"
   ]
  },
  {
   "cell_type": "code",
   "execution_count": null,
   "id": "e871c2d9",
   "metadata": {},
   "outputs": [],
   "source": [
    "left_mn_df\n",
    "\n",
    "# x = utils.xticks_from_mnmi(left_mn_df.index.to_frame())\n",
    "# lbls = utils.mn_labels(left_mn_df.index.to_frame(),depth='rank')\n",
    "\n",
    "x = left_mn_df.total_area_um2\n",
    "y = left_mn_df.total_area_fixed_um\n",
    "\n",
    "fig = plt.figure(1, figsize=(6, 6))\n",
    "ax1 = plt.subplot2grid((1,1),(0,0))\n",
    "\n",
    "ax1.scatter(x, y,marker='o')\n",
    "ax1.plot([0,left_mn_df.total_area_um2.max()],[0,left_mn_df.total_area_um2.max()])\n",
    "plt.sca(ax1)\n",
    "plt.title('Area')\n",
    "plt.xlabel('l2 area')\n",
    "plt.ylabel('Area fixed')\n",
    "# locs, labels = plt.xticks(ticks=x, labels=lbls, rotation=90)\n",
    "# plt.savefig('./figpanels/volume_per_mn.svg',format='svg')"
   ]
  },
  {
   "cell_type": "code",
   "execution_count": null,
   "id": "20e0b740",
   "metadata": {},
   "outputs": [],
   "source": [
    "left_mn_df.iloc[[44]]"
   ]
  },
  {
   "attachments": {},
   "cell_type": "markdown",
   "id": "6a53d16c",
   "metadata": {},
   "source": [
    "# Per cell"
   ]
  },
  {
   "attachments": {},
   "cell_type": "markdown",
   "id": "1d2e150f",
   "metadata": {},
   "source": [
    "## Volume"
   ]
  },
  {
   "cell_type": "code",
   "execution_count": null,
   "id": "e9c5ca82",
   "metadata": {},
   "outputs": [],
   "source": [
    "\n",
    "def xticks_from_pools(mn_mi):\n",
    "    pool_keys = [\n",
    "        'thorax_swing',\n",
    "        'thorax_stance',\n",
    "        'trochanter_extension',\n",
    "        'trochanter_flexion',\n",
    "        'femur_reductor',\n",
    "        'tibia_extensor',\n",
    "        'main_tibia_flexor',\n",
    "        # 'auxiliary_tibia_flexor_A',\n",
    "        'auxiliary_tibia_flexor_B',\n",
    "        'auxiliary_tibia_flexor_E',\n",
    "        'ltm',\n",
    "        'tarsus_depressor'\n",
    "        ]\n",
    "    muscle_tuple_dict = utils.get_motor_pool_tuple_dict()\n",
    "    x =[]\n",
    "    cnt = 0\n",
    "    curkey = ''\n",
    "\n",
    "    for pk in pool_keys:\n",
    "        x = x + [cnt + i for i in range(mn_mi.loc[muscle_tuple_dict[pk]].shape[0])]\n",
    "        cnt = x[-1] + 2\n",
    "\n",
    "    return x"
   ]
  },
  {
   "cell_type": "code",
   "execution_count": null,
   "id": "bc47146a",
   "metadata": {},
   "outputs": [],
   "source": [
    "left_mn_df\n",
    "\n",
    "x = utils.xticks_from_mnmi(left_mn_df.index.to_frame())\n",
    "x = utils.xticks_from_pools(left_mn_df.index.to_frame())\n",
    "lbls = utils.mn_labels(left_mn_df.index.to_frame(),depth='rank')\n",
    "\n",
    "y = left_mn_df.total_volume_um3\n",
    "\n",
    "fig = plt.figure(1, figsize=(12, 2))\n",
    "ax1 = plt.subplot2grid((1,1),(0,0))\n",
    "\n",
    "ax1.scatter(x, y,marker='o')\n",
    "plt.sca(ax1)\n",
    "plt.title('Volume')\n",
    "plt.xlabel('MN')\n",
    "plt.ylabel('Volume')\n",
    "locs, labels = plt.xticks(ticks=x, labels=lbls, rotation=90)\n",
    "plt.savefig('./figpanels/volume_per_mn.svg',format='svg')"
   ]
  },
  {
   "cell_type": "code",
   "execution_count": null,
   "id": "dfd913b6",
   "metadata": {},
   "outputs": [],
   "source": [
    "left_mn_df\n",
    "\n",
    "x = utils.xticks_from_mnmi(left_mn_df.index.to_frame())\n",
    "x = utils.xticks_from_pools(left_mn_df.index.to_frame())\n",
    "lbls = utils.mn_labels(left_mn_df.index.to_frame(),depth='rank')\n",
    "\n",
    "y = left_mn_df.total_area_um2\n",
    "\n",
    "fig = plt.figure(1, figsize=(12, 2))\n",
    "ax1 = plt.subplot2grid((1,1),(0,0))\n",
    "\n",
    "ax1.scatter(x, y,marker='o')\n",
    "plt.sca(ax1)\n",
    "plt.title('Surface Area')\n",
    "plt.xlabel('MN')\n",
    "plt.ylabel('Surface area')\n",
    "locs, labels = plt.xticks(ticks=x, labels=lbls, rotation=90)\n",
    "plt.savefig('./figpanels/volume_per_mn.svg',format='svg')"
   ]
  },
  {
   "cell_type": "code",
   "execution_count": null,
   "id": "6ee82857",
   "metadata": {},
   "outputs": [],
   "source": [
    "left_mn_df"
   ]
  },
  {
   "attachments": {},
   "cell_type": "markdown",
   "id": "e45020d0",
   "metadata": {},
   "source": [
    "# Regress Synapses vs volume   "
   ]
  },
  {
   "cell_type": "code",
   "execution_count": null,
   "id": "de72943a",
   "metadata": {},
   "outputs": [],
   "source": [
    "left_mn_ordered_df = connectome_create.load_pre_to_mn_df(ext='matched_typed_with_nt')\n",
    "left_mn_ordered_df = connectome_create.load_pre_to_mn_df(ext='ordered')\n",
    "\n",
    "# Double check the order of the neurons\n",
    "x = utils.xticks_from_mnmi(left_mn_ordered_df.columns.to_frame())\n",
    "# x = utils.xticks_from_pools(left_mn_ordered_df.columns.to_frame())\n",
    "lbls = utils.mn_labels(left_mn_ordered_df.columns.to_frame(),depth='rank')\n",
    "mat = left_mn_ordered_df.to_numpy()\n",
    "y = mat.sum(axis=0)\n",
    "\n",
    "fig = plt.figure(1, figsize=(20, 6))\n",
    "ax1 = plt.subplot2grid((1,1),(0,0))\n",
    "\n",
    "ax1.scatter(x, y,marker='o')\n",
    "plt.sca(ax1)\n",
    "plt.title('Number of descending neurons connected to each MN')\n",
    "plt.xlabel('MN')\n",
    "plt.ylabel('Number of inputs')\n",
    "locs, labels = plt.xticks(ticks=x, labels=lbls, rotation=90)\n",
    "\n",
    "plt.savefig('./figpanels/total_inputs.svg',format='svg')"
   ]
  },
  {
   "cell_type": "code",
   "execution_count": null,
   "id": "843648a3",
   "metadata": {},
   "outputs": [],
   "source": [
    "left_mn_ordered_df"
   ]
  },
  {
   "cell_type": "code",
   "execution_count": null,
   "id": "bbd726ce",
   "metadata": {},
   "outputs": [],
   "source": [
    "x = left_mn_df.total_volume_um3\n",
    "x = x.to_numpy()\n",
    "mat = left_mn_ordered_df.to_numpy()\n",
    "y = mat.sum(axis=0)\n",
    "left_mn_df['total_syn'] = y"
   ]
  },
  {
   "cell_type": "code",
   "execution_count": null,
   "id": "1440cd6a",
   "metadata": {},
   "outputs": [],
   "source": [
    "from sklearn.linear_model import LinearRegression\n",
    "\n",
    "y_ = y.reshape((-1,1))\n",
    "# y_ = local_y.to_numpy().reshape((-1,1))\n",
    "x_ = x.reshape((-1,1))\n",
    "\n",
    "reg = LinearRegression().fit(x_, y_)\n",
    "\n",
    "fit = reg.predict(np.array([0,x_.max()]).reshape((-1,1)))\n",
    "\n",
    "\n",
    "cat_pal = {\n",
    "    'thorax_swing': '#A502AA',\n",
    "    'thorax_stance': '#00A2B4',\n",
    "    'trochanter_extension': '#D5CB6C',\n",
    "    'trochanter_flexion': '#3F42A2',\n",
    "    'femur_reductor': '#FF0000',\n",
    "    'tibia_extensor': '#CC8544',\n",
    "    'main_tibia_flexor': '#2E3191',\n",
    "    'auxiliary_tibia_flexor_B': '#2DB515',\n",
    "    'auxiliary_tibia_flexor_E': '#156005',\n",
    "    'ltm': '#FFF100',\n",
    "    'tarsus_depressor_med_venU': '#CECECE',\n",
    "    'tarsus_depressor_noid': '#CECECE',\n",
    "}\n",
    "\n",
    "# cat_pal = {\n",
    "#     'thorax_swing': '#000000',\n",
    "#     'thorax_stance': '#000000',\n",
    "#     'trochanter_extension': '#000000',\n",
    "#     'trochanter_flexion': '#000000',\n",
    "#     'femur_reductor': '#000000',\n",
    "#     'tibia_extensor': '#CC8544',\n",
    "#     'main_tibia_flexor': '#2E3191',\n",
    "#     'auxiliary_tibia_flexor_B': '#2DB515',\n",
    "#     'auxiliary_tibia_flexor_E': '#156005',\n",
    "#     'ltm': '#000000',\n",
    "#     'tarsus_depressor_med_venU': '#000000',\n",
    "#     'tarsus_depressor_noid': '#000000',\n",
    "# }\n",
    "\n",
    "fig, ax = plt.subplots( 1, 1, figsize=(8,8))\n",
    "\n",
    "# palette=utils.white_dense()\n",
    "\n",
    "sns.scatterplot(data=left_mn_df, x=\"total_volume_um3\", y=\"total_syn\", hue=\"preferred_pool\",palette = cat_pal,ax=ax)\n",
    "ax.plot(np.array([0,x_.max()]).reshape((-1,1)),fit)\n",
    "fig.savefig('./figpanels/synapses_v_volume.svg',format='svg')"
   ]
  },
  {
   "cell_type": "code",
   "execution_count": null,
   "id": "873fb2e1",
   "metadata": {},
   "outputs": [],
   "source": [
    "# x = left_mn_df.total_area_um2\n",
    "x = left_mn_df.total_area_fixed_um\n",
    "x = x.to_numpy()\n",
    "mat = left_mn_ordered_df.to_numpy()\n",
    "y = mat.sum(axis=0)\n",
    "left_mn_df['total_syn'] = y\n",
    "\n",
    "y_ = y.reshape((-1,1))\n",
    "# y_ = local_y.to_numpy().reshape((-1,1))\n",
    "x_ = x.reshape((-1,1))\n",
    "\n",
    "reg = LinearRegression().fit(x_, y_)\n",
    "\n",
    "fit = reg.predict(np.array([0,x_.max()]).reshape((-1,1)))\n",
    "\n",
    "\n",
    "cat_pal = {\n",
    "    'thorax_swing': '#A502AA',\n",
    "    'thorax_stance': '#00A2B4',\n",
    "    'trochanter_extension': '#D5CB6C',\n",
    "    'trochanter_flexion': '#3F42A2',\n",
    "    'femur_reductor': '#FF0000',\n",
    "    'tibia_extensor': '#CC8544',\n",
    "    'main_tibia_flexor': '#2E3191',\n",
    "    'auxiliary_tibia_flexor_B': '#2DB515',\n",
    "    'auxiliary_tibia_flexor_E': '#156005',\n",
    "    'ltm': '#FFF100',\n",
    "    'tarsus_depressor_med_venU': '#CECECE',\n",
    "    'tarsus_depressor_noid': '#CECECE',\n",
    "}\n",
    "\n",
    "# cat_pal = {\n",
    "#     'thorax_swing': '#000000',\n",
    "#     'thorax_stance': '#000000',\n",
    "#     'trochanter_extension': '#000000',\n",
    "#     'trochanter_flexion': '#000000',\n",
    "#     'femur_reductor': '#000000',\n",
    "#     'tibia_extensor': '#CC8544',\n",
    "#     'main_tibia_flexor': '#2E3191',\n",
    "#     'auxiliary_tibia_flexor_B': '#2DB515',\n",
    "#     'auxiliary_tibia_flexor_E': '#156005',\n",
    "#     'ltm': '#000000',\n",
    "#     'tarsus_depressor_med_venU': '#000000',\n",
    "#     'tarsus_depressor_noid': '#000000',\n",
    "# }\n",
    "\n",
    "fig, ax = plt.subplots( 1, 1, figsize=(8,8))\n",
    "\n",
    "# palette=utils.white_dense()\n",
    "\n",
    "sns.scatterplot(data=left_mn_df, x=\"total_area_fixed_um\", y=\"total_syn\", hue=\"preferred_pool\",palette = cat_pal,ax=ax)\n",
    "ax.plot(np.array([0,x_.max()]).reshape((-1,1)),fit)\n",
    "ax.set_xlim([0,50000])\n",
    "ax.set_ylim([0,15000])\n",
    "fig.savefig('./figpanels/synapses_v_area.svg',format='svg')"
   ]
  },
  {
   "cell_type": "code",
   "execution_count": null,
   "id": "7619d6d5",
   "metadata": {},
   "outputs": [],
   "source": [
    "reg.coef_"
   ]
  },
  {
   "cell_type": "code",
   "execution_count": null,
   "id": "a6a9294e",
   "metadata": {},
   "outputs": [],
   "source": [
    "reg.score(x_,y_)"
   ]
  },
  {
   "cell_type": "code",
   "execution_count": null,
   "id": "d043b19a",
   "metadata": {},
   "outputs": [],
   "source": [
    "reg.score(x_[40:44,0].reshape((-1,1)),y_[40:44,0].reshape((-1,1)))"
   ]
  },
  {
   "cell_type": "code",
   "execution_count": null,
   "id": "ef5e0692",
   "metadata": {},
   "outputs": [],
   "source": [
    "# left_mn_df.iloc[38:45]"
   ]
  },
  {
   "cell_type": "code",
   "execution_count": null,
   "id": "9c89bdbb",
   "metadata": {},
   "outputs": [],
   "source": [
    "from scipy.stats import pearsonr\n",
    "\n",
    "pearsonr(x,left_mn_df['total_syn'].to_numpy().reshape((-1,1)))"
   ]
  },
  {
   "cell_type": "code",
   "execution_count": null,
   "id": "440f70f0",
   "metadata": {},
   "outputs": [],
   "source": [
    "reg.get_params()"
   ]
  },
  {
   "attachments": {},
   "cell_type": "markdown",
   "id": "6a2341a3",
   "metadata": {},
   "source": [
    "# Plot Volume vs. Surface Area\n"
   ]
  },
  {
   "cell_type": "code",
   "execution_count": null,
   "id": "a5df3735",
   "metadata": {},
   "outputs": [],
   "source": [
    "x = left_mn_df.total_area_fixed_um\n",
    "x = x.to_numpy()\n",
    "mat = left_mn_ordered_df.to_numpy()\n",
    "y = left_mn_df.total_volume_um3.to_numpy()\n",
    "\n",
    "\n",
    "y_ = y.reshape((-1,1))\n",
    "# y_ = local_y.to_numpy().reshape((-1,1))\n",
    "x_ = x.reshape((-1,1))\n",
    "\n",
    "reg = LinearRegression().fit(x_, y_)\n",
    "\n",
    "fit = reg.predict(np.array([0,x_.max()]).reshape((-1,1)))\n",
    "\n",
    "\n",
    "cat_pal = {\n",
    "    'thorax_swing': '#A502AA',\n",
    "    'thorax_stance': '#00A2B4',\n",
    "    'trochanter_extension': '#D5CB6C',\n",
    "    'trochanter_flexion': '#3F42A2',\n",
    "    'femur_reductor': '#FF0000',\n",
    "    'tibia_extensor': '#CC8544',\n",
    "    'main_tibia_flexor': '#2E3191',\n",
    "    'auxiliary_tibia_flexor_B': '#2DB515',\n",
    "    'auxiliary_tibia_flexor_E': '#156005',\n",
    "    'ltm': '#FFF100',\n",
    "    'tarsus_depressor_med_venU': '#CECECE',\n",
    "    'tarsus_depressor_noid': '#CECECE',\n",
    "}\n",
    "\n",
    "# cat_pal = {\n",
    "#     'thorax_swing': '#000000',\n",
    "#     'thorax_stance': '#000000',\n",
    "#     'trochanter_extension': '#000000',\n",
    "#     'trochanter_flexion': '#000000',\n",
    "#     'femur_reductor': '#000000',\n",
    "#     'tibia_extensor': '#CC8544',\n",
    "#     'main_tibia_flexor': '#2E3191',\n",
    "#     'auxiliary_tibia_flexor_B': '#2DB515',\n",
    "#     'auxiliary_tibia_flexor_E': '#156005',\n",
    "#     'ltm': '#000000',\n",
    "#     'tarsus_depressor_med_venU': '#000000',\n",
    "#     'tarsus_depressor_noid': '#000000',\n",
    "# }\n",
    "\n",
    "fig, ax = plt.subplots( 1, 1, figsize=(8,8))\n",
    "\n",
    "# palette=utils.white_dense()\n",
    "\n",
    "sns.scatterplot(data=left_mn_df, x=\"total_area_um2\", y=\"total_volume_um3\", hue=\"preferred_pool\",palette = cat_pal,ax=ax)\n",
    "ax.plot(np.array([0,x_.max()]).reshape((-1,1)),fit)\n",
    "fig.savefig('./figpanels/volume_v_area.svg',format='svg')"
   ]
  },
  {
   "cell_type": "code",
   "execution_count": null,
   "id": "cf61f95b",
   "metadata": {},
   "outputs": [],
   "source": [
    "left_mn_df.iloc[0:10,:]"
   ]
  },
  {
   "cell_type": "code",
   "execution_count": null,
   "id": "ab253b90",
   "metadata": {},
   "outputs": [],
   "source": [
    "reg.coef_"
   ]
  },
  {
   "cell_type": "code",
   "execution_count": null,
   "id": "b7ec77b4",
   "metadata": {},
   "outputs": [],
   "source": [
    "reg.score(x_,y_)"
   ]
  },
  {
   "cell_type": "code",
   "execution_count": null,
   "id": "0d697d67",
   "metadata": {},
   "outputs": [],
   "source": [
    "reg.score(x_[40:44,0].reshape((-1,1)),y_[40:44,0].reshape((-1,1)))"
   ]
  },
  {
   "cell_type": "code",
   "execution_count": null,
   "id": "7a236a42",
   "metadata": {},
   "outputs": [],
   "source": [
    "# left_mn_df.iloc[38:45]"
   ]
  },
  {
   "cell_type": "code",
   "execution_count": null,
   "id": "b92d8cf3",
   "metadata": {},
   "outputs": [],
   "source": [
    "from scipy.stats import pearsonr\n",
    "\n",
    "pearsonr(x,y.reshape((-1,1)))"
   ]
  },
  {
   "cell_type": "code",
   "execution_count": null,
   "id": "b38850dd",
   "metadata": {},
   "outputs": [],
   "source": [
    "reg.get_params()"
   ]
  },
  {
   "attachments": {},
   "cell_type": "markdown",
   "id": "0f41d0ae",
   "metadata": {},
   "source": [
    "## Just local"
   ]
  },
  {
   "cell_type": "code",
   "execution_count": null,
   "id": "f0f078c6",
   "metadata": {},
   "outputs": [],
   "source": [
    "local_y = left_mn_ordered_df.loc['local'].sum(axis=0)\n",
    "left_mn_df['local_syn'] = local_y"
   ]
  },
  {
   "cell_type": "code",
   "execution_count": null,
   "id": "40511ab1",
   "metadata": {},
   "outputs": [],
   "source": [
    "from sklearn.linear_model import LinearRegression\n",
    "\n",
    "# y_ = y.reshape((-1,1))\n",
    "y_ = local_y.to_numpy().reshape((-1,1))\n",
    "x_ = x.reshape((-1,1))\n",
    "\n",
    "reg = LinearRegression().fit(x_, y_)\n",
    "\n",
    "fit = reg.predict(np.array([0,x_.max()]).reshape((-1,1)))\n",
    "\n",
    "\n",
    "cat_pal = {\n",
    "    'thorax_swing': '#A502AA',\n",
    "    'thorax_stance': '#00A2B4',\n",
    "    'trochanter_extension': '#D5CB6C',\n",
    "    'trochanter_flexion': '#3F42A2',\n",
    "    'femur_reductor': '#FF0000',\n",
    "    'tibia_extensor': '#CC8544',\n",
    "    'main_tibia_flexor': '#2E3191',\n",
    "    'auxiliary_tibia_flexor_B': '#2DB515',\n",
    "    'auxiliary_tibia_flexor_E': '#156005',\n",
    "    'ltm': '#FFF100',\n",
    "    'tarsus_depressor_med_venU': '#CECECE',\n",
    "    'tarsus_depressor_noid': '#CECECE',\n",
    "}\n",
    "\n",
    "# cat_pal = {\n",
    "#     'thorax_swing': '#000000',\n",
    "#     'thorax_stance': '#000000',\n",
    "#     'trochanter_extension': '#000000',\n",
    "#     'trochanter_flexion': '#000000',\n",
    "#     'femur_reductor': '#000000',\n",
    "#     'tibia_extensor': '#CC8544',\n",
    "#     'main_tibia_flexor': '#2E3191',\n",
    "#     'auxiliary_tibia_flexor_B': '#2DB515',\n",
    "#     'auxiliary_tibia_flexor_E': '#156005',\n",
    "#     'ltm': '#000000',\n",
    "#     'tarsus_depressor_med_venU': '#000000',\n",
    "#     'tarsus_depressor_noid': '#000000',\n",
    "# }\n",
    "\n",
    "fig, ax = plt.subplots( 1, 1, figsize=(8,8))\n",
    "\n",
    "# palette=utils.white_dense()\n",
    "\n",
    "sns.scatterplot(data=left_mn_df, x=\"total_volume_um3\", y=\"local_syn\", hue=\"preferred_pool\",palette = cat_pal,ax=ax)\n",
    "ax.plot(np.array([0,x_.max()]).reshape((-1,1)),fit)\n",
    "fig.savefig('./figpanels/synapses_v_volume.svg',format='svg')"
   ]
  },
  {
   "cell_type": "code",
   "execution_count": null,
   "id": "662ab05f",
   "metadata": {},
   "outputs": [],
   "source": [
    "reg.coef_"
   ]
  },
  {
   "cell_type": "code",
   "execution_count": null,
   "id": "8b49cdef",
   "metadata": {},
   "outputs": [],
   "source": [
    "reg.score(x_,y_)"
   ]
  },
  {
   "cell_type": "code",
   "execution_count": null,
   "id": "f42f2e46",
   "metadata": {},
   "outputs": [],
   "source": [
    "reg.score(x_[40:44,0].reshape((-1,1)),y_[40:44,0].reshape((-1,1)))"
   ]
  },
  {
   "cell_type": "code",
   "execution_count": null,
   "id": "b83ccb1d",
   "metadata": {},
   "outputs": [],
   "source": [
    "# left_mn_df.iloc[38:45]"
   ]
  },
  {
   "cell_type": "code",
   "execution_count": null,
   "id": "d6c851f1",
   "metadata": {},
   "outputs": [],
   "source": [
    "from scipy.stats import pearsonr\n",
    "\n",
    "pearsonr(x,left_mn_df['local_syn'].to_numpy().reshape((-1,1)))"
   ]
  },
  {
   "cell_type": "code",
   "execution_count": null,
   "id": "f254d043",
   "metadata": {},
   "outputs": [],
   "source": [
    "reg.get_params()"
   ]
  },
  {
   "attachments": {},
   "cell_type": "markdown",
   "id": "9bb96294",
   "metadata": {},
   "source": [
    "## Just pools the module connectivity"
   ]
  },
  {
   "cell_type": "code",
   "execution_count": null,
   "id": "1a4d155b",
   "metadata": {},
   "outputs": [],
   "source": [
    "import utils\n",
    "mpool_dict = utils.get_motor_pool_tuple_dict()\n",
    "pool_keys = [\n",
    "    'thorax_swing',\n",
    "    'thorax_stance',\n",
    "    'trochanter_extension', \n",
    "    # 'tergotrochanter',          \n",
    "    # 'extracoxal_trochanter_depressor',\n",
    "    # 'trochanter_extensor',\n",
    "    'trochanter_flexion',\n",
    "    'femur_reductor',\n",
    "    'tibia_extensor',\n",
    "    'main_tibia_flexor_wtarsus',\n",
    "    'auxiliary_tibia_flexor_B_wtarsus',\n",
    "    'auxiliary_tibia_flexor_E_wtarsus',\n",
    "    # 'main_tibia_flexor',      # main_tibia_flexor for both main and A groups, or main_tibia_flexor_muscle for the muscle\n",
    "    # 'auxiliary_tibia_flexor_B',\n",
    "    # 'auxiliary_tibia_flexor_E',\n",
    "    'ltm',\n",
    "    #'ltm_tiny_small',\n",
    "    #'ltm_tibia',\n",
    "    #'ltm_femur',\n",
    "    'tarsus_depressor_med_venU',\n",
    "    # 'tarsus_depressor_noid',\n",
    "    ]\n",
    "\n",
    "pref_pool_dict = {\n",
    "    'thorax_swing': 'thorax_swing',\n",
    "    'thorax_stance': 'thorax_stance',\n",
    "    'trochanter_extension': 'trochanter_extension',\n",
    "    'tergotrochanter': 'trochanter_extension',\n",
    "    'extracoxal_trochanter_depressor' : 'trochanter_extension',\n",
    "    'trochanter_extensor': 'trochanter_extension',\n",
    "    'trochanter_flexion': 'trochanter_flexion',\n",
    "    'femur_reductor':  'femur_reductor',\n",
    "    'tibia_extensor': 'tibia_extensor',\n",
    "    'main_tibia_flexor_wtarsus': 'main_tibia_flexor',\n",
    "    'auxiliary_tibia_flexor_B_wtarsus': 'auxiliary_tibia_flexor_B',\n",
    "    'auxiliary_tibia_flexor_E_wtarsus':  'auxiliary_tibia_flexor_E',\n",
    "    'ltm': 'ltm',\n",
    "    'ltm_tiny_small': 'ltm',\n",
    "    'ltm_tibia': 'ltm',\n",
    "    'ltm_femur': 'ltm',\n",
    "    'tarsus_depressor_med_venU': 'tarsus_depressor_med_venU',\n",
    "}\n",
    "fname = './figpanels/PCA_leg_modules_pct.svg'\n",
    "# pre_to_mn_df.head()\n",
    "# mpool_dict\n",
    "\n",
    "pool_inputs_dict = {}\n",
    "pool_vol_dict = {}\n",
    "left_mn_df['pool_syn'] = 0\n",
    "local_df = left_mn_ordered_df.loc['local']\n",
    "\n",
    "for pool in pool_keys:\n",
    "    syn = local_df.loc[pref_pool_dict[pool],mpool_dict[pool]]\n",
    "    print(syn.shape)\n",
    "\n",
    "    pool_inputs_dict[pool] = syn.sum(axis=0)\n",
    "    left_mn_df.loc[mpool_dict[pool],'pool_syn'] = syn.sum(axis=0)\n"
   ]
  },
  {
   "cell_type": "code",
   "execution_count": null,
   "id": "1eea9047",
   "metadata": {},
   "outputs": [],
   "source": [
    "from sklearn.linear_model import LinearRegression\n",
    "\n",
    "# y_ = y.reshape((-1,1))\n",
    "y_ = left_mn_df['pool_syn'].to_numpy().reshape((-1,1))\n",
    "x_ = x.reshape((-1,1))\n",
    "\n",
    "reg = LinearRegression().fit(x_, y_)\n",
    "\n",
    "fit = reg.predict(np.array([0,x_.max()]).reshape((-1,1)))\n",
    "\n",
    "cat_pal = {\n",
    "    'thorax_swing': '#A502AA',\n",
    "    'thorax_stance': '#00A2B4',\n",
    "    'trochanter_extension': '#D5CB6C',\n",
    "    'trochanter_flexion': '#3F42A2',\n",
    "    'femur_reductor': '#FF0000',\n",
    "    'tibia_extensor': '#CC8544',\n",
    "    'main_tibia_flexor': '#2E3191',\n",
    "    'auxiliary_tibia_flexor_B': '#2DB515',\n",
    "    'auxiliary_tibia_flexor_E': '#156005',\n",
    "    'ltm': '#FFF100',\n",
    "    'tarsus_depressor_med_venU': '#CECECE',\n",
    "    'tarsus_depressor_noid': '#CECECE',\n",
    "}\n",
    "\n",
    "fig, ax = plt.subplots( 1, 1, figsize=(8,8))\n",
    "\n",
    "# palette=utils.white_dense()\n",
    "\n",
    "sns.scatterplot(data=left_mn_df, x=\"total_volume_um3\", y=\"pool_syn\", hue=\"preferred_pool\",palette = cat_pal,ax=ax)\n",
    "ax.plot(np.array([0,x_.max()]).reshape((-1,1)),fit)\n",
    "fig.savefig('./figpanels/synapses_v_volume.svg',format='svg')"
   ]
  },
  {
   "cell_type": "code",
   "execution_count": null,
   "id": "32c173ca",
   "metadata": {},
   "outputs": [],
   "source": [
    "reg.coef_"
   ]
  },
  {
   "cell_type": "code",
   "execution_count": null,
   "id": "e7feeae3",
   "metadata": {},
   "outputs": [],
   "source": [
    "reg.score(x_,y_)"
   ]
  },
  {
   "cell_type": "code",
   "execution_count": null,
   "id": "91ff12a7",
   "metadata": {},
   "outputs": [],
   "source": [
    "reg.score(x_[40:44,0].reshape((-1,1)),y_[40:44,0].reshape((-1,1)))"
   ]
  },
  {
   "cell_type": "code",
   "execution_count": null,
   "id": "c88a5449",
   "metadata": {},
   "outputs": [],
   "source": [
    "# left_mn_df.iloc[38:45]"
   ]
  },
  {
   "cell_type": "code",
   "execution_count": null,
   "id": "b14b9159",
   "metadata": {},
   "outputs": [],
   "source": [
    "from scipy.stats import pearsonr\n",
    "\n",
    "pearsonr(x,left_mn_df['pool_syn'].to_numpy().reshape((-1,1)))"
   ]
  },
  {
   "cell_type": "code",
   "execution_count": null,
   "id": "eefa3c9a",
   "metadata": {},
   "outputs": [],
   "source": [
    "reg.get_params()"
   ]
  },
  {
   "cell_type": "code",
   "execution_count": null,
   "id": "2d479126",
   "metadata": {},
   "outputs": [],
   "source": []
  },
  {
   "attachments": {},
   "cell_type": "markdown",
   "id": "b0cad1c5",
   "metadata": {},
   "source": [
    "## While at it, plot fraction of local input from preMNs that prefer that pool"
   ]
  },
  {
   "cell_type": "code",
   "execution_count": null,
   "id": "87c4e6d6",
   "metadata": {},
   "outputs": [],
   "source": [
    "left_mn_df"
   ]
  },
  {
   "cell_type": "code",
   "execution_count": null,
   "id": "80e1764c",
   "metadata": {},
   "outputs": [],
   "source": [
    "local_syns = left_mn_df.loc[:,['local_syn','pool_syn']].copy()\n",
    "local_syns['nonpool_syn'] = left_mn_df.loc[:,'local_syn']-left_mn_df.loc[:,'pool_syn']\n",
    "local_syns.loc[:,'pool_syn'] = local_syns.loc[:,'pool_syn']/left_mn_df.loc[:,'local_syn']\n",
    "local_syns.loc[:,'nonpool_syn'] = local_syns.loc[:,'nonpool_syn']/left_mn_df.loc[:,'local_syn']\n",
    "local_syns  = local_syns.loc[:,['pool_syn','nonpool_syn']]"
   ]
  },
  {
   "cell_type": "code",
   "execution_count": null,
   "id": "3b00d49f",
   "metadata": {},
   "outputs": [],
   "source": [
    "colors = [\"#7D688E\",  \"#CC9FCC\",    \"#6084CC\",  \"#93E5B6\",  \"#79D0F7\",        \"#dddddd\", ]\n",
    "cmap = sns.set_palette(sns.color_palette(colors))\n",
    "\n",
    "# ax = frac_df.T.plot(x='x',kind='barh', stacked=True, legend = True,align='edge') \n",
    "ax = local_syns.plot(kind='bar', stacked=True, legend = False,width=1,cmap=cmap,figsize=(30,6)) \n",
    "# Most of them are pretty close to 1\n",
    "\n",
    "# ax = frac_df.iloc[::-1].T.plot(x='x',kind='bar', stacked=True, legend = True) #, color=['aqua','red', 'steelblue','orange','yellow'])\n",
    "# locs, labels = plt.xticks(ticks=[i for i in range(len(lbls))], labels=lbls, rotation=90)\n",
    "plt.savefig('./figpanels/input_from_prefpreMNs.svg',format='svg')"
   ]
  },
  {
   "attachments": {},
   "cell_type": "markdown",
   "id": "c6e80772",
   "metadata": {},
   "source": [
    "## Intersegmental"
   ]
  },
  {
   "cell_type": "code",
   "execution_count": null,
   "id": "5ebbf020",
   "metadata": {},
   "outputs": [],
   "source": [
    "inter_y = left_mn_ordered_df.loc['intersegmental'].sum(axis=0)\n",
    "left_mn_df['inter_syn'] = inter_y\n",
    "from sklearn.linear_model import LinearRegression\n",
    "\n",
    "# y_ = y.reshape((-1,1))\n",
    "y_ = inter_y.to_numpy().reshape((-1,1))\n",
    "x_ = x.reshape((-1,1))\n",
    "\n",
    "reg = LinearRegression().fit(x_, y_)\n",
    "\n",
    "fit = reg.predict(np.array([0,x_.max()]).reshape((-1,1)))\n",
    "\n",
    "fig, ax = plt.subplots( 1, 1, figsize=(8,8))\n",
    "\n",
    "# palette=utils.white_dense()\n",
    "\n",
    "sns.scatterplot(data=left_mn_df, x=\"total_volume_um3\", y=\"inter_syn\", hue=\"preferred_pool\",palette = cat_pal,ax=ax)\n",
    "ax.plot(np.array([0,x_.max()]).reshape((-1,1)),fit)\n",
    "fig.savefig('./figpanels/inter_synapses_v_volume.svg',format='svg')\n",
    "\n",
    "print(reg.coef_)\n",
    "\n",
    "print(reg.score(x_,y_))\n",
    "# reg.score(x_[40:44,0].reshape((-1,1)),y_[40:44,0].reshape((-1,1)))\n",
    "# left_mn_df.iloc[38:45]\n",
    "\n",
    "print(pearsonr(x,left_mn_df['inter_syn'].to_numpy().reshape((-1,1))))\n"
   ]
  },
  {
   "attachments": {},
   "cell_type": "markdown",
   "id": "e2eefced",
   "metadata": {},
   "source": [
    "## Descending"
   ]
  },
  {
   "cell_type": "code",
   "execution_count": null,
   "id": "3c0fc3c0",
   "metadata": {},
   "outputs": [],
   "source": [
    "desc_y = left_mn_ordered_df.loc['descending'].sum(axis=0)\n",
    "left_mn_df['desc_syn'] = desc_y\n",
    "from sklearn.linear_model import LinearRegression\n",
    "\n",
    "# y_ = y.reshape((-1,1))\n",
    "y_ = desc_y.to_numpy().reshape((-1,1))\n",
    "x_ = x.reshape((-1,1))\n",
    "\n",
    "reg = LinearRegression().fit(x_, y_)\n",
    "\n",
    "fit = reg.predict(np.array([0,x_.max()]).reshape((-1,1)))\n",
    "\n",
    "fig, ax = plt.subplots( 1, 1, figsize=(8,8))\n",
    "\n",
    "# palette=utils.white_dense()\n",
    "\n",
    "sns.scatterplot(data=left_mn_df, x=\"total_volume_um3\", y=\"desc_syn\", hue=\"preferred_pool\",palette = cat_pal,ax=ax)\n",
    "ax.plot(np.array([0,x_.max()]).reshape((-1,1)),fit)\n",
    "fig.savefig('./figpanels/desc_synapses_v_volume.svg',format='svg')\n",
    "\n",
    "print(reg.coef_)\n",
    "\n",
    "print(reg.score(x_,y_))\n",
    "# reg.score(x_[40:44,0].reshape((-1,1)),y_[40:44,0].reshape((-1,1)))\n",
    "# left_mn_df.iloc[38:45]\n",
    "\n",
    "print(pearsonr(x,left_mn_df['desc_syn'].to_numpy().reshape((-1,1))))\n"
   ]
  },
  {
   "attachments": {},
   "cell_type": "markdown",
   "id": "cdc3d69a",
   "metadata": {},
   "source": [
    "## Ascending"
   ]
  },
  {
   "cell_type": "code",
   "execution_count": null,
   "id": "eebcb79c",
   "metadata": {},
   "outputs": [],
   "source": [
    "asc_y = left_mn_ordered_df.loc['ascending'].sum(axis=0)\n",
    "left_mn_df['asc_syn'] = asc_y\n",
    "from sklearn.linear_model import LinearRegression\n",
    "\n",
    "# y_ = y.reshape((-1,1))\n",
    "y_ = asc_y.to_numpy().reshape((-1,1))\n",
    "x_ = x.reshape((-1,1))\n",
    "\n",
    "reg = LinearRegression().fit(x_, y_)\n",
    "\n",
    "fit = reg.predict(np.array([0,x_.max()]).reshape((-1,1)))\n",
    "\n",
    "fig, ax = plt.subplots( 1, 1, figsize=(8,8))\n",
    "\n",
    "# palette=utils.white_dense()\n",
    "\n",
    "sns.scatterplot(data=left_mn_df, x=\"total_volume_um3\", y=\"asc_syn\", hue=\"preferred_pool\",palette = cat_pal,ax=ax)\n",
    "ax.plot(np.array([0,x_.max()]).reshape((-1,1)),fit)\n",
    "fig.savefig('./figpanels/asc_synapses_v_volume.svg',format='svg')\n",
    "\n",
    "print(reg.coef_)\n",
    "\n",
    "print(reg.score(x_,y_))\n",
    "# reg.score(x_[40:44,0].reshape((-1,1)),y_[40:44,0].reshape((-1,1)))\n",
    "# left_mn_df.iloc[38:45]\n",
    "\n",
    "print(pearsonr(x,left_mn_df['asc_syn'].to_numpy().reshape((-1,1))))\n"
   ]
  },
  {
   "attachments": {},
   "cell_type": "markdown",
   "id": "5405cb17",
   "metadata": {},
   "source": [
    "## Sensory"
   ]
  },
  {
   "cell_type": "code",
   "execution_count": null,
   "id": "e0a2020c",
   "metadata": {},
   "outputs": [],
   "source": [
    "sens_y = left_mn_ordered_df.loc['sensory'].sum(axis=0)\n",
    "left_mn_df['sens_syn'] = sens_y\n",
    "from sklearn.linear_model import LinearRegression\n",
    "\n",
    "# y_ = y.reshape((-1,1))\n",
    "y_ = sens_y.to_numpy().reshape((-1,1))\n",
    "x_ = x.reshape((-1,1))\n",
    "\n",
    "reg = LinearRegression().fit(x_, y_)\n",
    "\n",
    "fit = reg.predict(np.array([0,x_.max()]).reshape((-1,1)))\n",
    "\n",
    "fig, ax = plt.subplots( 1, 1, figsize=(8,8))\n",
    "\n",
    "# palette=utils.white_dense()\n",
    "\n",
    "sns.scatterplot(data=left_mn_df, x=\"total_volume_um3\", y=\"sens_syn\", hue=\"preferred_pool\",palette = cat_pal,ax=ax)\n",
    "ax.plot(np.array([0,x_.max()]).reshape((-1,1)),fit)\n",
    "fig.savefig('./figpanels/asc_synapses_v_volume.svg',format='svg')\n",
    "\n",
    "print(reg.coef_)\n",
    "\n",
    "print(reg.score(x_,y_))\n",
    "# reg.score(x_[40:44,0].reshape((-1,1)),y_[40:44,0].reshape((-1,1)))\n",
    "# left_mn_df.iloc[38:45]\n",
    "\n",
    "print(pearsonr(x,left_mn_df['sens_syn'].to_numpy().reshape((-1,1))))\n"
   ]
  },
  {
   "attachments": {},
   "cell_type": "markdown",
   "id": "8e6d0a00",
   "metadata": {},
   "source": [
    "# Surface Area"
   ]
  },
  {
   "cell_type": "code",
   "execution_count": null,
   "id": "dd242adf",
   "metadata": {},
   "outputs": [],
   "source": [
    "x = utils.xticks_from_mnmi(left_mn_df.index.to_frame())\n",
    "lbls = utils.mn_labels(left_mn_df.index.to_frame(),depth='rank')\n",
    "\n",
    "y = left_mn_df.total_area_um2\n",
    "\n",
    "fig = plt.figure(1, figsize=(20, 6))\n",
    "ax1 = plt.subplot2grid((1,1),(0,0))\n",
    "\n",
    "ax1.scatter(x, y)\n",
    "plt.sca(ax1)\n",
    "plt.title('Surface Area')\n",
    "plt.xlabel('MN')\n",
    "plt.ylabel('surface area')\n",
    "locs, labels = plt.xticks(ticks=x, labels=lbls, rotation=90)"
   ]
  },
  {
   "attachments": {},
   "cell_type": "markdown",
   "id": "35d6b5f1",
   "metadata": {},
   "source": [
    "## Linear density"
   ]
  },
  {
   "cell_type": "code",
   "execution_count": null,
   "id": "29eecf38",
   "metadata": {},
   "outputs": [],
   "source": [
    "mn_lin_densities = []\n",
    "mn_syn = []\n",
    "\n",
    "for i in mn_ids:\n",
    "    print(i)\n",
    "    soma_loc = left_mn_df.query('pt_root_id == @i').pt_position.iloc[0]\n",
    "    a,s = get_avg_linear_density(i, soma_loc)\n",
    "    mn_lin_densities.append(a)\n",
    "    mn_syn.append(s)\n",
    "\n",
    "left_mn_df['avg_linear_density'] = mn_lin_densities\n",
    "left_mn_df['input_syn_count'] = mn_syn"
   ]
  },
  {
   "cell_type": "code",
   "execution_count": null,
   "id": "a693e0a9",
   "metadata": {},
   "outputs": [],
   "source": [
    "x = utils.xticks_from_mnmi(left_mn_df.index.to_frame())\n",
    "lbls = utils.mn_labels(left_mn_df.index.to_frame(),depth='rank')\n",
    "\n",
    "y = left_mn_df.avg_linear_density\n",
    "\n",
    "fig = plt.figure(1, figsize=(20, 6))\n",
    "ax1 = plt.subplot2grid((1,1),(0,0))\n",
    "\n",
    "ax1.scatter(x, y)\n",
    "plt.sca(ax1)\n",
    "plt.title('Average linear density')\n",
    "plt.xlabel('MN')\n",
    "plt.ylabel('linear density')\n",
    "locs, labels = plt.xticks(ticks=x, labels=lbls, rotation=90)"
   ]
  },
  {
   "cell_type": "code",
   "execution_count": null,
   "id": "73455efe",
   "metadata": {},
   "outputs": [],
   "source": [
    "test_id = left_mn_df.loc[muscle_tuple_dict['tibia_extensor']]\n",
    "test_id = test_id.iloc[1].pt_root_id\n",
    "test_id"
   ]
  },
  {
   "cell_type": "code",
   "execution_count": null,
   "id": "b9ca5439",
   "metadata": {},
   "outputs": [],
   "source": [
    "\n",
    "single_df = left_mn_df.query('pt_root_id == @test_id')\n",
    "soma_loc = single_df.pt_position[0]"
   ]
  },
  {
   "cell_type": "code",
   "execution_count": null,
   "id": "1b624872",
   "metadata": {},
   "outputs": [],
   "source": [
    "nrn = pcg_skel.coord_space_meshwork(\n",
    "    root_id=test_id,\n",
    "    client=client,\n",
    "    root_point=soma_loc, #sets soma point as root\n",
    "    root_point_resolution=[4.3, 4.3, 45],\n",
    "    collapse_soma=True,\n",
    "    collapse_radius=10000,\n",
    "    synapses=\"all\",\n",
    "    synapse_table=\"synapses_jan2022\", #stores all the pre and post synapses as annotations\n",
    ")"
   ]
  },
  {
   "cell_type": "code",
   "execution_count": null,
   "id": "4970b5f8",
   "metadata": {},
   "outputs": [],
   "source": [
    "simple_neuron_plot(nrn, projection='yz',highlight_root=True)"
   ]
  },
  {
   "attachments": {},
   "cell_type": "markdown",
   "id": "b983322e",
   "metadata": {},
   "source": [
    "# To test out and visualize one neuron"
   ]
  },
  {
   "cell_type": "code",
   "execution_count": null,
   "id": "73455efe",
   "metadata": {},
   "outputs": [],
   "source": [
    "test_id = left_mn_df.loc[muscle_tuple_dict['tibia_extensor']]\n",
    "test_id = test_id.iloc[1].pt_root_id\n",
    "test_id\n"
   ]
  },
  {
   "cell_type": "code",
   "execution_count": null,
   "id": "1044f995",
   "metadata": {},
   "outputs": [],
   "source": [
    "mn_inputs = client.materialize.synapse_query(post_ids = test_id,timestamp=connectome_create.get_timestamp())"
   ]
  },
  {
   "cell_type": "code",
   "execution_count": null,
   "id": "f4bda242",
   "metadata": {},
   "outputs": [],
   "source": [
    "single_df = left_mn_df.query('pt_root_id == @test_id')\n",
    "soma_loc = single_df.pt_position[0]\n",
    "\n",
    "nrn = pcg_skel.coord_space_meshwork(\n",
    "    root_id=test_id,\n",
    "    client=client,\n",
    "    root_point=soma_loc, #sets soma point as root\n",
    "    root_point_resolution=[4.3, 4.3, 45],\n",
    "    collapse_soma=True,\n",
    "    collapse_radius=10000,\n",
    "    synapses=\"all\",\n",
    "    synapse_table=\"synapses_jan2022\", #stores all the pre and post synapses as annotations\n",
    ")"
   ]
  },
  {
   "cell_type": "code",
   "execution_count": null,
   "id": "fe478415",
   "metadata": {},
   "outputs": [],
   "source": [
    "rho = nrn.linear_density(nrn.anno.post_syn.skel_index, 100, normalize=True, exclude_root=False)"
   ]
  },
  {
   "cell_type": "code",
   "execution_count": null,
   "id": "310fe198",
   "metadata": {},
   "outputs": [],
   "source": [
    "simple_neuron_plot(nrn, projection='yz',synapses='post', highlight_root=True)"
   ]
  },
  {
   "cell_type": "code",
   "execution_count": null,
   "id": "ecfac837",
   "metadata": {},
   "outputs": [],
   "source": [
    "plt.hist(rho, bins=100)"
   ]
  },
  {
   "cell_type": "code",
   "execution_count": null,
   "id": "f0e11199",
   "metadata": {},
   "outputs": [],
   "source": [
    "ma = trimesh_vtk.mesh_actor(nrn.mesh, vertex_colors=(1000*rho-0.5))\n",
    "trimesh_vtk.render_actors([ma])"
   ]
  },
  {
   "cell_type": "code",
   "execution_count": null,
   "id": "418a20ba",
   "metadata": {},
   "outputs": [],
   "source": [
    "fig, ax = plt.subplots(figsize=(4,4), dpi=150)\n",
    "\n",
    "v1 = nrn.mesh.vertices[:,2]\n",
    "v2 = nrn.mesh.vertices[:,1]\n",
    "rid = nrn.root_region\n",
    "color = rho*1000\n",
    "ax.scatter(\n",
    "    v1,\n",
    "    v2,\n",
    "    s=1,\n",
    "    c=color,\n",
    "    vmin=0.0, vmax = 0.1\n",
    ")\n",
    "\n",
    "\n",
    "ax.scatter(\n",
    "    v1[rid],\n",
    "    v2[rid],\n",
    "    s=15,\n",
    "    color='violet',\n",
    ")\n",
    "\n",
    "ax.set_aspect('equal')\n",
    "\n",
    "flip = True\n",
    "if flip:\n",
    "    ax.invert_yaxis()"
   ]
  },
  {
   "cell_type": "code",
   "execution_count": null,
   "id": "d8d1dccd",
   "metadata": {},
   "outputs": [],
   "source": [
    "bundle = [i.split('_')[0] for i in mn_df.classification_system]\n",
    "mn_df['motor_bundle'] = bundle"
   ]
  },
  {
   "cell_type": "code",
   "execution_count": null,
   "id": "1b9868e1",
   "metadata": {},
   "outputs": [],
   "source": [
    "mn_df.motor_bundle.value_counts()"
   ]
  },
  {
   "attachments": {},
   "cell_type": "markdown",
   "id": "6861d3d8",
   "metadata": {},
   "source": [
    "### Figures for population wide metrics"
   ]
  },
  {
   "cell_type": "code",
   "execution_count": null,
   "id": "17496051",
   "metadata": {},
   "outputs": [],
   "source": [
    "fig = plt.figure(1, figsize =[10,6])\n",
    "\n",
    "\n",
    "sns.scatterplot('total_volume_um3', 'input_syn_count', data = mn_df,\n",
    "               hue = 'motor_bundle',alpha=0.8)\n",
    "\n",
    "plt.show()"
   ]
  },
  {
   "cell_type": "code",
   "execution_count": null,
   "id": "4122c9e8",
   "metadata": {},
   "outputs": [],
   "source": [
    "mn_df['coarse_syn_density'] = mn_df.input_syn_count/mn_df.total_volume_um3"
   ]
  },
  {
   "cell_type": "code",
   "execution_count": null,
   "id": "2c6b0a0a",
   "metadata": {},
   "outputs": [],
   "source": [
    "mn_df['soma_pt_nm'] = [i * np.array([4.3,4.3,45]) for i in mn_df.pt_position_soma]"
   ]
  },
  {
   "cell_type": "code",
   "execution_count": null,
   "id": "1286aeee",
   "metadata": {},
   "outputs": [],
   "source": [
    "fig = plt.figure(1, figsize =[10,6])\n",
    "\n",
    "\n",
    "sns.scatterplot('total_volume_um3', 'coarse_syn_density', data = mn_df,\n",
    "               hue='motor_bundle', alpha=0.8)\n",
    "\n",
    "plt.show()"
   ]
  },
  {
   "cell_type": "code",
   "execution_count": null,
   "id": "96f78203",
   "metadata": {},
   "outputs": [],
   "source": []
  }
 ],
 "metadata": {
  "kernelspec": {
   "display_name": "base",
   "language": "python",
   "name": "python3"
  },
  "language_info": {
   "codemirror_mode": {
    "name": "ipython",
    "version": 3
   },
   "file_extension": ".py",
   "mimetype": "text/x-python",
   "name": "python",
   "nbconvert_exporter": "python",
   "pygments_lexer": "ipython3",
   "version": "3.9.15"
  },
  "vscode": {
   "interpreter": {
    "hash": "2b93c3ce0f0b01938714f8d6ce3882059af39419bb08f14e121c5729b1321faa"
   }
  }
 },
 "nbformat": 4,
 "nbformat_minor": 5
}
