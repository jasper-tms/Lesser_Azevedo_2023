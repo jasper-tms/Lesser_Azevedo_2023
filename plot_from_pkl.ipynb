{
 "cells": [
  {
   "cell_type": "code",
   "execution_count": null,
   "metadata": {},
   "outputs": [],
   "source": [
    "# Recreate figure analyses and plots - does not require caveCLIENT permissions"
   ]
  },
  {
   "cell_type": "code",
   "execution_count": null,
   "metadata": {},
   "outputs": [],
   "source": [
    "# import packages\n",
    "import pandas as pd\n",
    "from matplotlib import pyplot,patches\n",
    "import matplotlib.pyplot as plt\n",
    "import numpy as np\n",
    "import seaborn as sns\n",
    "import cmocean"
   ]
  },
  {
   "cell_type": "code",
   "execution_count": null,
   "metadata": {},
   "outputs": [],
   "source": [
    "# import dataframe\n",
    "multi_df = pd.read_pickle('preMN_to_MN_wing_v604.pkl')\n",
    "properties_df = pd.read_pickle('wingMN_properties_v604.pkl')\n"
   ]
  },
  {
   "cell_type": "code",
   "execution_count": null,
   "metadata": {},
   "outputs": [],
   "source": [
    "# multi_df is already organized. Cosine similarity metrics are (re-)calculated below"
   ]
  },
  {
   "cell_type": "code",
   "execution_count": null,
   "metadata": {},
   "outputs": [],
   "source": [
    "# plotting code for wing premotor connectome\n",
    "source = multi_df\n",
    "\n",
    "fig = plt.figure(1, figsize = [7,12])\n",
    "sns.set(font_scale= 1)\n",
    "cmap = cmocean.cm.dense\n",
    "\n",
    "log_values = np.log10(source +1)\n",
    "pmn_ids = source.index.get_level_values(level='cell_class').to_list()\n",
    "mn_ids = source.columns.to_list()\n",
    "ax = sns.heatmap(log_values, vmin = 0, vmax = 3, xticklabels=mn_ids, yticklabels=pmn_ids, cmap = cmap)\n",
    "\n",
    "ax.xaxis.set_ticks_position('bottom')\n",
    "cbar = ax.collections[0].colorbar\n",
    "plt.title('wing premotor connectivity', size = 20)\n",
    "cbar.set_label(label = 'log 10 # of synapses', size=16)\n",
    "plt.xlabel('Wing MNs', size = 16)\n",
    "plt.ylabel('preMNs', size = 16)\n",
    "\n",
    "plt.show()"
   ]
  },
  {
   "cell_type": "code",
   "execution_count": null,
   "metadata": {},
   "outputs": [],
   "source": [
    "# plot proportions from each cell class\n",
    "df_by_cell_class = multi_df.groupby(level='cell_class').sum().T.rename_axis('MN_label').reset_index()\n",
    "\n",
    "dict_syn = dict(zip(properties_df.MN_label, properties_df.synapses_include_fragments))\n",
    "\n",
    "df_by_cell_class['synapses_with_fragments'] = df_by_cell_class.MN_label.map(dict_syn)\n",
    "\n",
    "# dataframe of proportions for plotting\n",
    "df_by_cell_class_proportions = df_by_cell_class[['local','local_intersegmental','descending','sensory','ascending']].divide(df_by_cell_class.synapses_with_fragments, axis=0)\n"
   ]
  },
  {
   "cell_type": "code",
   "execution_count": null,
   "metadata": {},
   "outputs": [],
   "source": [
    "df_by_cell_class_proportions.index = df_by_cell_class['MN_label']\n",
    "df_by_cell_class_proportions['fragment'] = df_by_cell_class_proportions.apply(\n",
    "    lambda x: 1 - (x['ascending'] + x['descending'] + x['sensory'] + x['local_intersegmental'] + x['local']), axis=1)\n"
   ]
  },
  {
   "cell_type": "code",
   "execution_count": null,
   "metadata": {},
   "outputs": [],
   "source": [
    "source = df_by_cell_class_proportions\n",
    "\n",
    "colors_cell_class = [\"#916e99\",\"#cea2fd\",\"#069af3\",\"#90e4c1\",\"#95d0fc\",\"#929591\", \"#650021\"]\n",
    "cmap_cell_class = sns.set_palette(sns.color_palette(colors_cell_class))\n",
    "\n",
    "#create stacked bar chart\n",
    "p = source.plot(kind='bar', stacked=True, width = 1, legend = False, cmap = cmap_cell_class, figsize=(7, 2)) \n",
    "\n",
    "p.set_ylabel(\"Proportion of synapses\",fontsize = 16)\n",
    "p.set(ylim=(0, 1))\n",
    "p.set_xlabel(\"wing MNs\", fontsize = 16)\n",
    "plt.box(on = False)\n",
    "\n",
    "plt.show()"
   ]
  },
  {
   "cell_type": "code",
   "execution_count": null,
   "metadata": {},
   "outputs": [],
   "source": [
    "# for all wing MNs combined\n",
    "df_by_cell_class['fragment'] = df_by_cell_class.apply(\n",
    "    lambda x: x['synapses_with_fragments'] - (x['ascending'] + x['descending'] + x['sensory'] + x['local_intersegmental'] + x['local']), axis=1)\n",
    "\n",
    "df_total = df_by_cell_class[['local','local_intersegmental','descending','sensory','ascending','fragment']].sum().divide(df_by_cell_class.synapses_with_fragments.sum(), axis=0) # right order\n"
   ]
  },
  {
   "cell_type": "code",
   "execution_count": null,
   "metadata": {},
   "outputs": [],
   "source": [
    "# plot for all wing MNs combined\n",
    "source = pd.DataFrame(df_total).T\n",
    "\n",
    "#create stacked bar chart\n",
    "p = source.plot(kind='bar', stacked=True, width = 1, legend = False, cmap = cmap_cell_class, figsize=(1, 4)) \n",
    "\n",
    "p.set_ylabel(\"Proportion of synapses\",fontsize = 16)\n",
    "p.set(ylim=(0, 1))\n",
    "p.set_xlabel(\"all wing MNs\", fontsize = 16)\n",
    "plt.box(on = False)\n",
    "\n",
    "plt.show()"
   ]
  },
  {
   "cell_type": "code",
   "execution_count": null,
   "metadata": {},
   "outputs": [],
   "source": [
    "df_total"
   ]
  }
 ],
 "metadata": {
  "kernelspec": {
   "display_name": ".fanc_env",
   "language": "python",
   "name": "python3"
  },
  "language_info": {
   "codemirror_mode": {
    "name": "ipython",
    "version": 3
   },
   "file_extension": ".py",
   "mimetype": "text/x-python",
   "name": "python",
   "nbconvert_exporter": "python",
   "pygments_lexer": "ipython3",
   "version": "3.9.6"
  },
  "orig_nbformat": 4
 },
 "nbformat": 4,
 "nbformat_minor": 2
}
