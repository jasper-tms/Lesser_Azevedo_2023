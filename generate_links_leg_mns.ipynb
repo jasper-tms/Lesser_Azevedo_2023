{
 "cells": [
  {
   "cell_type": "code",
   "execution_count": 1,
   "metadata": {},
   "outputs": [],
   "source": [
    "# generate links / json states programatically by cell type or anything, probably hack-y but it works\n",
    "from caveclient import CAVEclient\n",
    "import datetime\n",
    "import pandas as pd\n",
    "import numpy as np\n",
    "import json\n",
    "\n",
    "client = CAVEclient()\n",
    "datastack_name = 'fanc_production_mar2021'\n",
    "client = CAVEclient(datastack_name)\n",
    "client.materialize.version = 604\n",
    "timestamp = datetime.datetime.fromtimestamp(1685002201.254304)"
   ]
  },
  {
   "cell_type": "code",
   "execution_count": 2,
   "metadata": {},
   "outputs": [],
   "source": [
    "ngl_base = 'https://neuromancer-seung-import.appspot.com/' # this will point to the public bucket\n"
   ]
  },
  {
   "cell_type": "code",
   "execution_count": 3,
   "metadata": {},
   "outputs": [],
   "source": [
    "def make_json(name, seg_ids):\n",
    "    state = {\n",
    "        \"layers\": [\n",
    "            {\n",
    "            \"source\": \"graphene://https://cave.fanc-fly.com/segmentation/table/mar2021_prod\",\n",
    "            \"type\": \"segmentation_with_graph\",\n",
    "            \"selectedAlpha\": 0.3,\n",
    "            \"segments\": seg_ids,\n",
    "            \"skeletonRendering\": {\n",
    "                \"mode2d\": \"lines_and_points\",\n",
    "                \"mode3d\": \"lines\"\n",
    "            },\n",
    "            \"graphOperationMarker\": [\n",
    "                {\n",
    "                \"annotations\": [],\n",
    "                \"tags\": []\n",
    "                },\n",
    "                {\n",
    "                \"annotations\": [],\n",
    "                \"tags\": []\n",
    "                }\n",
    "            ],\n",
    "            \"pathFinder\": {\n",
    "                \"color\": \"#ffff00\",\n",
    "                \"pathObject\": {\n",
    "                \"annotationPath\": {\n",
    "                    \"annotations\": [],\n",
    "                    \"tags\": []\n",
    "                },\n",
    "                \"hasPath\": False\n",
    "                }\n",
    "            },\n",
    "            \"name\": name\n",
    "            },\n",
    "            {\n",
    "            \"type\": \"segmentation\",\n",
    "            \"mesh\": \"precomputed://gs://lee-lab_female-adult-nerve-cord/alignmentV4/volume_meshes/meshes\",\n",
    "            \"objectAlpha\": 0.1,\n",
    "            \"hideSegmentZero\": False,\n",
    "            \"ignoreSegmentInteractions\": True,\n",
    "            \"segmentColors\": {\n",
    "                \"1\": \"#bfbfbf\",\n",
    "                \"2\": \"#d343d6\"\n",
    "            },\n",
    "            \"segments\": [\n",
    "                \"1\",\n",
    "                \"2\"\n",
    "            ],\n",
    "            \"skeletonRendering\": {\n",
    "                \"mode2d\": \"lines_and_points\",\n",
    "                \"mode3d\": \"lines\"\n",
    "            },\n",
    "            \"name\": \"neuropil\"\n",
    "            }\n",
    "        ],\n",
    "        \"navigation\": {\n",
    "            \"pose\": {\n",
    "            \"position\": {\n",
    "                \"voxelSize\": [\n",
    "                4.300000190734863,\n",
    "                4.300000190734863,\n",
    "                45\n",
    "                ],\n",
    "                \"voxelCoordinates\": [\n",
    "                38930,\n",
    "                138652,\n",
    "                388\n",
    "                ]\n",
    "            }\n",
    "            },\n",
    "            \"zoomFactor\": 2\n",
    "        },\n",
    "        \"showAxisLines\": False,\n",
    "        \"showDefaultAnnotations\": False,\n",
    "        \"perspectiveOrientation\": [\n",
    "            0,\n",
    "            1,\n",
    "            0,\n",
    "            0\n",
    "        ],\n",
    "        \"perspectiveZoom\": 7704.152500126457,\n",
    "        \"showSlices\": False,\n",
    "        \"selectedLayer\": {\n",
    "            \"layer\": \"neuropil\"\n",
    "        },\n",
    "        \"layout\": {\n",
    "            \"type\": \"3d\",\n",
    "            \"orthographicProjection\": True\n",
    "        }\n",
    "        }\n",
    "\n",
    "    return state"
   ]
  },
  {
   "cell_type": "code",
   "execution_count": 114,
   "metadata": {},
   "outputs": [],
   "source": [
    "# import dataframe\n",
    "leg_df = pd.read_pickle('pre_to_mn_df_matched_typed_with_nt_v604_20230525.pkl')\n",
    "wing_df = pd.read_pickle('preMN_to_MN_wing_v604.pkl')"
   ]
  },
  {
   "cell_type": "code",
   "execution_count": 115,
   "metadata": {},
   "outputs": [
    {
     "name": "stdout",
     "output_type": "stream",
     "text": [
      "(1460, 69)\n",
      "(1460, 69)\n"
     ]
    }
   ],
   "source": [
    "print(leg_df.shape)\n",
    "leg_df = leg_df[leg_df.index.get_level_values('cell_type') != 'Gial_error']\n",
    "print(leg_df.shape)"
   ]
  },
  {
   "cell_type": "code",
   "execution_count": 116,
   "metadata": {},
   "outputs": [],
   "source": [
    "leg_df.to_pickle('pre_to_mn_df_matched_typed_with_nt_v604_20230526.pkl')"
   ]
  },
  {
   "attachments": {},
   "cell_type": "markdown",
   "metadata": {},
   "source": [
    "# Preferred pool for different classes neurons"
   ]
  },
  {
   "cell_type": "code",
   "execution_count": 87,
   "metadata": {},
   "outputs": [],
   "source": [
    "# Preferred pool for intersegmental neurons\n",
    "# generate a link based on a preferred_pool\n",
    "# local and intersegmental preMNs\n",
    "All = slice(None)\n",
    "leg_df = leg_df.loc[leg_df.index]\n",
    "\n",
    "cell_class = leg_df.index.get_level_values('cell_class').unique()\n",
    "idx = pd.IndexSlice\n",
    "for cc in cell_class:\n",
    "\n",
    "    class_df = leg_df.loc[idx[cc]]\n",
    "    pool_keys = class_df.index.get_level_values('preferred_pool').unique()\n",
    "\n",
    "    for pl in pool_keys:\n",
    "        seg_ids = class_df.loc[pl,:].index.get_level_values('segID')\n",
    "        formatted_ids = [str(x) for x in seg_ids]\n",
    "        \n",
    "        state = make_json(name = pl,\n",
    "                    seg_ids = formatted_ids)\n",
    "        new_id = client.state.upload_state_json(state)\n",
    "        client.state.build_neuroglancer_url(new_id, ngl_base)\n",
    "\n",
    "        # save json \n",
    "        with open('leg_jsons/{}_{}.json'.format(cc,pl), \"w\") as outfile:\n",
    "            json.dump(state, outfile)"
   ]
  },
  {
   "attachments": {},
   "cell_type": "markdown",
   "metadata": {},
   "source": [
    "# Make Jsons for hemilineages"
   ]
  },
  {
   "cell_type": "code",
   "execution_count": 119,
   "metadata": {},
   "outputs": [
    {
     "ename": "ValueError",
     "evalue": "Length mismatch: Expected axis has 1460 elements, new values have 1488 elements",
     "output_type": "error",
     "traceback": [
      "\u001b[1;31m---------------------------------------------------------------------------\u001b[0m",
      "\u001b[1;31mValueError\u001b[0m                                Traceback (most recent call last)",
      "Cell \u001b[1;32mIn[119], line 39\u001b[0m\n\u001b[0;32m     35\u001b[0m     leg_idx\u001b[39m.\u001b[39mloc[ct,\u001b[39m'\u001b[39m\u001b[39mcell_type\u001b[39m\u001b[39m'\u001b[39m] \u001b[39m=\u001b[39m cell_type_dict[ct]\n\u001b[0;32m     37\u001b[0m cell_types_ \u001b[39m=\u001b[39m leg_idx[\u001b[39m'\u001b[39m\u001b[39mcell_type\u001b[39m\u001b[39m'\u001b[39m]\u001b[39m.\u001b[39munique()\n\u001b[1;32m---> 39\u001b[0m leg_df\u001b[39m.\u001b[39;49mindex \u001b[39m=\u001b[39m pd\u001b[39m.\u001b[39mMultiIndex\u001b[39m.\u001b[39mfrom_frame(leg_idx)\n\u001b[0;32m     40\u001b[0m class_df \u001b[39m=\u001b[39m leg_df\u001b[39m.\u001b[39mloc[\u001b[39m'\u001b[39m\u001b[39mlocal\u001b[39m\u001b[39m'\u001b[39m]\n\u001b[0;32m     41\u001b[0m cell_types \u001b[39m=\u001b[39m class_df\u001b[39m.\u001b[39mindex\u001b[39m.\u001b[39mget_level_values(\u001b[39m'\u001b[39m\u001b[39mcell_type\u001b[39m\u001b[39m'\u001b[39m)\u001b[39m.\u001b[39munique()\u001b[39m.\u001b[39mto_numpy()\n",
      "File \u001b[1;32mc:\\Users\\tony\\miniconda3\\lib\\site-packages\\pandas\\core\\generic.py:5915\u001b[0m, in \u001b[0;36mNDFrame.__setattr__\u001b[1;34m(self, name, value)\u001b[0m\n\u001b[0;32m   5913\u001b[0m \u001b[39mtry\u001b[39;00m:\n\u001b[0;32m   5914\u001b[0m     \u001b[39mobject\u001b[39m\u001b[39m.\u001b[39m\u001b[39m__getattribute__\u001b[39m(\u001b[39mself\u001b[39m, name)\n\u001b[1;32m-> 5915\u001b[0m     \u001b[39mreturn\u001b[39;00m \u001b[39mobject\u001b[39;49m\u001b[39m.\u001b[39;49m\u001b[39m__setattr__\u001b[39;49m(\u001b[39mself\u001b[39;49m, name, value)\n\u001b[0;32m   5916\u001b[0m \u001b[39mexcept\u001b[39;00m \u001b[39mAttributeError\u001b[39;00m:\n\u001b[0;32m   5917\u001b[0m     \u001b[39mpass\u001b[39;00m\n",
      "File \u001b[1;32mc:\\Users\\tony\\miniconda3\\lib\\site-packages\\pandas\\_libs\\properties.pyx:69\u001b[0m, in \u001b[0;36mpandas._libs.properties.AxisProperty.__set__\u001b[1;34m()\u001b[0m\n",
      "File \u001b[1;32mc:\\Users\\tony\\miniconda3\\lib\\site-packages\\pandas\\core\\generic.py:823\u001b[0m, in \u001b[0;36mNDFrame._set_axis\u001b[1;34m(self, axis, labels)\u001b[0m\n\u001b[0;32m    821\u001b[0m \u001b[39mdef\u001b[39;00m \u001b[39m_set_axis\u001b[39m(\u001b[39mself\u001b[39m, axis: \u001b[39mint\u001b[39m, labels: AnyArrayLike \u001b[39m|\u001b[39m \u001b[39mlist\u001b[39m) \u001b[39m-\u001b[39m\u001b[39m>\u001b[39m \u001b[39mNone\u001b[39;00m:\n\u001b[0;32m    822\u001b[0m     labels \u001b[39m=\u001b[39m ensure_index(labels)\n\u001b[1;32m--> 823\u001b[0m     \u001b[39mself\u001b[39;49m\u001b[39m.\u001b[39;49m_mgr\u001b[39m.\u001b[39;49mset_axis(axis, labels)\n\u001b[0;32m    824\u001b[0m     \u001b[39mself\u001b[39m\u001b[39m.\u001b[39m_clear_item_cache()\n",
      "File \u001b[1;32mc:\\Users\\tony\\miniconda3\\lib\\site-packages\\pandas\\core\\internals\\managers.py:230\u001b[0m, in \u001b[0;36mBaseBlockManager.set_axis\u001b[1;34m(self, axis, new_labels)\u001b[0m\n\u001b[0;32m    228\u001b[0m \u001b[39mdef\u001b[39;00m \u001b[39mset_axis\u001b[39m(\u001b[39mself\u001b[39m, axis: \u001b[39mint\u001b[39m, new_labels: Index) \u001b[39m-\u001b[39m\u001b[39m>\u001b[39m \u001b[39mNone\u001b[39;00m:\n\u001b[0;32m    229\u001b[0m     \u001b[39m# Caller is responsible for ensuring we have an Index object.\u001b[39;00m\n\u001b[1;32m--> 230\u001b[0m     \u001b[39mself\u001b[39;49m\u001b[39m.\u001b[39;49m_validate_set_axis(axis, new_labels)\n\u001b[0;32m    231\u001b[0m     \u001b[39mself\u001b[39m\u001b[39m.\u001b[39maxes[axis] \u001b[39m=\u001b[39m new_labels\n",
      "File \u001b[1;32mc:\\Users\\tony\\miniconda3\\lib\\site-packages\\pandas\\core\\internals\\base.py:70\u001b[0m, in \u001b[0;36mDataManager._validate_set_axis\u001b[1;34m(self, axis, new_labels)\u001b[0m\n\u001b[0;32m     67\u001b[0m     \u001b[39mpass\u001b[39;00m\n\u001b[0;32m     69\u001b[0m \u001b[39melif\u001b[39;00m new_len \u001b[39m!=\u001b[39m old_len:\n\u001b[1;32m---> 70\u001b[0m     \u001b[39mraise\u001b[39;00m \u001b[39mValueError\u001b[39;00m(\n\u001b[0;32m     71\u001b[0m         \u001b[39mf\u001b[39m\u001b[39m\"\u001b[39m\u001b[39mLength mismatch: Expected axis has \u001b[39m\u001b[39m{\u001b[39;00mold_len\u001b[39m}\u001b[39;00m\u001b[39m elements, new \u001b[39m\u001b[39m\"\u001b[39m\n\u001b[0;32m     72\u001b[0m         \u001b[39mf\u001b[39m\u001b[39m\"\u001b[39m\u001b[39mvalues have \u001b[39m\u001b[39m{\u001b[39;00mnew_len\u001b[39m}\u001b[39;00m\u001b[39m elements\u001b[39m\u001b[39m\"\u001b[39m\n\u001b[0;32m     73\u001b[0m     )\n",
      "\u001b[1;31mValueError\u001b[0m: Length mismatch: Expected axis has 1460 elements, new values have 1488 elements"
     ]
    }
   ],
   "source": [
    "leg_df = pd.read_pickle('pre_to_mn_df_matched_typed_with_nt_v604_20230525.pkl')\n",
    "cell_type_dict = {\n",
    "    'RVD':'8A',\n",
    "    '8A_':'8A',\n",
    "    '16B_':'16B',\n",
    "    '16B_small':'16B',\n",
    "    'Rcore_':'8A',\n",
    "    '24B_':'15B',\n",
    "    '8A-':'8A',\n",
    "    '22A_':'22A',\n",
    "    '8A? 16B?':'16A',\n",
    "    '21A_':'19A',\n",
    "    '9Ac_':'9A',\n",
    "    '13B_':'13B',\n",
    "    '1B_':'1B',\n",
    "    '22A?':'22A',\n",
    "    'R0':'15B',\n",
    "    'R1':'8A',\n",
    "    'R2':'8A',\n",
    "    'R3':'8A',\n",
    "    'R4':'8A',\n",
    "    'R5':'8A',\n",
    "    'R6':'8A',\n",
    "    '4B_':'4B',\n",
    "    '4B-':'4B',\n",
    "    '4B+':'4B',\n",
    "    '14A_':'14A',\n",
    "    'RCore':'8A',\n",
    "    '8A- Rind':'8A',    \n",
    "    '8A+':'8A',\n",
    "}\n",
    "cell_types = leg_df.index.get_level_values('cell_type').unique().to_numpy()\n",
    "leg_idx = leg_df.index.to_frame().set_index('cell_type',drop=False)\n",
    "\n",
    "for ct in cell_type_dict.keys():\n",
    "    leg_idx.loc[ct,'cell_type'] = cell_type_dict[ct]\n",
    "\n",
    "cell_types_ = leg_idx['cell_type'].unique()\n",
    "\n",
    "leg_df.index = pd.MultiIndex.from_frame(leg_idx)\n",
    "class_df = leg_df.loc['local']\n",
    "cell_types = class_df.index.get_level_values('cell_type').unique().to_numpy()\n",
    "print(cell_types)\n",
    "# generate a link based on a hemilineage\n",
    "# local and intersegmental preMNs\n",
    "\n",
    "class_df = leg_df.loc['local']\n",
    "for ct in cell_types:\n",
    "    if type(ct) is not str and np.isnan(ct):\n",
    "        continue\n",
    "    seg_ids = class_df.loc[idx[:,:,:,ct],:].index.get_level_values('segID')\n",
    "    formatted_ids = [str(x) for x in seg_ids]\n",
    "    \n",
    "    state = make_json(name = ct,\n",
    "                seg_ids = formatted_ids)\n",
    "    new_id = client.state.upload_state_json(state)\n",
    "    client.state.build_neuroglancer_url(new_id, ngl_base)\n",
    "\n",
    "    # save json \n",
    "    with open('leg_jsons/{}.json'.format(ct), \"w\") as outfile:\n",
    "        json.dump(state, outfile)\n",
    "\n",
    "# seg_ids = class_df.loc[idx[:,:,:,ct],:].index.get_level_values('segID')\n",
    "# formatted_ids = [str(x) for x in seg_ids]\n",
    "\n",
    "# state = make_json(name = ct,\n",
    "#             seg_ids = formatted_ids)\n",
    "# new_id = client.state.upload_state_json(state)\n",
    "# client.state.build_neuroglancer_url(new_id, ngl_base)\n",
    "\n",
    "# # save json \n",
    "# with open('leg_jsons/{}.json'.format(ct), \"w\") as outfile:\n",
    "#     json.dump(state, outfile)"
   ]
  },
  {
   "cell_type": "code",
   "execution_count": 803,
   "metadata": {},
   "outputs": [
    {
     "data": {
      "text/plain": [
       "'https://neuromancer-seung-import.appspot.com/?json_url=https://global.daf-apis.com/nglstate/api/v1/5986275473489920'"
      ]
     },
     "execution_count": 803,
     "metadata": {},
     "output_type": "execute_result"
    }
   ],
   "source": [
    "# if you want a link\n",
    "client.state.build_neuroglancer_url(new_id, ngl_base)"
   ]
  },
  {
   "cell_type": "code",
   "execution_count": 812,
   "metadata": {},
   "outputs": [],
   "source": []
  }
 ],
 "metadata": {
  "kernelspec": {
   "display_name": ".fanc_env",
   "language": "python",
   "name": "python3"
  },
  "language_info": {
   "codemirror_mode": {
    "name": "ipython",
    "version": 3
   },
   "file_extension": ".py",
   "mimetype": "text/x-python",
   "name": "python",
   "nbconvert_exporter": "python",
   "pygments_lexer": "ipython3",
   "version": "3.9.15"
  },
  "orig_nbformat": 4
 },
 "nbformat": 4,
 "nbformat_minor": 2
}
